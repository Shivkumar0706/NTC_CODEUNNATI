{
 "cells": [
  {
   "cell_type": "markdown",
   "id": "38dbc949",
   "metadata": {},
   "source": [
    "# 1. NumPy Library"
   ]
  },
  {
   "cell_type": "code",
   "execution_count": 1,
   "id": "8a3474d0",
   "metadata": {},
   "outputs": [
    {
     "name": "stdout",
     "output_type": "stream",
     "text": [
      "Requirement already satisfied: numpy in c:\\users\\shiv\\anaconda3\\lib\\site-packages (1.21.5)\n",
      "Note: you may need to restart the kernel to use updated packages.\n"
     ]
    }
   ],
   "source": [
    "pip install numpy"
   ]
  },
  {
   "cell_type": "code",
   "execution_count": 2,
   "id": "d3945576",
   "metadata": {},
   "outputs": [
    {
     "name": "stdout",
     "output_type": "stream",
     "text": [
      "Package                       VersionNote: you may need to restart the kernel to use updated packages.\n",
      "\n",
      "----------------------------- --------------------\n",
      "aiohttp                       3.8.1\n",
      "aiosignal                     1.2.0\n",
      "alabaster                     0.7.12\n",
      "anaconda-client               1.9.0\n",
      "anaconda-navigator            2.1.4\n",
      "anaconda-project              0.10.2\n",
      "anyio                         3.5.0\n",
      "appdirs                       1.4.4\n",
      "argon2-cffi                   21.3.0\n",
      "argon2-cffi-bindings          21.2.0\n",
      "arrow                         1.2.2\n",
      "astroid                       2.6.6\n",
      "astropy                       5.0.4\n",
      "asttokens                     2.0.5\n",
      "async-timeout                 4.0.1\n",
      "atomicwrites                  1.4.0\n",
      "attrs                         21.4.0\n",
      "Automat                       20.2.0\n",
      "autopep8                      1.6.0\n",
      "Babel                         2.9.1\n",
      "backcall                      0.2.0\n",
      "backports.functools-lru-cache 1.6.4\n",
      "backports.tempfile            1.0\n",
      "backports.weakref             1.0.post1\n",
      "bcrypt                        3.2.0\n",
      "beautifulsoup4                4.11.1\n",
      "binaryornot                   0.4.4\n",
      "bitarray                      2.4.1\n",
      "bkcharts                      0.2\n",
      "black                         19.10b0\n",
      "bleach                        4.1.0\n",
      "bokeh                         2.4.2\n",
      "boto3                         1.21.32\n",
      "botocore                      1.24.32\n",
      "Bottleneck                    1.3.4\n",
      "brotlipy                      0.7.0\n",
      "cachetools                    4.2.2\n",
      "certifi                       2021.10.8\n",
      "cffi                          1.15.0\n",
      "chardet                       4.0.0\n",
      "charset-normalizer            2.0.4\n",
      "click                         8.0.4\n",
      "cloudpickle                   2.0.0\n",
      "clyent                        1.2.2\n",
      "colorama                      0.4.4\n",
      "colorcet                      2.0.6\n",
      "comtypes                      1.1.10\n",
      "conda                         4.14.0\n",
      "conda-build                   3.21.8\n",
      "conda-content-trust           0+unknown\n",
      "conda-pack                    0.6.0\n",
      "conda-package-handling        1.8.1\n",
      "conda-repo-cli                1.0.4\n",
      "conda-token                   0.3.0\n",
      "conda-verify                  3.4.2\n",
      "constantly                    15.1.0\n",
      "cookiecutter                  1.7.3\n",
      "cryptography                  3.4.8\n",
      "cssselect                     1.1.0\n",
      "cycler                        0.11.0\n",
      "Cython                        0.29.28\n",
      "cytoolz                       0.11.0\n",
      "daal4py                       2021.5.0\n",
      "dask                          2022.2.1\n",
      "datashader                    0.13.0\n",
      "datashape                     0.5.4\n",
      "debugpy                       1.5.1\n",
      "decorator                     5.1.1\n",
      "defusedxml                    0.7.1\n",
      "diff-match-patch              20200713\n",
      "distributed                   2022.2.1\n",
      "docutils                      0.17.1\n",
      "entrypoints                   0.4\n",
      "et-xmlfile                    1.1.0\n",
      "executing                     0.8.3\n",
      "fastjsonschema                2.15.1\n",
      "filelock                      3.6.0\n",
      "flake8                        3.9.2\n",
      "Flask                         1.1.2\n",
      "fonttools                     4.25.0\n",
      "frozenlist                    1.2.0\n",
      "fsspec                        2022.2.0\n",
      "future                        0.18.2\n",
      "gensim                        4.1.2\n",
      "glob2                         0.7\n",
      "google-api-core               1.25.1\n",
      "google-auth                   1.33.0\n",
      "google-cloud-core             1.7.1\n",
      "google-cloud-storage          1.31.0\n",
      "google-crc32c                 1.1.2\n",
      "google-resumable-media        1.3.1\n",
      "googleapis-common-protos      1.53.0\n",
      "greenlet                      1.1.1\n",
      "grpcio                        1.42.0\n",
      "h5py                          3.6.0\n",
      "HeapDict                      1.0.1\n",
      "holoviews                     1.14.8\n",
      "hvplot                        0.7.3\n",
      "hyperlink                     21.0.0\n",
      "idna                          3.3\n",
      "imagecodecs                   2021.8.26\n",
      "imageio                       2.9.0\n",
      "imagesize                     1.3.0\n",
      "importlib-metadata            4.11.3\n",
      "incremental                   21.3.0\n",
      "inflection                    0.5.1\n",
      "iniconfig                     1.1.1\n",
      "intake                        0.6.5\n",
      "intervaltree                  3.1.0\n",
      "ipykernel                     6.9.1\n",
      "ipython                       8.2.0\n",
      "ipython-genutils              0.2.0\n",
      "ipywidgets                    7.6.5\n",
      "isort                         5.9.3\n",
      "itemadapter                   0.3.0\n",
      "itemloaders                   1.0.4\n",
      "itsdangerous                  2.0.1\n",
      "jdcal                         1.4.1\n",
      "jedi                          0.18.1\n",
      "Jinja2                        2.11.3\n",
      "jinja2-time                   0.2.0\n",
      "jmespath                      0.10.0\n",
      "joblib                        1.1.0\n",
      "json5                         0.9.6\n",
      "jsonschema                    4.4.0\n",
      "jupyter                       1.0.0"
     ]
    }
   ],
   "source": [
    "pip list"
   ]
  },
  {
   "cell_type": "code",
   "execution_count": 3,
   "id": "9e9111bb",
   "metadata": {},
   "outputs": [
    {
     "name": "stdout",
     "output_type": "stream",
     "text": [
      "\n",
      "jupyter-client                6.1.12\n",
      "jupyter-console               6.4.0\n",
      "jupyter-core                  4.9.2\n",
      "jupyter-server                1.13.5\n",
      "jupyterlab                    3.3.2\n",
      "jupyterlab-pygments           0.1.2\n",
      "jupyterlab-server             2.10.3\n",
      "jupyterlab-widgets            1.0.0\n",
      "keyring                       23.4.0\n",
      "kiwisolver                    1.3.2\n",
      "lazy-object-proxy             1.6.0\n",
      "libarchive-c                  2.9\n",
      "llvmlite                      0.38.0\n",
      "locket                        0.2.1\n",
      "lxml                          4.8.0\n",
      "Markdown                      3.3.4\n",
      "MarkupSafe                    2.0.1\n",
      "matplotlib                    3.5.1\n",
      "matplotlib-inline             0.1.2\n",
      "mccabe                        0.6.1\n",
      "menuinst                      1.4.18\n",
      "mistune                       0.8.4\n",
      "mkl-fft                       1.3.1\n",
      "mkl-random                    1.2.2\n",
      "mkl-service                   2.4.0\n",
      "mock                          4.0.3\n",
      "mpmath                        1.2.1\n",
      "msgpack                       1.0.2\n",
      "multidict                     5.1.0\n",
      "multipledispatch              0.6.0\n",
      "munkres                       1.1.4\n",
      "mypy-extensions               0.4.3\n",
      "navigator-updater             0.2.1\n",
      "nbclassic                     0.3.5\n",
      "nbclient                      0.5.13\n",
      "nbconvert                     6.4.4\n",
      "nbformat                      5.3.0\n",
      "nest-asyncio                  1.5.5\n",
      "networkx                      2.7.1\n",
      "nltk                          3.7\n",
      "nose                          1.3.7\n",
      "notebook                      6.4.8\n",
      "numba                         0.55.1\n",
      "numexpr                       2.8.1\n",
      "numpy                         1.21.5\n",
      "numpydoc                      1.2\n",
      "olefile                       0.46\n",
      "openpyxl                      3.0.9\n",
      "packaging                     21.3\n",
      "pandas                        1.4.2\n",
      "pandocfilters                 1.5.0\n",
      "panel                         0.13.0\n",
      "param                         1.12.0\n",
      "paramiko                      2.8.1\n",
      "parsel                        1.6.0\n",
      "parso                         0.8.3\n",
      "partd                         1.2.0\n",
      "pathspec                      0.7.0\n",
      "patsy                         0.5.2\n",
      "pep8                          1.7.1\n",
      "pexpect                       4.8.0\n",
      "pickleshare                   0.7.5\n",
      "Pillow                        9.0.1\n",
      "pip                           21.2.4\n",
      "pkginfo                       1.8.2\n",
      "plotly                        5.6.0\n",
      "pluggy                        1.0.0\n",
      "poyo                          0.5.0\n",
      "prometheus-client             0.13.1\n",
      "prompt-toolkit                3.0.20\n",
      "Protego                       0.1.16\n",
      "protobuf                      3.19.1\n",
      "psutil                        5.8.0\n",
      "ptyprocess                    0.7.0\n",
      "pure-eval                     0.2.2\n",
      "py                            1.11.0\n",
      "pyasn1                        0.4.8\n",
      "pyasn1-modules                0.2.8\n",
      "pycodestyle                   2.7.0\n",
      "pycosat                       0.6.3\n",
      "pycparser                     2.21\n",
      "pyct                          0.4.6\n",
      "pycurl                        7.44.1\n",
      "PyDispatcher                  2.0.5\n",
      "pydocstyle                    6.1.1\n",
      "pyerfa                        2.0.0\n",
      "pyflakes                      2.3.1\n",
      "Pygments                      2.11.2\n",
      "PyHamcrest                    2.0.2\n",
      "PyJWT                         2.1.0\n",
      "pylint                        2.9.6\n",
      "pyls-spyder                   0.4.0\n",
      "PyNaCl                        1.4.0\n",
      "pyodbc                        4.0.32\n",
      "pyOpenSSL                     21.0.0\n",
      "pyparsing                     3.0.4\n",
      "pyreadline                    2.1\n",
      "pyrsistent                    0.18.0\n",
      "PySocks                       1.7.1\n",
      "pytest                        7.1.1\n",
      "python-dateutil               2.8.2\n",
      "python-lsp-black              1.0.0\n",
      "python-lsp-jsonrpc            1.0.0\n",
      "python-lsp-server             1.2.4\n",
      "python-slugify                5.0.2\n",
      "python-snappy                 0.6.0\n",
      "pytz                          2021.3\n",
      "pyviz-comms                   2.0.2\n",
      "PyWavelets                    1.3.0\n",
      "pywin32                       302\n",
      "pywin32-ctypes                0.2.0\n",
      "pywinpty                      2.0.2\n",
      "PyYAML                        6.0\n",
      "pyzmq                         22.3.0\n",
      "QDarkStyle                    3.0.2\n",
      "qstylizer                     0.1.10\n",
      "QtAwesome                     1.0.3\n",
      "qtconsole                     5.3.0\n",
      "QtPy                          2.0.1\n",
      "queuelib                      1.5.0\n",
      "regex                         2022.3.15\n",
      "requests                      2.27.1\n",
      "requests-file                 1.5.1\n",
      "rope                          0.22.0\n",
      "rsa                           4.7.2\n",
      "Rtree                         0.9.7\n",
      "ruamel-yaml-conda             0.15.100\n",
      "s3transfer                    0.5.0\n",
      "scikit-image                  0.19.2\n",
      "scikit-learn                  1.0.2\n",
      "scikit-learn-intelex          2021.20220215.102710\n",
      "scipy                         1.7.3\n",
      "Scrapy                        2.6.1\n",
      "seaborn                       0.11.2\n",
      "Send2Trash                    1.8.0\n",
      "service-identity              18.1.0\n",
      "setuptools                    61.2.0\n",
      "sip                           4.19.13\n",
      "six                           1.16.0\n",
      "smart-open                    5.1.0\n",
      "sniffio                       1.2.0\n",
      "snowballstemmer               2.2.0\n",
      "sortedcollections             2.1.0\n",
      "sortedcontainers              2.4.0\n",
      "soupsieve                     2.3.1\n",
      "Sphinx                        4.4.0\n",
      "sphinxcontrib-applehelp       1.0.2\n",
      "sphinxcontrib-devhelp         1.0.2\n",
      "sphinxcontrib-htmlhelp        2.0.0\n",
      "sphinxcontrib-jsmath          1.0.1\n",
      "sphinxcontrib-qthelp          1.0.3\n",
      "sphinxcontrib-serializinghtml 1.1.5\n",
      "spyder                        5.1.5\n",
      "spyder-kernels                2.1.3\n",
      "SQLAlchemy                    1.4.32\n",
      "stack-data                    0.2.0\n",
      "statsmodels                   0.13.2\n",
      "sympy                         1.10.1\n",
      "tables                        3.6.1\n",
      "tabulate                      0.8.9\n",
      "TBB                           0.2\n",
      "tblib                         1.7.0\n",
      "tenacity                      8.0.1\n",
      "terminado                     0.13.1\n",
      "testpath                      0.5.0\n",
      "text-unidecode                1.3\n",
      "textdistance                  4.2.1\n",
      "threadpoolctl                 2.2.0\n",
      "three-merge                   0.1.1\n",
      "tifffile                      2021.7.2\n",
      "tinycss                       0.4\n",
      "tldextract                    3.2.0\n",
      "toml                          0.10.2\n",
      "tomli                         1.2.2\n",
      "toolz                         0.11.2\n",
      "tornado                       6.1\n",
      "tqdm                          4.64.0\n",
      "traitlets                     5.1.1\n",
      "Twisted                       22.2.0\n",
      "twisted-iocpsupport           1.0.2\n",
      "typed-ast                     1.4.3\n",
      "typing_extensions             4.1.1\n",
      "ujson                         5.1.0\n",
      "Unidecode                     1.2.0\n",
      "urllib3                       1.26.9\n",
      "w3lib                         1.21.0\n",
      "watchdog                      2.1.6\n",
      "wcwidth                       0.2.5\n",
      "webencodings                  0.5.1\n",
      "websocket-client              0.58.0\n",
      "Werkzeug                      2.0.3\n",
      "wheel                         0.37.1\n",
      "widgetsnbextension            3.5.2\n",
      "win-inet-pton                 1.1.0\n",
      "win-unicode-console           0.5\n",
      "wincertstore                  0.2\n",
      "wrapt                         1.12.1\n",
      "xarray                        0.20.1\n",
      "xlrd                          2.0.1\n",
      "XlsxWriter                    3.0.3\n",
      "xlwings                       0.24.9\n",
      "yapf                          0.31.0\n",
      "yarl                          1.6.3\n",
      "zict                          2.0.0\n",
      "zipp                          3.7.0\n",
      "zope.interface                5.4.0\n",
      "Collecting package metadata (current_repodata.json): ...working... failed\n",
      "\n",
      "Note: you may need to restart the kernel to use updated packages.\n"
     ]
    },
    {
     "name": "stderr",
     "output_type": "stream",
     "text": [
      "\n",
      "CondaHTTPError: HTTP 000 CONNECTION FAILED for url <https://repo.anaconda.com/pkgs/main/win-64/current_repodata.json>\n",
      "Elapsed: -\n",
      "\n",
      "An HTTP error occurred when trying to retrieve this URL.\n",
      "HTTP errors are often intermittent, and a simple retry will get you on your way.\n",
      "\n",
      "If your current network has https://www.anaconda.com blocked, please file\n",
      "a support request with your network engineering team.\n",
      "\n",
      "'https//repo.anaconda.com/pkgs/main/win-64'\n",
      "\n",
      "\n"
     ]
    }
   ],
   "source": [
    "conda install numPy"
   ]
  },
  {
   "cell_type": "code",
   "execution_count": 4,
   "id": "c3975be0",
   "metadata": {},
   "outputs": [],
   "source": [
    "import numpy as np"
   ]
  },
  {
   "cell_type": "code",
   "execution_count": 5,
   "id": "01ab7e84",
   "metadata": {},
   "outputs": [
    {
     "name": "stdout",
     "output_type": "stream",
     "text": [
      "1.21.5\n"
     ]
    }
   ],
   "source": [
    "print(np.__version__)"
   ]
  },
  {
   "cell_type": "code",
   "execution_count": 6,
   "id": "7687b690",
   "metadata": {},
   "outputs": [
    {
     "data": {
      "text/plain": [
       "array([ 1,  2,  3,  4,  5,  6,  7,  8,  9, 10])"
      ]
     },
     "execution_count": 6,
     "metadata": {},
     "output_type": "execute_result"
    }
   ],
   "source": [
    "arr = np.array([1,2,3,4,5,6,7,8,9,10])\n",
    "arr"
   ]
  },
  {
   "cell_type": "code",
   "execution_count": 7,
   "id": "cb587c24",
   "metadata": {},
   "outputs": [
    {
     "name": "stdout",
     "output_type": "stream",
     "text": [
      "<class 'numpy.ndarray'>\n"
     ]
    }
   ],
   "source": [
    "print(type(arr))"
   ]
  },
  {
   "cell_type": "code",
   "execution_count": 8,
   "id": "93d868d8",
   "metadata": {},
   "outputs": [
    {
     "name": "stdout",
     "output_type": "stream",
     "text": [
      "1\n"
     ]
    }
   ],
   "source": [
    "print(np.amin(arr))"
   ]
  },
  {
   "cell_type": "code",
   "execution_count": 9,
   "id": "fc408069",
   "metadata": {},
   "outputs": [
    {
     "name": "stdout",
     "output_type": "stream",
     "text": [
      "10\n"
     ]
    }
   ],
   "source": [
    "print(np.amax(arr))"
   ]
  },
  {
   "cell_type": "code",
   "execution_count": 10,
   "id": "084938fe",
   "metadata": {},
   "outputs": [
    {
     "name": "stdout",
     "output_type": "stream",
     "text": [
      "5.5\n"
     ]
    }
   ],
   "source": [
    "print(np.mean(arr))"
   ]
  },
  {
   "cell_type": "code",
   "execution_count": 11,
   "id": "156da6de",
   "metadata": {},
   "outputs": [
    {
     "name": "stdout",
     "output_type": "stream",
     "text": [
      "5.5\n"
     ]
    }
   ],
   "source": [
    "print(np.median(arr))"
   ]
  },
  {
   "cell_type": "code",
   "execution_count": 12,
   "id": "38669731",
   "metadata": {},
   "outputs": [
    {
     "name": "stdout",
     "output_type": "stream",
     "text": [
      "9\n"
     ]
    }
   ],
   "source": [
    "print(np.ptp(arr))"
   ]
  },
  {
   "cell_type": "code",
   "execution_count": 13,
   "id": "e181996b",
   "metadata": {},
   "outputs": [
    {
     "name": "stdout",
     "output_type": "stream",
     "text": [
      "2.8722813232690143\n"
     ]
    }
   ],
   "source": [
    "print(np.std(arr))"
   ]
  },
  {
   "cell_type": "code",
   "execution_count": 14,
   "id": "b8ce84a9",
   "metadata": {},
   "outputs": [
    {
     "name": "stdout",
     "output_type": "stream",
     "text": [
      "8.25\n"
     ]
    }
   ],
   "source": [
    "print(np.var(arr))"
   ]
  },
  {
   "cell_type": "code",
   "execution_count": 15,
   "id": "35fb4ec8",
   "metadata": {},
   "outputs": [
    {
     "name": "stdout",
     "output_type": "stream",
     "text": [
      "5.5\n"
     ]
    }
   ],
   "source": [
    "print(np.average(arr))"
   ]
  },
  {
   "cell_type": "code",
   "execution_count": 16,
   "id": "07f9d140",
   "metadata": {},
   "outputs": [
    {
     "ename": "TypeError",
     "evalue": "_percentile_dispatcher() missing 1 required positional argument: 'q'",
     "output_type": "error",
     "traceback": [
      "\u001b[1;31m---------------------------------------------------------------------------\u001b[0m",
      "\u001b[1;31mTypeError\u001b[0m                                 Traceback (most recent call last)",
      "Input \u001b[1;32mIn [16]\u001b[0m, in \u001b[0;36m<cell line: 1>\u001b[1;34m()\u001b[0m\n\u001b[1;32m----> 1\u001b[0m \u001b[38;5;28mprint\u001b[39m(\u001b[43mnp\u001b[49m\u001b[38;5;241;43m.\u001b[39;49m\u001b[43mpercentile\u001b[49m\u001b[43m(\u001b[49m\u001b[43marr\u001b[49m\u001b[43m)\u001b[49m)\n",
      "File \u001b[1;32m<__array_function__ internals>:4\u001b[0m, in \u001b[0;36mpercentile\u001b[1;34m(*args, **kwargs)\u001b[0m\n",
      "\u001b[1;31mTypeError\u001b[0m: _percentile_dispatcher() missing 1 required positional argument: 'q'"
     ]
    }
   ],
   "source": [
    "print(np.percentile(arr))"
   ]
  },
  {
   "cell_type": "code",
   "execution_count": 17,
   "id": "cc51f705",
   "metadata": {},
   "outputs": [
    {
     "ename": "TypeError",
     "evalue": "_percentile_dispatcher() missing 1 required positional argument: 'q'",
     "output_type": "error",
     "traceback": [
      "\u001b[1;31m---------------------------------------------------------------------------\u001b[0m",
      "\u001b[1;31mTypeError\u001b[0m                                 Traceback (most recent call last)",
      "Input \u001b[1;32mIn [17]\u001b[0m, in \u001b[0;36m<cell line: 1>\u001b[1;34m()\u001b[0m\n\u001b[1;32m----> 1\u001b[0m \u001b[38;5;28mprint\u001b[39m(\u001b[43mnp\u001b[49m\u001b[38;5;241;43m.\u001b[39;49m\u001b[43mpercentile\u001b[49m\u001b[43m(\u001b[49m\u001b[43marr\u001b[49m\u001b[43m)\u001b[49m)\n",
      "File \u001b[1;32m<__array_function__ internals>:4\u001b[0m, in \u001b[0;36mpercentile\u001b[1;34m(*args, **kwargs)\u001b[0m\n",
      "\u001b[1;31mTypeError\u001b[0m: _percentile_dispatcher() missing 1 required positional argument: 'q'"
     ]
    }
   ],
   "source": [
    "print(np.percentile(arr))"
   ]
  },
  {
   "cell_type": "code",
   "execution_count": 18,
   "id": "1ef7a862",
   "metadata": {},
   "outputs": [
    {
     "name": "stdout",
     "output_type": "stream",
     "text": [
      "1\n",
      "10\n",
      "5.5\n",
      "5.5\n",
      "9\n",
      "2.8722813232690143\n",
      "8.25\n",
      "5.5\n",
      "1.45\n"
     ]
    }
   ],
   "source": [
    "print(np.amin(arr))\n",
    "print(np.amax(arr))\n",
    "print(np.mean(arr))\n",
    "print(np.median(arr))\n",
    "print(np.ptp(arr))\n",
    "print(np.std(arr))\n",
    "print(np.var(arr))\n",
    "print(np.average(arr))\n",
    "print(np.percentile(arr,5))"
   ]
  },
  {
   "cell_type": "markdown",
   "id": "b426b78d",
   "metadata": {},
   "source": [
    "# 2. Statistical Function"
   ]
  },
  {
   "cell_type": "markdown",
   "id": "35040e72",
   "metadata": {},
   "source": [
    "### NumPy  - numerical python libraries"
   ]
  },
  {
   "cell_type": "code",
   "execution_count": 19,
   "id": "2a402661",
   "metadata": {},
   "outputs": [
    {
     "data": {
      "text/plain": [
       "array([[1, 2, 3, 4],\n",
       "       [5, 6, 7, 8]])"
      ]
     },
     "execution_count": 19,
     "metadata": {},
     "output_type": "execute_result"
    }
   ],
   "source": [
    "#creat simple array from the list \n",
    "\n",
    "arr = np.array([[1,2,3,4],[5,6,7,8]])\n",
    "arr"
   ]
  },
  {
   "cell_type": "code",
   "execution_count": 20,
   "id": "e6374d4b",
   "metadata": {},
   "outputs": [
    {
     "name": "stdout",
     "output_type": "stream",
     "text": [
      "2\n"
     ]
    }
   ],
   "source": [
    "#diamension of the array\n",
    "\n",
    "print(arr.ndim)"
   ]
  },
  {
   "cell_type": "code",
   "execution_count": 21,
   "id": "4bcd396b",
   "metadata": {},
   "outputs": [
    {
     "name": "stdout",
     "output_type": "stream",
     "text": [
      "(2, 4)\n"
     ]
    }
   ],
   "source": [
    "#Shape of the array\n",
    "\n",
    "print(arr.shape)"
   ]
  },
  {
   "cell_type": "code",
   "execution_count": 22,
   "id": "1e67b562",
   "metadata": {},
   "outputs": [
    {
     "name": "stdout",
     "output_type": "stream",
     "text": [
      "<class 'numpy.ndarray'>\n"
     ]
    }
   ],
   "source": [
    "#type of the array\n",
    "\n",
    "print(type(arr))"
   ]
  },
  {
   "cell_type": "code",
   "execution_count": 23,
   "id": "e6e8070d",
   "metadata": {},
   "outputs": [
    {
     "name": "stdout",
     "output_type": "stream",
     "text": [
      "<memory at 0x000001E5EC5561E0>\n"
     ]
    }
   ],
   "source": [
    "#data of the array\n",
    "\n",
    "print(arr.data)"
   ]
  },
  {
   "cell_type": "markdown",
   "id": "1647b74f",
   "metadata": {},
   "source": [
    "# 3. Matrics Operations"
   ]
  },
  {
   "cell_type": "markdown",
   "id": "111a2ebb",
   "metadata": {},
   "source": [
    "### Random Number Generator using NumPy"
   ]
  },
  {
   "cell_type": "code",
   "execution_count": 24,
   "id": "893b668b",
   "metadata": {},
   "outputs": [
    {
     "name": "stdout",
     "output_type": "stream",
     "text": [
      "99\n"
     ]
    }
   ],
   "source": [
    "from numpy import random\n",
    "x= random.randint(100)\n",
    "print(x)"
   ]
  },
  {
   "cell_type": "code",
   "execution_count": 25,
   "id": "9b2ed30c",
   "metadata": {},
   "outputs": [
    {
     "name": "stdout",
     "output_type": "stream",
     "text": [
      "20\n"
     ]
    }
   ],
   "source": [
    "from numpy import random\n",
    "x= random.randint(50)\n",
    "print(x)"
   ]
  },
  {
   "cell_type": "code",
   "execution_count": 26,
   "id": "8f7c0b26",
   "metadata": {},
   "outputs": [
    {
     "name": "stdout",
     "output_type": "stream",
     "text": [
      "8\n"
     ]
    }
   ],
   "source": [
    "from numpy import random\n",
    "x= random.randint(75)\n",
    "print(x)"
   ]
  },
  {
   "cell_type": "code",
   "execution_count": 27,
   "id": "39b272cc",
   "metadata": {},
   "outputs": [
    {
     "name": "stdout",
     "output_type": "stream",
     "text": [
      "5\n"
     ]
    }
   ],
   "source": [
    "from numpy import random\n",
    "x= random.randint(15)\n",
    "print(x)"
   ]
  },
  {
   "cell_type": "code",
   "execution_count": 28,
   "id": "0dbf3567",
   "metadata": {},
   "outputs": [
    {
     "name": "stdout",
     "output_type": "stream",
     "text": [
      "8\n"
     ]
    }
   ],
   "source": [
    "from numpy import random\n",
    "x= random.randint(26)\n",
    "print(x)"
   ]
  },
  {
   "cell_type": "code",
   "execution_count": 29,
   "id": "ea16a250",
   "metadata": {},
   "outputs": [
    {
     "name": "stdout",
     "output_type": "stream",
     "text": [
      "10\n"
     ]
    }
   ],
   "source": [
    "from numpy import random\n",
    "x= random.randint(26)\n",
    "print(10)"
   ]
  },
  {
   "cell_type": "code",
   "execution_count": 30,
   "id": "35429595",
   "metadata": {},
   "outputs": [
    {
     "name": "stdout",
     "output_type": "stream",
     "text": [
      "1\n"
     ]
    }
   ],
   "source": [
    "from numpy import random\n",
    "x= random.randint(2)\n",
    "print(x)"
   ]
  },
  {
   "cell_type": "code",
   "execution_count": 31,
   "id": "99df9662",
   "metadata": {},
   "outputs": [
    {
     "name": "stdout",
     "output_type": "stream",
     "text": [
      "[0.50867947 0.61182767 0.30168282 0.01199598 0.19372477 0.67036006\n",
      " 0.07821792 0.18572468 0.4689554  0.24597754]\n"
     ]
    }
   ],
   "source": [
    "#Generate Random Float\n",
    "\n",
    "x= random.rand(10)\n",
    "print(x)"
   ]
  },
  {
   "cell_type": "code",
   "execution_count": 32,
   "id": "4cf8144f",
   "metadata": {},
   "outputs": [
    {
     "name": "stdout",
     "output_type": "stream",
     "text": [
      "[30 42 32 71 74]\n"
     ]
    }
   ],
   "source": [
    "#Generate Random Array\n",
    "\n",
    "from numpy import random\n",
    "x= random.randint(100, size=(5))\n",
    "print(x)"
   ]
  },
  {
   "cell_type": "code",
   "execution_count": 33,
   "id": "c0b4da53",
   "metadata": {},
   "outputs": [
    {
     "name": "stdout",
     "output_type": "stream",
     "text": [
      "[24 46 43 90 86 15 74 32 46 83]\n"
     ]
    }
   ],
   "source": [
    "from numpy import random\n",
    "x= random.randint(100, size=(10))\n",
    "print(x)"
   ]
  },
  {
   "cell_type": "code",
   "execution_count": 34,
   "id": "89ed8191",
   "metadata": {},
   "outputs": [
    {
     "name": "stdout",
     "output_type": "stream",
     "text": [
      "[48 20 10 29 43 42 26 48 48  4]\n"
     ]
    }
   ],
   "source": [
    "from numpy import random\n",
    "x= random.randint(50, size=(10))\n",
    "print(x)"
   ]
  },
  {
   "cell_type": "code",
   "execution_count": 35,
   "id": "38612831",
   "metadata": {},
   "outputs": [
    {
     "name": "stdout",
     "output_type": "stream",
     "text": [
      "[[62  9 15 86 25]\n",
      " [85 55 65 66 12]\n",
      " [69 83 24 91 97]]\n"
     ]
    }
   ],
   "source": [
    "#Generate a 2-D array with 3 rows, Each row containing 5 random in value\n",
    "\n",
    "from numpy import random\n",
    "x= random.randint(100, size=(3, 5))\n",
    "print(x)"
   ]
  },
  {
   "cell_type": "code",
   "execution_count": 36,
   "id": "bb24ee19",
   "metadata": {},
   "outputs": [
    {
     "name": "stdout",
     "output_type": "stream",
     "text": [
      "[[76 72 65 81]\n",
      " [41 35 55  2]\n",
      " [91 26 52 98]\n",
      " [39 86 10 37]]\n"
     ]
    }
   ],
   "source": [
    "from numpy import random\n",
    "x= random.randint(100, size=(4, 4))\n",
    "print(x)"
   ]
  },
  {
   "cell_type": "code",
   "execution_count": 37,
   "id": "288b49b4",
   "metadata": {},
   "outputs": [
    {
     "name": "stdout",
     "output_type": "stream",
     "text": [
      "[[40 15 12  6 14 47 30 31 41 43]\n",
      " [20 47 10 23 45 28 20 16 19 42]\n",
      " [17 27 32 14  8 44 24 34 47  7]\n",
      " [36 47 21  1 11 31 12 39 48 22]\n",
      " [33 33 38  0 47 21 35 18 30 38]]\n"
     ]
    }
   ],
   "source": [
    "from numpy import random\n",
    "x= random.randint(50, size=(5, 10))\n",
    "print(x)"
   ]
  },
  {
   "cell_type": "markdown",
   "id": "5f66f7a6",
   "metadata": {},
   "source": [
    "Seed function for remain same the row and column "
   ]
  },
  {
   "cell_type": "code",
   "execution_count": 38,
   "id": "b6be0c64",
   "metadata": {},
   "outputs": [
    {
     "name": "stdout",
     "output_type": "stream",
     "text": [
      "[[31 11 17  6 23 11 47  9 13 40]\n",
      " [ 4 40 28  0 46  5 12 29 40 49]\n",
      " [19 47  8 29 34 44  8 19 10 12]\n",
      " [31 43 23  0 41  9 47  8 36 19]\n",
      " [35 28  7 10 39 38 46  9 18  7]]\n"
     ]
    }
   ],
   "source": [
    "from numpy import random\n",
    "random.seed(101)\n",
    "x= random.randint(50, size=(5, 10))\n",
    "print(x)"
   ]
  },
  {
   "cell_type": "code",
   "execution_count": 39,
   "id": "78767365",
   "metadata": {},
   "outputs": [
    {
     "name": "stdout",
     "output_type": "stream",
     "text": [
      "[[31 11 17  6 23 11 47  9 13 40]\n",
      " [ 4 40 28  0 46  5 12 29 40 49]\n",
      " [19 47  8 29 34 44  8 19 10 12]\n",
      " [31 43 23  0 41  9 47  8 36 19]\n",
      " [35 28  7 10 39 38 46  9 18  7]\n",
      " [39 15 44  0 42 12 17 11 15 33]]\n"
     ]
    }
   ],
   "source": [
    "from numpy import random\n",
    "random.seed(101)\n",
    "x= random.randint(50, size=(6, 10))\n",
    "print(x)"
   ]
  },
  {
   "cell_type": "markdown",
   "id": "d0a138a6",
   "metadata": {},
   "source": [
    "### PRACTICAL: Creating scalars in Numpy"
   ]
  },
  {
   "cell_type": "code",
   "execution_count": 40,
   "id": "f735a767",
   "metadata": {},
   "outputs": [
    {
     "name": "stdout",
     "output_type": "stream",
     "text": [
      "Horizontal vector\n",
      "[1 2 3]\n",
      "-------------\n",
      "vertical vector\n",
      "[[10]\n",
      " [20]\n",
      " [30]]\n"
     ]
    }
   ],
   "source": [
    "#import numpy\n",
    "\n",
    "#Creating 1-D list\n",
    "list1 = [1,2,3]\n",
    "\n",
    "#Creating 1-D list vertical\n",
    "list2 = ([10],\n",
    "        [20],\n",
    "        [30])\n",
    "\n",
    "#Creat vector1\n",
    "\n",
    "vector1 = np.array(list1)\n",
    "vector2 = np.array(list2)\n",
    "\n",
    "print(\"Horizontal vector\")\n",
    "print(vector1)\n",
    "\n",
    "print(\"-------------\")\n",
    "\n",
    "print(\"vertical vector\")\n",
    "print(vector2)\n",
    "\n"
   ]
  },
  {
   "cell_type": "code",
   "execution_count": null,
   "id": "6364d316",
   "metadata": {},
   "outputs": [],
   "source": []
  },
  {
   "cell_type": "code",
   "execution_count": 41,
   "id": "85956cef",
   "metadata": {},
   "outputs": [
    {
     "data": {
      "text/plain": [
       "matrix([[1, 2],\n",
       "        [3, 4]])"
      ]
     },
     "execution_count": 41,
     "metadata": {},
     "output_type": "execute_result"
    }
   ],
   "source": [
    "a=np.matrix('1 2;3 4')\n",
    "a"
   ]
  },
  {
   "cell_type": "code",
   "execution_count": 42,
   "id": "910072bb",
   "metadata": {},
   "outputs": [
    {
     "name": "stdout",
     "output_type": "stream",
     "text": [
      "via string input : \n",
      " [[1 2]\n",
      " [3 4]] \n",
      "\n",
      "via array-like input :\n",
      " [[list([5, 6, 7]) list([4, 6])]]\n"
     ]
    },
    {
     "name": "stderr",
     "output_type": "stream",
     "text": [
      "C:\\Users\\Shiv\\anaconda3\\lib\\site-packages\\numpy\\matrixlib\\defmatrix.py:145: VisibleDeprecationWarning: Creating an ndarray from ragged nested sequences (which is a list-or-tuple of lists-or-tuples-or ndarrays with different lengths or shapes) is deprecated. If you meant to do this, you must specify 'dtype=object' when creating the ndarray.\n",
      "  arr = N.array(data, dtype=dtype, copy=copy)\n"
     ]
    }
   ],
   "source": [
    "a= np.matrix('1 2;3 4')\n",
    "print(\"via string input : \\n\", a, \"\\n\")\n",
    "\n",
    "#array-like input\n",
    "b= np.matrix([[5, 6, 7], [4, 6]])\n",
    "print(\"via array-like input :\\n\", b)"
   ]
  },
  {
   "cell_type": "code",
   "execution_count": 43,
   "id": "91e6078d",
   "metadata": {},
   "outputs": [
    {
     "name": "stdout",
     "output_type": "stream",
     "text": [
      "via string input : \n",
      " [[1 2]\n",
      " [3 4]] \n",
      "\n",
      "via array-like input :\n",
      " [[list([5, 6, 7]) list([4, 6])]]\n"
     ]
    }
   ],
   "source": [
    "a= np.matrix('1 2;3 4')\n",
    "print(\"via string input : \\n\", a, \"\\n\")\n",
    "\n",
    "#array-like input\n",
    "b=np.matrix([[5, 6, 7], \n",
    "             [4, 6]])\n",
    "print(\"via array-like input :\\n\", b)"
   ]
  },
  {
   "cell_type": "markdown",
   "id": "9affbd85",
   "metadata": {},
   "source": [
    " ### Matrix Multiplication in Numpy"
   ]
  },
  {
   "cell_type": "code",
   "execution_count": 44,
   "id": "75c6c0bd",
   "metadata": {},
   "outputs": [
    {
     "name": "stdout",
     "output_type": "stream",
     "text": [
      "[[30 35]\n",
      " [40 45]]\n"
     ]
    }
   ],
   "source": [
    "A = 5\n",
    "\n",
    "B = [[6, 7],\n",
    "     [8, 9]]\n",
    "\n",
    "print(np.dot(A,B))"
   ]
  },
  {
   "cell_type": "code",
   "execution_count": 45,
   "id": "21f1fb50",
   "metadata": {},
   "outputs": [
    {
     "name": "stdout",
     "output_type": "stream",
     "text": [
      "[[41 67]\n",
      " [53 87]]\n",
      "---------\n",
      "[[30 34]\n",
      " [86 98]]\n"
     ]
    }
   ],
   "source": [
    "A = [[6, 7],\n",
    "     [8, 9]]\n",
    "\n",
    "B = [[1, 3],\n",
    "     [5, 7]]\n",
    "\n",
    "print(np.dot(A,B))\n",
    "\n",
    "print(\"---------\")\n",
    "\n",
    "print(np.dot(B,A))"
   ]
  },
  {
   "cell_type": "code",
   "execution_count": 46,
   "id": "fbce9984",
   "metadata": {},
   "outputs": [
    {
     "name": "stdout",
     "output_type": "stream",
     "text": [
      "[[30 35]\n",
      " [40 45]]\n"
     ]
    }
   ],
   "source": [
    "B = 5\n",
    "\n",
    "A = [[6, 7],\n",
    "     [8, 9]]\n",
    "\n",
    "print(np.dot(B,A))"
   ]
  },
  {
   "cell_type": "code",
   "execution_count": 47,
   "id": "b16f88b7",
   "metadata": {},
   "outputs": [
    {
     "data": {
      "text/plain": [
       "array([[1, 4, 7],\n",
       "       [2, 5, 8],\n",
       "       [3, 6, 9]])"
      ]
     },
     "execution_count": 47,
     "metadata": {},
     "output_type": "execute_result"
    }
   ],
   "source": [
    "A= ([1,2,3],[4,5,6],[7,8,9])\n",
    "\n",
    "np.transpose(A)"
   ]
  },
  {
   "cell_type": "code",
   "execution_count": 48,
   "id": "1bb477f9",
   "metadata": {},
   "outputs": [
    {
     "name": "stderr",
     "output_type": "stream",
     "text": [
      "C:\\Users\\Shiv\\anaconda3\\lib\\site-packages\\numpy\\core\\fromnumeric.py:43: VisibleDeprecationWarning: Creating an ndarray from ragged nested sequences (which is a list-or-tuple of lists-or-tuples-or ndarrays with different lengths or shapes) is deprecated. If you meant to do this, you must specify 'dtype=object' when creating the ndarray.\n",
      "  result = getattr(asarray(obj), method)(*args, **kwds)\n"
     ]
    },
    {
     "data": {
      "text/plain": [
       "array([list([1, 2, 3]), list([4, 5, 6]), list([7, 8, 9, 4])], dtype=object)"
      ]
     },
     "execution_count": 48,
     "metadata": {},
     "output_type": "execute_result"
    }
   ],
   "source": [
    "import numpy as np\n",
    "\n",
    "A= ([1,2,3],[4,5,6],[7,8,9,4])\n",
    "\n",
    "np.transpose(A)"
   ]
  },
  {
   "cell_type": "markdown",
   "id": "188642b7",
   "metadata": {},
   "source": [
    "### Percentile & interquartile in NumPy"
   ]
  },
  {
   "cell_type": "code",
   "execution_count": 49,
   "id": "98efe8cb",
   "metadata": {},
   "outputs": [
    {
     "name": "stdout",
     "output_type": "stream",
     "text": [
      "25.5\n"
     ]
    }
   ],
   "source": [
    "import numpy as np\n",
    "\n",
    "data= [21, 22, 23, 24, 25, 26, 27, 28, 29, 30, 31, 32, 33, 34, 35, 36, 37, 38, 39, 40]\n",
    "\n",
    "#first quartile(Q1)\n",
    "\n",
    "Q1= np.median(data[:10])\n",
    "print(Q1)"
   ]
  },
  {
   "cell_type": "code",
   "execution_count": 50,
   "id": "f9ab5060",
   "metadata": {},
   "outputs": [
    {
     "name": "stdout",
     "output_type": "stream",
     "text": [
      "35.5\n"
     ]
    }
   ],
   "source": [
    "#Third Qurtile(Q3)\n",
    "Q3= np.median(data[10:])\n",
    "print(Q3)"
   ]
  },
  {
   "cell_type": "code",
   "execution_count": 51,
   "id": "bda7562e",
   "metadata": {},
   "outputs": [
    {
     "name": "stdout",
     "output_type": "stream",
     "text": [
      "10.0\n"
     ]
    }
   ],
   "source": [
    "#interqurtile range\n",
    "\n",
    "IQR = Q3-Q1\n",
    "print(IQR)"
   ]
  },
  {
   "cell_type": "code",
   "execution_count": 52,
   "id": "c4406e54",
   "metadata": {},
   "outputs": [
    {
     "name": "stdout",
     "output_type": "stream",
     "text": [
      "25.5 \n",
      "\n",
      "35.5 \n",
      "\n",
      "IQR = Q3-Q1 = 10.0\n"
     ]
    }
   ],
   "source": [
    "data= [21, 22, 23, 24, 25, 26, 27, 28, 29, 30, 31, 32, 33, 34, 35, 36, 37, 38, 39, 40]\n",
    "\n",
    "#first quartile(Q1)\n",
    "Q1= np.median(data[:10])\n",
    "print(Q1, '\\n')\n",
    "\n",
    "#Third Qurtile(Q3)\n",
    "Q3= np.median(data[10:])\n",
    "print(Q3, '\\n')\n",
    "\n",
    "#interqurtile range\n",
    "IQR = Q3-Q1\n",
    "print(\"IQR = Q3-Q1 =\",IQR)"
   ]
  },
  {
   "cell_type": "markdown",
   "id": "5f6f73d7",
   "metadata": {},
   "source": [
    "# 4. Array Broadcasting in Numpy"
   ]
  },
  {
   "cell_type": "code",
   "execution_count": 53,
   "id": "569cb58b",
   "metadata": {},
   "outputs": [
    {
     "data": {
      "text/plain": [
       "array([2.2, 4.2, 6.3])"
      ]
     },
     "execution_count": 53,
     "metadata": {},
     "output_type": "execute_result"
    }
   ],
   "source": [
    "a = np.array([1.1, 2.0, 3.0])\n",
    "b = np.array([2.0, 2.1, 2.1])\n",
    "\n",
    "a*b"
   ]
  },
  {
   "cell_type": "code",
   "execution_count": 54,
   "id": "ecbb98af",
   "metadata": {},
   "outputs": [
    {
     "data": {
      "text/plain": [
       "array([2.1, 4.2, 6.3])"
      ]
     },
     "execution_count": 54,
     "metadata": {},
     "output_type": "execute_result"
    }
   ],
   "source": [
    "a = np.array([1.0, 2.0, 3.0])\n",
    "b = 2.1\n",
    "\n",
    "a*b"
   ]
  },
  {
   "cell_type": "markdown",
   "id": "78a84183",
   "metadata": {},
   "source": [
    "# 5. Calculate BMI of cricket players"
   ]
  },
  {
   "cell_type": "code",
   "execution_count": 55,
   "id": "ea792571",
   "metadata": {},
   "outputs": [
    {
     "data": {
      "text/plain": [
       "array([1.4945, 1.5925, 1.568 , 1.6905, 1.715 , 1.666 , 1.568 , 1.5435,\n",
       "       1.519 , 1.617 , 1.764 ])"
      ]
     },
     "execution_count": 55,
     "metadata": {},
     "output_type": "execute_result"
    }
   ],
   "source": [
    "#Heights of Players\n",
    "\n",
    "Hg_in = [61, 65, 64, 69, 70, 68, 64, 63, 62, 66, 72]  #in = inch\n",
    "\n",
    "#Convert into numpy array\n",
    "\n",
    "ht_np = np.array(Hg_in)\n",
    "\n",
    "#Convert height from inch to meter by exposing it to 0.0245\n",
    "ht_np = ht_np*0.0245\n",
    "\n",
    "ht_np"
   ]
  },
  {
   "cell_type": "code",
   "execution_count": 56,
   "id": "dfc73c8e",
   "metadata": {},
   "outputs": [
    {
     "data": {
      "text/plain": [
       "array([45.45, 90.45, 72.45, 76.5 , 81.  , 63.45, 70.2 , 75.6 , 78.75,\n",
       "       81.  , 90.  ])"
      ]
     },
     "execution_count": 56,
     "metadata": {},
     "output_type": "execute_result"
    }
   ],
   "source": [
    "#weight of players in pound\n",
    "\n",
    "wt_pd = [101,201,161,170,180,141,156,168,175,180,200]\n",
    "\n",
    "#Convert into numpy array\n",
    "wt_np = np.array(wt_pd)\n",
    "\n",
    "#Convert weight from pound to kg by exposing it to 0.45\n",
    "wt_np = wt_np*0.45\n",
    "\n",
    "wt_np"
   ]
  },
  {
   "cell_type": "code",
   "execution_count": 57,
   "id": "b8e73698",
   "metadata": {},
   "outputs": [
    {
     "data": {
      "text/plain": [
       "array([20.34895207, 35.6656127 , 29.46770226, 26.76893449, 27.5395456 ,\n",
       "       22.86028457, 28.55255623, 31.73280974, 34.12989992, 30.97882769,\n",
       "       28.92313388])"
      ]
     },
     "execution_count": 57,
     "metadata": {},
     "output_type": "execute_result"
    }
   ],
   "source": [
    "#BMI calculation\n",
    "\n",
    "BMI = wt_np/(ht_np**2)\n",
    "BMI"
   ]
  },
  {
   "cell_type": "code",
   "execution_count": 58,
   "id": "6bd96572",
   "metadata": {},
   "outputs": [
    {
     "data": {
      "text/plain": [
       "28.923133879402098"
      ]
     },
     "execution_count": 58,
     "metadata": {},
     "output_type": "execute_result"
    }
   ],
   "source": [
    "BMI[-1]"
   ]
  },
  {
   "cell_type": "code",
   "execution_count": 59,
   "id": "481ed347",
   "metadata": {},
   "outputs": [
    {
     "data": {
      "text/plain": [
       "array([[45.45  , 90.45  , 72.45  , 76.5   , 81.    , 63.45  , 70.2   ,\n",
       "        75.6   , 78.75  , 81.    , 90.    ],\n",
       "       [ 1.4945,  1.5925,  1.568 ,  1.6905,  1.715 ,  1.666 ,  1.568 ,\n",
       "         1.5435,  1.519 ,  1.617 ,  1.764 ]])"
      ]
     },
     "execution_count": 59,
     "metadata": {},
     "output_type": "execute_result"
    }
   ],
   "source": [
    "players = np.array([wt_np, ht_np])\n",
    "players"
   ]
  },
  {
   "cell_type": "code",
   "execution_count": 60,
   "id": "1a199211",
   "metadata": {},
   "outputs": [
    {
     "data": {
      "text/plain": [
       "72.45"
      ]
     },
     "execution_count": 60,
     "metadata": {},
     "output_type": "execute_result"
    }
   ],
   "source": [
    "players [0][2]"
   ]
  },
  {
   "cell_type": "code",
   "execution_count": 61,
   "id": "42d3516f",
   "metadata": {},
   "outputs": [
    {
     "data": {
      "text/plain": [
       "1.6905000000000001"
      ]
     },
     "execution_count": 61,
     "metadata": {},
     "output_type": "execute_result"
    }
   ],
   "source": [
    "players [1][3]"
   ]
  },
  {
   "cell_type": "code",
   "execution_count": 62,
   "id": "9f7bac0d",
   "metadata": {},
   "outputs": [
    {
     "data": {
      "text/plain": [
       "array([45.45, 90.45, 72.45, 76.5 , 81.  , 63.45, 70.2 , 75.6 , 78.75,\n",
       "       81.  , 90.  ])"
      ]
     },
     "execution_count": 62,
     "metadata": {},
     "output_type": "execute_result"
    }
   ],
   "source": [
    "players [0]"
   ]
  },
  {
   "cell_type": "code",
   "execution_count": 63,
   "id": "b45d3aff",
   "metadata": {},
   "outputs": [
    {
     "data": {
      "text/plain": [
       "array([1.4945, 1.5925, 1.568 , 1.6905, 1.715 , 1.666 , 1.568 , 1.5435,\n",
       "       1.519 , 1.617 , 1.764 ])"
      ]
     },
     "execution_count": 63,
     "metadata": {},
     "output_type": "execute_result"
    }
   ],
   "source": [
    "players [1]"
   ]
  },
  {
   "cell_type": "code",
   "execution_count": 64,
   "id": "4dc96ffc",
   "metadata": {},
   "outputs": [
    {
     "data": {
      "text/plain": [
       "(11, 2)"
      ]
     },
     "execution_count": 64,
     "metadata": {},
     "output_type": "execute_result"
    }
   ],
   "source": [
    "#transpose\n",
    "\n",
    "pt = players.transpose()\n",
    "pt.shape"
   ]
  },
  {
   "cell_type": "code",
   "execution_count": 65,
   "id": "95461558",
   "metadata": {},
   "outputs": [
    {
     "data": {
      "text/plain": [
       "array([[45.45  ,  1.4945],\n",
       "       [90.45  ,  1.5925],\n",
       "       [72.45  ,  1.568 ],\n",
       "       [76.5   ,  1.6905],\n",
       "       [81.    ,  1.715 ],\n",
       "       [63.45  ,  1.666 ],\n",
       "       [70.2   ,  1.568 ],\n",
       "       [75.6   ,  1.5435],\n",
       "       [78.75  ,  1.519 ],\n",
       "       [81.    ,  1.617 ],\n",
       "       [90.    ,  1.764 ]])"
      ]
     },
     "execution_count": 65,
     "metadata": {},
     "output_type": "execute_result"
    }
   ],
   "source": [
    "pt = players.transpose()\n",
    "pt"
   ]
  },
  {
   "cell_type": "code",
   "execution_count": 66,
   "id": "48bfb71c",
   "metadata": {},
   "outputs": [
    {
     "name": "stdout",
     "output_type": "stream",
     "text": [
      "74.98636363636363\n",
      "76.5\n",
      "824.85\n",
      "12.01711073483236\n",
      "[[1.         0.50899917]\n",
      " [0.50899917 1.        ]]\n"
     ]
    }
   ],
   "source": [
    "#statestical & mathamatical function on plyers data\n",
    "\n",
    "print(np.mean(wt_np))\n",
    "\n",
    "print(np.median(wt_np))\n",
    "\n",
    "print(np.sum(wt_np))\n",
    "\n",
    "#standard deviation\n",
    "print(np.std(wt_np))\n",
    "\n",
    "#corelation cofficient\n",
    "print(np.corrcoef(wt_np,ht_np))"
   ]
  },
  {
   "cell_type": "markdown",
   "id": "ded6617c",
   "metadata": {},
   "source": [
    "### Self Practice Calculation of campus rooms"
   ]
  },
  {
   "cell_type": "code",
   "execution_count": 67,
   "id": "c17cabd5",
   "metadata": {},
   "outputs": [
    {
     "data": {
      "text/plain": [
       "array([10, 11, 12, 13, 14, 15, 16, 17, 18, 19])"
      ]
     },
     "execution_count": 67,
     "metadata": {},
     "output_type": "execute_result"
    }
   ],
   "source": [
    "import numpy as np\n",
    "#length of classrooms\n",
    "\n",
    "len_m = [10,11,12,13,14,15,16,17,18,19]\n",
    "len_np = np.array(len_m)\n",
    "len_np"
   ]
  },
  {
   "cell_type": "code",
   "execution_count": 68,
   "id": "43d96839",
   "metadata": {},
   "outputs": [
    {
     "data": {
      "text/plain": [
       "array([20, 21, 22, 23, 24, 25, 26, 27, 28, 29])"
      ]
     },
     "execution_count": 68,
     "metadata": {},
     "output_type": "execute_result"
    }
   ],
   "source": [
    "#width of classrooms\n",
    "\n",
    "wid_m = [20,21,22,23,24,25,26,27,28,29]\n",
    "wid_np = np.array(wid_m)\n",
    "wid_np"
   ]
  },
  {
   "cell_type": "code",
   "execution_count": 69,
   "id": "d4475c13",
   "metadata": {},
   "outputs": [
    {
     "data": {
      "text/plain": [
       "array([30, 30, 30, 30, 30, 30, 30, 30, 30, 30])"
      ]
     },
     "execution_count": 69,
     "metadata": {},
     "output_type": "execute_result"
    }
   ],
   "source": [
    "#height of classrooms\n",
    "\n",
    "hei_m = [30,30,30,30,30,30,30,30,30,30]\n",
    "hei_np = np.array(hei_m)\n",
    "hei_np"
   ]
  },
  {
   "cell_type": "code",
   "execution_count": 70,
   "id": "e1f6ee4a",
   "metadata": {},
   "outputs": [
    {
     "data": {
      "text/plain": [
       "array([ 6000,  6930,  7920,  8970, 10080, 11250, 12480, 13770, 15120,\n",
       "       16530])"
      ]
     },
     "execution_count": 70,
     "metadata": {},
     "output_type": "execute_result"
    }
   ],
   "source": [
    "volume = len_np * wid_np * hei_np\n",
    "volume"
   ]
  },
  {
   "cell_type": "code",
   "execution_count": null,
   "id": "a8eaa536",
   "metadata": {},
   "outputs": [],
   "source": []
  },
  {
   "cell_type": "code",
   "execution_count": null,
   "id": "1835d783",
   "metadata": {},
   "outputs": [],
   "source": []
  }
 ],
 "metadata": {
  "kernelspec": {
   "display_name": "Python 3 (ipykernel)",
   "language": "python",
   "name": "python3"
  },
  "language_info": {
   "codemirror_mode": {
    "name": "ipython",
    "version": 3
   },
   "file_extension": ".py",
   "mimetype": "text/x-python",
   "name": "python",
   "nbconvert_exporter": "python",
   "pygments_lexer": "ipython3",
   "version": "3.9.12"
  }
 },
 "nbformat": 4,
 "nbformat_minor": 5
}
