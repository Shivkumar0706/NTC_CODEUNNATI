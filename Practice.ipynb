{
 "cells": [
  {
   "cell_type": "code",
   "execution_count": 1,
   "id": "a4b6abbe",
   "metadata": {},
   "outputs": [
    {
     "name": "stdout",
     "output_type": "stream",
     "text": [
      "hello\n"
     ]
    }
   ],
   "source": [
    "print(\"hello\")"
   ]
  },
  {
   "cell_type": "code",
   "execution_count": 2,
   "id": "41773982",
   "metadata": {},
   "outputs": [
    {
     "data": {
      "text/plain": [
       "5"
      ]
     },
     "execution_count": 2,
     "metadata": {},
     "output_type": "execute_result"
    }
   ],
   "source": [
    "2+3"
   ]
  },
  {
   "cell_type": "markdown",
   "id": "ae2e4872",
   "metadata": {},
   "source": [
    "some text"
   ]
  },
  {
   "cell_type": "code",
   "execution_count": 3,
   "id": "bc8b4a24",
   "metadata": {},
   "outputs": [
    {
     "data": {
      "text/plain": [
       "15"
      ]
     },
     "execution_count": 3,
     "metadata": {},
     "output_type": "execute_result"
    }
   ],
   "source": [
    "2 + 4 +9"
   ]
  },
  {
   "cell_type": "code",
   "execution_count": 4,
   "id": "c94b9320",
   "metadata": {},
   "outputs": [
    {
     "data": {
      "text/plain": [
       "24"
      ]
     },
     "execution_count": 4,
     "metadata": {},
     "output_type": "execute_result"
    }
   ],
   "source": [
    "29-5"
   ]
  },
  {
   "cell_type": "code",
   "execution_count": 5,
   "id": "d0f1feeb",
   "metadata": {},
   "outputs": [
    {
     "data": {
      "text/plain": [
       "26.999"
      ]
     },
     "execution_count": 5,
     "metadata": {},
     "output_type": "execute_result"
    }
   ],
   "source": [
    "24.999 - -2"
   ]
  },
  {
   "cell_type": "code",
   "execution_count": 6,
   "id": "95864c4e",
   "metadata": {},
   "outputs": [
    {
     "data": {
      "text/plain": [
       "-151.32"
      ]
     },
     "execution_count": 6,
     "metadata": {},
     "output_type": "execute_result"
    }
   ],
   "source": [
    "25.22 * -6"
   ]
  },
  {
   "cell_type": "code",
   "execution_count": 7,
   "id": "f204e26e",
   "metadata": {},
   "outputs": [
    {
     "data": {
      "text/plain": [
       "14.285714285714286"
      ]
     },
     "execution_count": 7,
     "metadata": {},
     "output_type": "execute_result"
    }
   ],
   "source": [
    "100/7"
   ]
  },
  {
   "cell_type": "code",
   "execution_count": 8,
   "id": "3e407fe4",
   "metadata": {},
   "outputs": [
    {
     "data": {
      "text/plain": [
       "14"
      ]
     },
     "execution_count": 8,
     "metadata": {},
     "output_type": "execute_result"
    }
   ],
   "source": [
    "100//7"
   ]
  },
  {
   "cell_type": "code",
   "execution_count": 9,
   "id": "17e80a4f",
   "metadata": {},
   "outputs": [
    {
     "data": {
      "text/plain": [
       "2"
      ]
     },
     "execution_count": 9,
     "metadata": {},
     "output_type": "execute_result"
    }
   ],
   "source": [
    "100%7"
   ]
  },
  {
   "cell_type": "code",
   "execution_count": 10,
   "id": "8e9fb75c",
   "metadata": {},
   "outputs": [
    {
     "data": {
      "text/plain": [
       "15"
      ]
     },
     "execution_count": 10,
     "metadata": {},
     "output_type": "execute_result"
    }
   ],
   "source": [
    "5*3"
   ]
  },
  {
   "cell_type": "code",
   "execution_count": 11,
   "id": "2ba10a41",
   "metadata": {},
   "outputs": [
    {
     "data": {
      "text/plain": [
       "125"
      ]
     },
     "execution_count": 11,
     "metadata": {},
     "output_type": "execute_result"
    }
   ],
   "source": [
    "5**3"
   ]
  },
  {
   "cell_type": "code",
   "execution_count": 12,
   "id": "e4482adf",
   "metadata": {},
   "outputs": [
    {
     "ename": "SyntaxError",
     "evalue": "invalid syntax (4280846567.py, line 1)",
     "output_type": "error",
     "traceback": [
      "\u001b[1;36m  Input \u001b[1;32mIn [12]\u001b[1;36m\u001b[0m\n\u001b[1;33m    5***2\u001b[0m\n\u001b[1;37m       ^\u001b[0m\n\u001b[1;31mSyntaxError\u001b[0m\u001b[1;31m:\u001b[0m invalid syntax\n"
     ]
    }
   ],
   "source": [
    "5***2"
   ]
  },
  {
   "cell_type": "code",
   "execution_count": null,
   "id": "98950f7c",
   "metadata": {},
   "outputs": [],
   "source": [
    "((2+3)+(4-6))/(4-3)"
   ]
  },
  {
   "cell_type": "code",
   "execution_count": null,
   "id": "4fd3672b",
   "metadata": {},
   "outputs": [],
   "source": [
    "a=22"
   ]
  },
  {
   "cell_type": "code",
   "execution_count": null,
   "id": "5d9466f1",
   "metadata": {},
   "outputs": [],
   "source": [
    "b=22"
   ]
  },
  {
   "cell_type": "code",
   "execution_count": null,
   "id": "aa8aa470",
   "metadata": {},
   "outputs": [],
   "source": [
    "a+b"
   ]
  },
  {
   "cell_type": "markdown",
   "id": "6100d675",
   "metadata": {},
   "source": [
    "# solving multi-step problems using variables\n",
    "\n",
    "let's try solving the folloing word problem using python:\n",
    "\n",
    "A grocery store sells a bag of ice for $1.25 and makes a 20% profit. If it sells 500 bags of ice, how much total profit does it make?\n",
    "\n",
    "We can list out the information provided and gradually convert the word problem into a mathematical expression that can be evaluated using Python.\n",
    "\n",
    "Cost of ice bag ($) = 1.25\n",
    "\n",
    "Profit margin = 20% = .2\n",
    "\n",
    "Profit per bag ($) = profit margin * cost of ice bag = .2 * 1.25\n",
    "\n",
    "No. of bags = 500\n",
    "\n",
    "Total profit = no. of bags * profit per bag = 500 * (.2 * 1.25)"
   ]
  },
  {
   "cell_type": "code",
   "execution_count": null,
   "id": "3d374e52",
   "metadata": {},
   "outputs": [],
   "source": [
    "500*(0.2*1.25)"
   ]
  },
  {
   "cell_type": "markdown",
   "id": "b84a25f1",
   "metadata": {},
   "source": [
    "Variables: While working with a programming language such as Python, information is stored in variables. You can think of variables as containers for storing data. The data stored within a variable is called its value"
   ]
  },
  {
   "cell_type": "code",
   "execution_count": null,
   "id": "28d17c22",
   "metadata": {},
   "outputs": [],
   "source": [
    "cost_of_ice_bag = 1.25"
   ]
  },
  {
   "cell_type": "code",
   "execution_count": null,
   "id": "27867b22",
   "metadata": {},
   "outputs": [],
   "source": [
    "profit_margin = .2"
   ]
  },
  {
   "cell_type": "code",
   "execution_count": null,
   "id": "40e76d27",
   "metadata": {},
   "outputs": [],
   "source": [
    "number_of_bags = 500"
   ]
  },
  {
   "cell_type": "code",
   "execution_count": null,
   "id": "9edfbb7f",
   "metadata": {},
   "outputs": [],
   "source": [
    "2+3"
   ]
  },
  {
   "cell_type": "markdown",
   "id": "29961ec4",
   "metadata": {},
   "source": [
    "gyghhb"
   ]
  },
  {
   "cell_type": "markdown",
   "id": "2d59cd3c",
   "metadata": {},
   "source": [
    "# Evaluating Conditions Using Python"
   ]
  },
  {
   "cell_type": "markdown",
   "id": "a8ae001c",
   "metadata": {},
   "source": [
    "TRUE or FALSE condition"
   ]
  },
  {
   "cell_type": "code",
   "execution_count": null,
   "id": "1f966fcb",
   "metadata": {},
   "outputs": [],
   "source": [
    "my_favorite_number = 1\n",
    "my_least_favorite_number = 5\n",
    "a_neutral_number = 3"
   ]
  },
  {
   "cell_type": "code",
   "execution_count": null,
   "id": "6680da55",
   "metadata": {},
   "outputs": [],
   "source": [
    "# Equality check - True\n",
    "\n",
    "my_favorite_number == 1"
   ]
  },
  {
   "cell_type": "code",
   "execution_count": null,
   "id": "fdf20426",
   "metadata": {},
   "outputs": [],
   "source": [
    "# Equality check - False\n",
    "my_favorite_number == my_least_favorite_number"
   ]
  },
  {
   "cell_type": "code",
   "execution_count": null,
   "id": "8ae7c1fe",
   "metadata": {},
   "outputs": [],
   "source": [
    "# Not equal check - True\n",
    "my_favorite_number != a_neutral_number"
   ]
  },
  {
   "cell_type": "code",
   "execution_count": null,
   "id": "2ed5925d",
   "metadata": {},
   "outputs": [],
   "source": [
    "# Not equal check - True\n",
    "my_favorite_number != a_neutral_number"
   ]
  },
  {
   "cell_type": "code",
   "execution_count": null,
   "id": "1a552eed",
   "metadata": {},
   "outputs": [],
   "source": [
    "# Not equal check - False\n",
    "a_neutral_number != 3"
   ]
  },
  {
   "cell_type": "code",
   "execution_count": null,
   "id": "af45324c",
   "metadata": {},
   "outputs": [],
   "source": [
    "# Greater than check - True\n",
    "my_least_favorite_number > a_neutral_number"
   ]
  },
  {
   "cell_type": "code",
   "execution_count": null,
   "id": "2077e917",
   "metadata": {},
   "outputs": [],
   "source": [
    "# Greater than check - False\n",
    "my_favorite_number > my_least_favorite_number"
   ]
  },
  {
   "cell_type": "code",
   "execution_count": null,
   "id": "92e7331f",
   "metadata": {},
   "outputs": [],
   "source": [
    "# Less than check - True\n",
    "my_favorite_number < 10"
   ]
  },
  {
   "cell_type": "code",
   "execution_count": null,
   "id": "50939520",
   "metadata": {},
   "outputs": [],
   "source": [
    "# Less than check - False\n",
    "my_least_favorite_number < my_favorite_number"
   ]
  },
  {
   "cell_type": "code",
   "execution_count": null,
   "id": "26e4bb08",
   "metadata": {},
   "outputs": [],
   "source": [
    "# Greater than or equal check - True\n",
    "my_favorite_number >= 1"
   ]
  },
  {
   "cell_type": "code",
   "execution_count": null,
   "id": "bc2bff3e",
   "metadata": {},
   "outputs": [],
   "source": [
    "# Greater than or equal check - False\n",
    "my_favorite_number >= 3"
   ]
  },
  {
   "cell_type": "code",
   "execution_count": null,
   "id": "95e808dc",
   "metadata": {},
   "outputs": [],
   "source": [
    "# Less than or equal check - True\n",
    "3 + 6 <= 9"
   ]
  },
  {
   "cell_type": "code",
   "execution_count": null,
   "id": "009097f5",
   "metadata": {},
   "outputs": [],
   "source": [
    "# Less than or equal check - False\n",
    "my_favorite_number + a_neutral_number <= 3"
   ]
  },
  {
   "cell_type": "code",
   "execution_count": null,
   "id": "147fabb8",
   "metadata": {},
   "outputs": [],
   "source": [
    "cost_of_ice_bag = 1.25\n",
    "is_ice_bag_expensive = cost_of_ice_bag >= 10\n",
    "print(\"Is the ice bag expensive?\", is_ice_bag_expensive)"
   ]
  },
  {
   "cell_type": "code",
   "execution_count": null,
   "id": "26a0923c",
   "metadata": {},
   "outputs": [],
   "source": [
    "if 5>2:\n",
    "    print(\"Five is greater than two!\")"
   ]
  },
  {
   "cell_type": "code",
   "execution_count": null,
   "id": "154fffb8",
   "metadata": {},
   "outputs": [],
   "source": [
    "if 5 > 2:\n",
    " print(\"Five is greater than two!\") \n",
    "if 5 > 2:\n",
    "        print(\"Five is greater than two!\")"
   ]
  },
  {
   "cell_type": "markdown",
   "id": "661533b4",
   "metadata": {},
   "source": [
    "# Python Variables"
   ]
  },
  {
   "cell_type": "code",
   "execution_count": null,
   "id": "c513a4ac",
   "metadata": {},
   "outputs": [],
   "source": [
    "x = 5\n",
    "y = \"Hello, World!\""
   ]
  },
  {
   "cell_type": "code",
   "execution_count": null,
   "id": "4808e0ed",
   "metadata": {},
   "outputs": [],
   "source": [
    "#This is a comment,\n",
    "print(\"Good Morning\")"
   ]
  },
  {
   "cell_type": "code",
   "execution_count": null,
   "id": "196d1a03",
   "metadata": {},
   "outputs": [],
   "source": [
    "#print(\"Hello, World!\")\n",
    "print(\"Cheers, Mate!\")"
   ]
  },
  {
   "cell_type": "code",
   "execution_count": null,
   "id": "33b0d727",
   "metadata": {},
   "outputs": [],
   "source": [
    "#This is a comment\n",
    "#written in\n",
    "#more than just one line\n",
    "print(\"Hello, World!\")"
   ]
  },
  {
   "cell_type": "code",
   "execution_count": null,
   "id": "6ff949cc",
   "metadata": {},
   "outputs": [],
   "source": [
    "\"\"\"\n",
    "This is a comment\n",
    "written in\n",
    "more than just one line\n",
    "\"\"\"\n",
    "print(\"Hello, World!\")"
   ]
  },
  {
   "cell_type": "code",
   "execution_count": null,
   "id": "10c667d5",
   "metadata": {},
   "outputs": [],
   "source": [
    "\"\"\"\n",
    "This is a comment\n",
    "read by you\n",
    "which is more than two lines\n",
    "\"\"\"\n",
    "print(\"Good Morning\")"
   ]
  },
  {
   "cell_type": "markdown",
   "id": "837652f8",
   "metadata": {},
   "source": [
    "### Comment can also write with TRIPLE QUOTES"
   ]
  },
  {
   "cell_type": "markdown",
   "id": "a3848203",
   "metadata": {},
   "source": [
    "# Variables"
   ]
  },
  {
   "cell_type": "code",
   "execution_count": null,
   "id": "cdc87462",
   "metadata": {},
   "outputs": [],
   "source": [
    "x = 5\n",
    "y = \"John\"\n",
    "print(x)\n",
    "print(y)"
   ]
  },
  {
   "cell_type": "code",
   "execution_count": null,
   "id": "3f230583",
   "metadata": {},
   "outputs": [],
   "source": [
    "x = 4       # x is of type int\n",
    "x = \"Sally\" # x is now of type str\n",
    "print(x)"
   ]
  },
  {
   "cell_type": "markdown",
   "id": "9f561c75",
   "metadata": {},
   "source": [
    "# Casting"
   ]
  },
  {
   "cell_type": "code",
   "execution_count": null,
   "id": "af3370c2",
   "metadata": {},
   "outputs": [],
   "source": [
    "x = str(3)    # x will be '3'\n",
    "y = int(3)    # y will be 3\n",
    "z = float(3)  # z will be 3.0"
   ]
  },
  {
   "cell_type": "code",
   "execution_count": null,
   "id": "affd8f8a",
   "metadata": {},
   "outputs": [],
   "source": [
    "x = 5\n",
    "y = \"John\"\n",
    "Z = 6.0\n",
    "print(type(x))\n",
    "print(type(y))\n",
    "print(type(Z))"
   ]
  },
  {
   "cell_type": "markdown",
   "id": "ab1d00f4",
   "metadata": {},
   "source": [
    "### Single or Double Quotes?\n",
    "\n",
    "String variables can be declared either by using single or double quotes"
   ]
  },
  {
   "cell_type": "code",
   "execution_count": null,
   "id": "08327344",
   "metadata": {},
   "outputs": [],
   "source": [
    "x = \"John\"\n",
    "\n",
    "print(x)"
   ]
  },
  {
   "cell_type": "code",
   "execution_count": null,
   "id": "84ef7f7a",
   "metadata": {},
   "outputs": [],
   "source": [
    "y = 'John'\n",
    "\n",
    "print(y)"
   ]
  },
  {
   "cell_type": "markdown",
   "id": "81cc99be",
   "metadata": {},
   "source": [
    "### Case-Sensitive\n",
    "Variable names are case-sensitive.."
   ]
  },
  {
   "cell_type": "code",
   "execution_count": 13,
   "id": "28ead225",
   "metadata": {},
   "outputs": [],
   "source": [
    "a = 4\n",
    "A = \"Sally\"\n",
    "#A will not overwrite a"
   ]
  },
  {
   "cell_type": "code",
   "execution_count": 14,
   "id": "dd2be4ca",
   "metadata": {},
   "outputs": [
    {
     "name": "stdout",
     "output_type": "stream",
     "text": [
      "4\n",
      "Sally\n"
     ]
    }
   ],
   "source": [
    "print(a)\n",
    "print(A)"
   ]
  },
  {
   "cell_type": "markdown",
   "id": "8ccc742b",
   "metadata": {},
   "source": [
    "### Variable Names\n",
    "1. A variable can have a short name (like x and y) or a more descriptive name (age, carname, total_volume). Rules for Python variables:\n",
    "2. A variable name must start with a letter or the underscore character\n",
    "3. A variable name cannot start with a number\n",
    "4. A variable name can only contain alpha-numeric characters and underscores (A-z, 0-9, and _ )\n",
    "5. Variable names are case-sensitive (age, Age and AGE are three different variables)"
   ]
  },
  {
   "cell_type": "code",
   "execution_count": 15,
   "id": "50c7ca13",
   "metadata": {},
   "outputs": [],
   "source": [
    "#Legal variable names: \n",
    "\n",
    "myvar = \"John\"\n",
    "my_var = \"John\"\n",
    "_my_var = \"John\"\n",
    "myVar = \"John\"\n",
    "MYVAR = \"John\"\n",
    "myvar2 = \"John\""
   ]
  },
  {
   "cell_type": "code",
   "execution_count": 16,
   "id": "500abf79",
   "metadata": {},
   "outputs": [
    {
     "ename": "SyntaxError",
     "evalue": "invalid syntax (3407628864.py, line 3)",
     "output_type": "error",
     "traceback": [
      "\u001b[1;36m  Input \u001b[1;32mIn [16]\u001b[1;36m\u001b[0m\n\u001b[1;33m    2myvar = \"John\"\u001b[0m\n\u001b[1;37m     ^\u001b[0m\n\u001b[1;31mSyntaxError\u001b[0m\u001b[1;31m:\u001b[0m invalid syntax\n"
     ]
    }
   ],
   "source": [
    "#Illegal variable names:\n",
    "\n",
    "2myvar = \"John\"\n",
    "my-var = \"John\"\n",
    "my var = \"John\""
   ]
  },
  {
   "cell_type": "markdown",
   "id": "f7c67363",
   "metadata": {},
   "source": [
    "# Python Variables - Assign Multiple Values"
   ]
  },
  {
   "cell_type": "markdown",
   "id": "1dc09dad",
   "metadata": {},
   "source": [
    "Many Values to Multiple Variables:"
   ]
  },
  {
   "cell_type": "code",
   "execution_count": null,
   "id": "86eba3e1",
   "metadata": {},
   "outputs": [],
   "source": [
    "x, y, z = \"Orange\", \"Banana\", \"Cherry\"\n",
    "print(x)\n",
    "print(y)\n",
    "print(z)"
   ]
  },
  {
   "cell_type": "markdown",
   "id": "f2bf747a",
   "metadata": {},
   "source": [
    "One Value to Multiple Variables:"
   ]
  },
  {
   "cell_type": "code",
   "execution_count": null,
   "id": "50a7f4cb",
   "metadata": {},
   "outputs": [],
   "source": [
    "x = y = z = \"Orange\"\n",
    "print(x)\n",
    "print(y)\n",
    "print(z)"
   ]
  },
  {
   "cell_type": "markdown",
   "id": "fd5079a9",
   "metadata": {},
   "source": [
    "Unpack a Collection:"
   ]
  },
  {
   "cell_type": "code",
   "execution_count": null,
   "id": "79be7751",
   "metadata": {},
   "outputs": [],
   "source": [
    "fruits = [\"apple\", \"banana\", \"cherry\"]\n",
    "x, y, z = fruits\n",
    "print(x)\n",
    "print(y)\n",
    "print(z)"
   ]
  },
  {
   "cell_type": "markdown",
   "id": "27b28c87",
   "metadata": {},
   "source": [
    "# Output Variables"
   ]
  },
  {
   "cell_type": "code",
   "execution_count": null,
   "id": "9fff5214",
   "metadata": {},
   "outputs": [],
   "source": [
    "x = \"Python is awesome\"\n",
    "print(x)"
   ]
  },
  {
   "cell_type": "code",
   "execution_count": null,
   "id": "c0c29f60",
   "metadata": {},
   "outputs": [],
   "source": [
    "x = \"Python\"\n",
    "y = \"is\"\n",
    "z = \"awesome\"\n",
    "print(x,y,z)"
   ]
  },
  {
   "cell_type": "code",
   "execution_count": null,
   "id": "1108980c",
   "metadata": {},
   "outputs": [],
   "source": [
    "x = \"Python \"  #After \"python\" Space is must, \n",
    "y = \"is \"      #After \"is\" Space is must\n",
    "z = \"awesome\"\n",
    "print(x + y + z)\n",
    "\n",
    "#otherwise without them the result would be \"Pythonisawesome\"."
   ]
  },
  {
   "cell_type": "code",
   "execution_count": null,
   "id": "14807038",
   "metadata": {},
   "outputs": [],
   "source": [
    "x = 5\n",
    "y = 10\n",
    "print(x + y)"
   ]
  },
  {
   "cell_type": "code",
   "execution_count": null,
   "id": "ff03ccfa",
   "metadata": {},
   "outputs": [],
   "source": [
    "#In the print() function, when you try to combine a string and a number \n",
    "#with the + operator, Python will give you an error\n",
    "\n",
    "x = 5\n",
    "y = \"John\"\n",
    "print(x + y)"
   ]
  },
  {
   "cell_type": "code",
   "execution_count": null,
   "id": "9ad9e751",
   "metadata": {},
   "outputs": [],
   "source": [
    "#The best way to output multiple variables in the print() \n",
    "#function is to separate them with commas, \n",
    "#which even support different data types\n",
    "\n",
    "x = 5\n",
    "y = \"John\"\n",
    "print(x, y)"
   ]
  },
  {
   "cell_type": "markdown",
   "id": "418aaae3",
   "metadata": {},
   "source": [
    "# Global Variables"
   ]
  },
  {
   "cell_type": "code",
   "execution_count": null,
   "id": "5184e802",
   "metadata": {},
   "outputs": [],
   "source": [
    "x = \"awesome\"\n",
    "\n",
    "def myfunc():\n",
    "  print(\"Python is \" + x)\n",
    "\n",
    "myfunc()"
   ]
  },
  {
   "cell_type": "code",
   "execution_count": null,
   "id": "8bedc723",
   "metadata": {},
   "outputs": [],
   "source": [
    "x = \"shiv\"\n",
    "\n",
    "def var():\n",
    "    print(\"my name is \" + x)\n",
    "    \n",
    "var()"
   ]
  },
  {
   "cell_type": "code",
   "execution_count": null,
   "id": "e9fc1924",
   "metadata": {},
   "outputs": [],
   "source": [
    "x = \"awesome\"\n",
    "\n",
    "def myfunc():\n",
    "  x = \"fantastic\"\n",
    "  print(\"Python is \" + x)\n",
    "\n",
    "myfunc()\n",
    "\n",
    "print(\"Python is \" + x)"
   ]
  },
  {
   "cell_type": "code",
   "execution_count": null,
   "id": "1bff81ce",
   "metadata": {},
   "outputs": [],
   "source": [
    "def myfunc():\n",
    "  global x\n",
    "  x = \"fantastic\"\n",
    "\n",
    "myfunc()\n",
    "\n",
    "print(\"Python is \" + x)"
   ]
  },
  {
   "cell_type": "code",
   "execution_count": null,
   "id": "1087e980",
   "metadata": {},
   "outputs": [],
   "source": [
    "x = \"awesome\"\n",
    "\n",
    "def myfunc():\n",
    "  global x\n",
    "  x = \"fantastic\"\n",
    "\n",
    "myfunc()\n",
    "\n",
    "print(\"Python is \" + x)"
   ]
  },
  {
   "cell_type": "code",
   "execution_count": null,
   "id": "6f8653fe",
   "metadata": {},
   "outputs": [],
   "source": []
  },
  {
   "cell_type": "markdown",
   "id": "288887ce",
   "metadata": {},
   "source": [
    "# Data Types"
   ]
  },
  {
   "cell_type": "code",
   "execution_count": 17,
   "id": "3c2aaa4f",
   "metadata": {},
   "outputs": [
    {
     "name": "stdout",
     "output_type": "stream",
     "text": [
      "<class 'bool'>\n"
     ]
    }
   ],
   "source": [
    "x = True \n",
    "\n",
    "print(type(x))"
   ]
  },
  {
   "cell_type": "code",
   "execution_count": 18,
   "id": "2ebf7acf",
   "metadata": {},
   "outputs": [
    {
     "name": "stdout",
     "output_type": "stream",
     "text": [
      "<class 'str'>\n"
     ]
    }
   ],
   "source": [
    "a = \"Hello World\"\n",
    "\n",
    "print(type(a))"
   ]
  },
  {
   "cell_type": "code",
   "execution_count": 19,
   "id": "b029d2d3",
   "metadata": {},
   "outputs": [
    {
     "name": "stdout",
     "output_type": "stream",
     "text": [
      "<class 'int'>\n",
      "<class 'float'>\n",
      "<class 'complex'>\n",
      "<class 'list'>\n",
      "<class 'tuple'>\n",
      "<class 'range'>\n",
      "<class 'dict'>\n",
      "<class 'set'>\n",
      "<class 'bool'>\n"
     ]
    }
   ],
   "source": [
    "x = 20\n",
    "y = 20.5\n",
    "z = 1j\n",
    "X = [\"apple\", \"banana\", \"cherry\"]\n",
    "Y = (\"apple\", \"banana\", \"cherry\")\n",
    "Z = range(6)\n",
    "a = {\"name\" : \"John\", \"age\" : 36}\n",
    "b = {\"apple\", \"banana\", \"cherry\"}\n",
    "c = True\n",
    "\n",
    "print(type(x))\n",
    "print(type(y))\n",
    "print(type(z))\n",
    "print(type(X))\n",
    "print(type(Y))\n",
    "print(type(Z))\n",
    "print(type(a))\n",
    "print(type(b))\n",
    "print(type(c))"
   ]
  },
  {
   "cell_type": "markdown",
   "id": "8ecf3dd6",
   "metadata": {},
   "source": [
    "# Python Numbers\n",
    "\n",
    "There are three types of number:\n",
    "1. int\n",
    "2. float\n",
    "3. complex"
   ]
  },
  {
   "cell_type": "code",
   "execution_count": 20,
   "id": "0d087e06",
   "metadata": {},
   "outputs": [],
   "source": [
    "x = 1    # int\n",
    "y = 2.8  # float\n",
    "z = 1j   # complex"
   ]
  },
  {
   "cell_type": "code",
   "execution_count": 21,
   "id": "eb420a9e",
   "metadata": {},
   "outputs": [
    {
     "name": "stdout",
     "output_type": "stream",
     "text": [
      "<class 'int'>\n",
      "<class 'int'>\n",
      "<class 'int'>\n"
     ]
    }
   ],
   "source": [
    "x = 1\n",
    "y = 35656222554887711\n",
    "z = -3255522\n",
    "\n",
    "print(type(x))\n",
    "print(type(y))\n",
    "print(type(z))"
   ]
  },
  {
   "cell_type": "code",
   "execution_count": 22,
   "id": "af371a77",
   "metadata": {},
   "outputs": [
    {
     "name": "stdout",
     "output_type": "stream",
     "text": [
      "<class 'float'>\n",
      "<class 'float'>\n",
      "<class 'float'>\n"
     ]
    }
   ],
   "source": [
    "x = 1.10\n",
    "y = 1.0\n",
    "z = -35.59\n",
    "\n",
    "print(type(x))\n",
    "print(type(y))\n",
    "print(type(z))"
   ]
  },
  {
   "cell_type": "code",
   "execution_count": 23,
   "id": "7620fc7a",
   "metadata": {},
   "outputs": [
    {
     "name": "stdout",
     "output_type": "stream",
     "text": [
      "<class 'float'>\n",
      "<class 'float'>\n",
      "<class 'float'>\n"
     ]
    }
   ],
   "source": [
    "#Float can also be scientific numbers with an \"e\" to indicate \n",
    "#the power of 10.\n",
    "\n",
    "x = 35e3\n",
    "y = 12E4\n",
    "z = -87.7e100\n",
    "\n",
    "print(type(x))\n",
    "print(type(y))\n",
    "print(type(z))"
   ]
  },
  {
   "cell_type": "code",
   "execution_count": 24,
   "id": "62425e50",
   "metadata": {},
   "outputs": [
    {
     "name": "stdout",
     "output_type": "stream",
     "text": [
      "<class 'complex'>\n",
      "<class 'complex'>\n",
      "<class 'complex'>\n"
     ]
    }
   ],
   "source": [
    "x = 3+5j\n",
    "y = 5j\n",
    "z = -5j\n",
    "\n",
    "print(type(x))\n",
    "print(type(y))\n",
    "print(type(z))"
   ]
  },
  {
   "cell_type": "code",
   "execution_count": 25,
   "id": "a8a92726",
   "metadata": {},
   "outputs": [
    {
     "name": "stdout",
     "output_type": "stream",
     "text": [
      "1.0\n",
      "2\n",
      "(1+0j)\n",
      "<class 'float'>\n",
      "<class 'int'>\n",
      "<class 'complex'>\n"
     ]
    }
   ],
   "source": [
    "x=1    # int\n",
    "y=2.8  # float\n",
    "z=1j   # complex\n",
    "\n",
    "# convert from int to float:\n",
    "a=float(x)\n",
    "\n",
    "# convert from float to int:\n",
    "b=int(y)\n",
    "\n",
    "# convert from int to complex:\n",
    "c=complex(x)\n",
    "\n",
    "print(a)\n",
    "print(b)\n",
    "print(c)\n",
    "\n",
    "print(type(a))\n",
    "print(type(b))\n",
    "print(type(c))"
   ]
  },
  {
   "cell_type": "markdown",
   "id": "4509e968",
   "metadata": {},
   "source": [
    "# Random Number"
   ]
  },
  {
   "cell_type": "code",
   "execution_count": 26,
   "id": "84f60a41",
   "metadata": {},
   "outputs": [
    {
     "name": "stdout",
     "output_type": "stream",
     "text": [
      "9\n"
     ]
    }
   ],
   "source": [
    "import random\n",
    "\n",
    "print(random.randrange(1, 10))"
   ]
  },
  {
   "cell_type": "code",
   "execution_count": 27,
   "id": "1aebafff",
   "metadata": {},
   "outputs": [
    {
     "name": "stdout",
     "output_type": "stream",
     "text": [
      "1 2 3\n"
     ]
    }
   ],
   "source": [
    "x = int(1)   # x will be 1\n",
    "y = int(2.8) # y will be 2\n",
    "z = int(\"3\") # z will be 3\n",
    "\n",
    "print(x, y, z)"
   ]
  },
  {
   "cell_type": "code",
   "execution_count": 28,
   "id": "c9e04df6",
   "metadata": {},
   "outputs": [
    {
     "name": "stdout",
     "output_type": "stream",
     "text": [
      "1.0 2.8 3.0 4.2\n"
     ]
    }
   ],
   "source": [
    "x = float(1)\n",
    "y = float(2.8)\n",
    "z = float(\"3\")\n",
    "w = float(\"4.2\")\n",
    "\n",
    "print(x, y, z, w)"
   ]
  },
  {
   "cell_type": "code",
   "execution_count": 29,
   "id": "f865b9c9",
   "metadata": {},
   "outputs": [
    {
     "name": "stdout",
     "output_type": "stream",
     "text": [
      "s1 2 3.0\n"
     ]
    }
   ],
   "source": [
    "x = str(\"s1\")\n",
    "y = str(2)\n",
    "z = str(3.0)\n",
    "\n",
    "print(x, y, z)"
   ]
  },
  {
   "cell_type": "markdown",
   "id": "daf4f67f",
   "metadata": {},
   "source": [
    "# Multiline Strings"
   ]
  },
  {
   "cell_type": "code",
   "execution_count": 30,
   "id": "883de203",
   "metadata": {},
   "outputs": [
    {
     "name": "stdout",
     "output_type": "stream",
     "text": [
      "Lorem ipsum dolor sit amet,\n",
      "consectetur adipiscing elit,\n",
      "sed do eiusmod tempor incididunt\n",
      "ut labore et dolore magna aliqua.\n"
     ]
    }
   ],
   "source": [
    "a = \"\"\"Lorem ipsum dolor sit amet,\n",
    "consectetur adipiscing elit,\n",
    "sed do eiusmod tempor incididunt\n",
    "ut labore et dolore magna aliqua.\"\"\"\n",
    "print(a)"
   ]
  },
  {
   "cell_type": "code",
   "execution_count": 31,
   "id": "5f70b369",
   "metadata": {},
   "outputs": [
    {
     "name": "stdout",
     "output_type": "stream",
     "text": [
      "Lorem ipsum dolor sit amet,\n",
      "consectetur adipiscing elit,\n",
      "sed do eiusmod tempor incididunt\n",
      "ut labore et dolore magna aliqua.\n"
     ]
    }
   ],
   "source": [
    "a = '''Lorem ipsum dolor sit amet,\n",
    "consectetur adipiscing elit,\n",
    "sed do eiusmod tempor incididunt\n",
    "ut labore et dolore magna aliqua.'''\n",
    "print(a)"
   ]
  },
  {
   "cell_type": "code",
   "execution_count": 32,
   "id": "86132daf",
   "metadata": {},
   "outputs": [
    {
     "name": "stdout",
     "output_type": "stream",
     "text": [
      "123,\n",
      "456,\n",
      "789.\n"
     ]
    }
   ],
   "source": [
    "a = '''123,\n",
    "456,\n",
    "789.'''\n",
    "\n",
    "print(a)\n"
   ]
  },
  {
   "cell_type": "markdown",
   "id": "8a1a73e2",
   "metadata": {},
   "source": [
    "# Strings are Arrays"
   ]
  },
  {
   "cell_type": "code",
   "execution_count": 33,
   "id": "a73f767c",
   "metadata": {},
   "outputs": [
    {
     "name": "stdout",
     "output_type": "stream",
     "text": [
      "e\n"
     ]
    }
   ],
   "source": [
    "a = \"Hello, World!\"\n",
    "print(a[1])"
   ]
  },
  {
   "cell_type": "code",
   "execution_count": 34,
   "id": "0d64d63a",
   "metadata": {},
   "outputs": [
    {
     "name": "stdout",
     "output_type": "stream",
     "text": [
      "l\n"
     ]
    }
   ],
   "source": [
    "a = \"Hello, World!\"\n",
    "print(a[3])"
   ]
  },
  {
   "cell_type": "code",
   "execution_count": 35,
   "id": "45085a8c",
   "metadata": {},
   "outputs": [
    {
     "name": "stdout",
     "output_type": "stream",
     "text": [
      "b\n",
      "a\n",
      "n\n",
      "a\n",
      "n\n",
      "a\n"
     ]
    }
   ],
   "source": [
    "# For LOOP\n",
    "\n",
    "for x in \"banana\":\n",
    "    print(x)"
   ]
  },
  {
   "cell_type": "code",
   "execution_count": 36,
   "id": "b6d82876",
   "metadata": {},
   "outputs": [
    {
     "name": "stdout",
     "output_type": "stream",
     "text": [
      "11\n"
     ]
    }
   ],
   "source": [
    "# Length [len() function]\n",
    "\n",
    "a = \"hello world\"\n",
    "print(len(a))"
   ]
  },
  {
   "cell_type": "code",
   "execution_count": 37,
   "id": "5ed118a7",
   "metadata": {},
   "outputs": [
    {
     "name": "stdout",
     "output_type": "stream",
     "text": [
      "True\n"
     ]
    }
   ],
   "source": [
    "# Check String\n",
    "\n",
    "txt = \"the best things in life are free\"\n",
    "print(\"free\" in txt)"
   ]
  },
  {
   "cell_type": "code",
   "execution_count": 38,
   "id": "f0114c33",
   "metadata": {},
   "outputs": [
    {
     "name": "stdout",
     "output_type": "stream",
     "text": [
      "True\n"
     ]
    }
   ],
   "source": [
    "# Check String\n",
    "\n",
    "txt = \"the best things in life are free\"\n",
    "print(\"the\" in txt)"
   ]
  },
  {
   "cell_type": "code",
   "execution_count": 39,
   "id": "606deeaa",
   "metadata": {},
   "outputs": [
    {
     "name": "stdout",
     "output_type": "stream",
     "text": [
      "False\n"
     ]
    }
   ],
   "source": [
    "# Check String\n",
    "\n",
    "txt = \"the best things in life are free\"\n",
    "print(\"Best\" in txt)"
   ]
  },
  {
   "cell_type": "code",
   "execution_count": 40,
   "id": "7d5611aa",
   "metadata": {},
   "outputs": [
    {
     "name": "stdout",
     "output_type": "stream",
     "text": [
      "yes, 'free' is present\n"
     ]
    }
   ],
   "source": [
    "# if Statement:\n",
    "\n",
    "txt = \"the best things in life are free\"\n",
    "if \"free\" in txt:\n",
    "    print(\"yes, 'free' is present\")"
   ]
  },
  {
   "cell_type": "code",
   "execution_count": 41,
   "id": "ff1134e8",
   "metadata": {},
   "outputs": [
    {
     "name": "stdout",
     "output_type": "stream",
     "text": [
      "True\n"
     ]
    }
   ],
   "source": [
    "# not in statement\n",
    "\n",
    "txt = \"the best things in life are free\"\n",
    "print(\"expensive\" not in txt)"
   ]
  },
  {
   "cell_type": "code",
   "execution_count": 42,
   "id": "e712e4d9",
   "metadata": {},
   "outputs": [
    {
     "name": "stdout",
     "output_type": "stream",
     "text": [
      "False\n"
     ]
    }
   ],
   "source": [
    "txt = \"the best things in life are free\"\n",
    "print(\"best\" not in txt)"
   ]
  },
  {
   "cell_type": "code",
   "execution_count": 43,
   "id": "3c97ef50",
   "metadata": {},
   "outputs": [
    {
     "name": "stdout",
     "output_type": "stream",
     "text": [
      "No, 'expensive' is NOT present.\n"
     ]
    }
   ],
   "source": [
    "txt = \"The best things in life are free!\"\n",
    "if \"expensive\" not in txt:\n",
    "    print(\"No, 'expensive' is NOT present.\")"
   ]
  },
  {
   "cell_type": "code",
   "execution_count": 44,
   "id": "ce20addb",
   "metadata": {},
   "outputs": [
    {
     "name": "stdout",
     "output_type": "stream",
     "text": [
      "yes, 'best' is present.\n"
     ]
    }
   ],
   "source": [
    "txt = \"The best things in life are free!\"\n",
    "if \"best\" in txt:\n",
    "    print(\"yes, 'best' is present.\")"
   ]
  },
  {
   "cell_type": "markdown",
   "id": "01a592b9",
   "metadata": {},
   "source": [
    "# Slicing Strings"
   ]
  },
  {
   "cell_type": "code",
   "execution_count": 45,
   "id": "2dace504",
   "metadata": {},
   "outputs": [
    {
     "name": "stdout",
     "output_type": "stream",
     "text": [
      "llo\n"
     ]
    }
   ],
   "source": [
    "b = \"Hello, World!\"\n",
    "print(b[2:5])"
   ]
  },
  {
   "cell_type": "code",
   "execution_count": 46,
   "id": "891b2ce8",
   "metadata": {},
   "outputs": [
    {
     "name": "stdout",
     "output_type": "stream",
     "text": [
      "Hello\n"
     ]
    }
   ],
   "source": [
    "b = \"Hello, World!\"\n",
    "print(b[:5])"
   ]
  },
  {
   "cell_type": "code",
   "execution_count": 47,
   "id": "4b63fdcc",
   "metadata": {},
   "outputs": [
    {
     "name": "stdout",
     "output_type": "stream",
     "text": [
      "llo, World!\n"
     ]
    }
   ],
   "source": [
    "b = \"Hello, World!\"\n",
    "print(b[2:])"
   ]
  },
  {
   "cell_type": "code",
   "execution_count": 48,
   "id": "1de4d3ca",
   "metadata": {},
   "outputs": [
    {
     "name": "stdout",
     "output_type": "stream",
     "text": [
      "orl\n"
     ]
    }
   ],
   "source": [
    "# Negative Indexing..\n",
    "\n",
    "b = \"Hello, World!\"\n",
    "print(b[-5:-2])"
   ]
  },
  {
   "cell_type": "markdown",
   "id": "8d95f225",
   "metadata": {},
   "source": [
    "# Upper Case"
   ]
  },
  {
   "cell_type": "code",
   "execution_count": 49,
   "id": "4ad10aff",
   "metadata": {},
   "outputs": [
    {
     "name": "stdout",
     "output_type": "stream",
     "text": [
      "HELLO, WORLD!\n"
     ]
    }
   ],
   "source": [
    "a = \"Hello, World!\"\n",
    "print(a.upper())"
   ]
  },
  {
   "cell_type": "markdown",
   "id": "711b9898",
   "metadata": {},
   "source": [
    "# Lower Case"
   ]
  },
  {
   "cell_type": "code",
   "execution_count": 50,
   "id": "3ccc7f6b",
   "metadata": {},
   "outputs": [
    {
     "name": "stdout",
     "output_type": "stream",
     "text": [
      "hello, world!\n"
     ]
    }
   ],
   "source": [
    "a = \"Hello, World!\"\n",
    "print(a.lower())"
   ]
  },
  {
   "cell_type": "markdown",
   "id": "8667fae9",
   "metadata": {},
   "source": [
    "# Remove Whitespace"
   ]
  },
  {
   "cell_type": "code",
   "execution_count": 51,
   "id": "b16a7539",
   "metadata": {},
   "outputs": [
    {
     "name": "stdout",
     "output_type": "stream",
     "text": [
      "Hello, World!\n"
     ]
    }
   ],
   "source": [
    "#The strip() method removes any whitespace from the beginning or the end:\n",
    "\n",
    "a = \" Hello, World! \"\n",
    "print(a.strip()) # returns \"Hello, World!\""
   ]
  },
  {
   "cell_type": "markdown",
   "id": "5d016159",
   "metadata": {},
   "source": [
    "# Replace String"
   ]
  },
  {
   "cell_type": "code",
   "execution_count": 52,
   "id": "9b9a77b7",
   "metadata": {},
   "outputs": [
    {
     "name": "stdout",
     "output_type": "stream",
     "text": [
      "Jello, World!\n"
     ]
    }
   ],
   "source": [
    "a = \"Hello, World!\"\n",
    "print(a.replace(\"H\", \"J\"))"
   ]
  },
  {
   "cell_type": "code",
   "execution_count": 53,
   "id": "703f06d8",
   "metadata": {},
   "outputs": [
    {
     "name": "stdout",
     "output_type": "stream",
     "text": [
      "Hello: World!\n"
     ]
    }
   ],
   "source": [
    "a = \"Hello, World!\"\n",
    "print(a.replace(\",\", \":\"))"
   ]
  },
  {
   "cell_type": "markdown",
   "id": "be8ce751",
   "metadata": {},
   "source": [
    "# Split String"
   ]
  },
  {
   "cell_type": "code",
   "execution_count": 54,
   "id": "ca8a9947",
   "metadata": {},
   "outputs": [
    {
     "name": "stdout",
     "output_type": "stream",
     "text": [
      "['Hello', ' World']\n"
     ]
    }
   ],
   "source": [
    "a = \"Hello, World\"\n",
    "print(a.split(\",\"))"
   ]
  },
  {
   "cell_type": "markdown",
   "id": "de1004d8",
   "metadata": {},
   "source": [
    "# String Concatenation"
   ]
  },
  {
   "cell_type": "code",
   "execution_count": 55,
   "id": "f709dede",
   "metadata": {},
   "outputs": [
    {
     "name": "stdout",
     "output_type": "stream",
     "text": [
      "Hello World\n"
     ]
    }
   ],
   "source": [
    "a = \"Hello\"\n",
    "b = \" World\"\n",
    "c = a + b\n",
    "print(c)"
   ]
  },
  {
   "cell_type": "code",
   "execution_count": 56,
   "id": "68824328",
   "metadata": {},
   "outputs": [
    {
     "name": "stdout",
     "output_type": "stream",
     "text": [
      "Hello World\n"
     ]
    }
   ],
   "source": [
    "#To add a space between them, add a \" \":\n",
    "\n",
    "a = \"Hello\"\n",
    "b = \"World\"\n",
    "c = a + \" \" + b\n",
    "print(c)"
   ]
  },
  {
   "cell_type": "code",
   "execution_count": 57,
   "id": "c6e44c50",
   "metadata": {},
   "outputs": [
    {
     "ename": "TypeError",
     "evalue": "can only concatenate str (not \"int\") to str",
     "output_type": "error",
     "traceback": [
      "\u001b[1;31m---------------------------------------------------------------------------\u001b[0m",
      "\u001b[1;31mTypeError\u001b[0m                                 Traceback (most recent call last)",
      "Input \u001b[1;32mIn [57]\u001b[0m, in \u001b[0;36m<cell line: 2>\u001b[1;34m()\u001b[0m\n\u001b[0;32m      1\u001b[0m age \u001b[38;5;241m=\u001b[39m \u001b[38;5;241m36\u001b[39m\n\u001b[1;32m----> 2\u001b[0m txt \u001b[38;5;241m=\u001b[39m \u001b[38;5;124;43m\"\u001b[39;49m\u001b[38;5;124;43mMy name is John, I am \u001b[39;49m\u001b[38;5;124;43m\"\u001b[39;49m\u001b[43m \u001b[49m\u001b[38;5;241;43m+\u001b[39;49m\u001b[43m \u001b[49m\u001b[43mage\u001b[49m\n\u001b[0;32m      3\u001b[0m \u001b[38;5;28mprint\u001b[39m(txt)\n",
      "\u001b[1;31mTypeError\u001b[0m: can only concatenate str (not \"int\") to str"
     ]
    }
   ],
   "source": [
    "age = 36\n",
    "txt = \"My name is John, I am \" + age\n",
    "print(txt)"
   ]
  },
  {
   "cell_type": "code",
   "execution_count": null,
   "id": "77e87632",
   "metadata": {},
   "outputs": [],
   "source": []
  },
  {
   "cell_type": "code",
   "execution_count": 58,
   "id": "21d12877",
   "metadata": {},
   "outputs": [
    {
     "name": "stdout",
     "output_type": "stream",
     "text": [
      "My name is John, and I am 36\n"
     ]
    }
   ],
   "source": [
    "#Use the format() method to insert numbers into strings:\n",
    "\n",
    "age = 36\n",
    "txt = \"My name is John, and I am {}\"\n",
    "print(txt.format(age))"
   ]
  },
  {
   "cell_type": "code",
   "execution_count": 59,
   "id": "c7829076",
   "metadata": {},
   "outputs": [
    {
     "name": "stdout",
     "output_type": "stream",
     "text": [
      "my name is shiv, and my roll no is 10\n"
     ]
    }
   ],
   "source": [
    "roll_no = 10\n",
    "txt = \"my name is shiv, and my roll no is {}\"\n",
    "print(txt.format(roll_no))"
   ]
  },
  {
   "cell_type": "markdown",
   "id": "0f2d0bff",
   "metadata": {},
   "source": [
    "### Space is not readable by python, instad of space, use _ "
   ]
  },
  {
   "cell_type": "code",
   "execution_count": 60,
   "id": "e929cf4d",
   "metadata": {},
   "outputs": [
    {
     "name": "stdout",
     "output_type": "stream",
     "text": [
      "i want 3 pieces of item 567 for 49.95 dollars.\n"
     ]
    }
   ],
   "source": [
    "quantity = 3\n",
    "item_no = 567\n",
    "price = 49.95\n",
    "\n",
    "my_order = \"i want {} pieces of item {} for {} dollars.\"\n",
    "print(my_order.format(quantity,item_no,price))"
   ]
  },
  {
   "cell_type": "code",
   "execution_count": 61,
   "id": "4fc014c6",
   "metadata": {},
   "outputs": [
    {
     "name": "stdout",
     "output_type": "stream",
     "text": [
      "I want to pay 49.95 dollars for 3 pieces of item 567.\n"
     ]
    }
   ],
   "source": [
    "quantity = 3\n",
    "itemno = 567\n",
    "price = 49.95\n",
    "myorder = \"I want to pay {2} dollars for {0} pieces of item {1}.\"\n",
    "print(myorder.format(quantity, itemno, price))"
   ]
  },
  {
   "cell_type": "markdown",
   "id": "7d67ea15",
   "metadata": {},
   "source": [
    "# Escape Character"
   ]
  },
  {
   "cell_type": "code",
   "execution_count": 62,
   "id": "36940429",
   "metadata": {},
   "outputs": [
    {
     "ename": "SyntaxError",
     "evalue": "invalid syntax (7934146.py, line 1)",
     "output_type": "error",
     "traceback": [
      "\u001b[1;36m  Input \u001b[1;32mIn [62]\u001b[1;36m\u001b[0m\n\u001b[1;33m    txt = \"We are the so-called \"Vikings\" from the north.\"\u001b[0m\n\u001b[1;37m                                 ^\u001b[0m\n\u001b[1;31mSyntaxError\u001b[0m\u001b[1;31m:\u001b[0m invalid syntax\n"
     ]
    }
   ],
   "source": [
    "txt = \"We are the so-called \"Vikings\" from the north.\""
   ]
  },
  {
   "cell_type": "markdown",
   "id": "fce3f6d3",
   "metadata": {},
   "source": [
    "You will get an error if you use double quotes inside a string that is surrounded by double quotes\n",
    "\n",
    "To fix this problem, use the escape character \\\":"
   ]
  },
  {
   "cell_type": "code",
   "execution_count": 63,
   "id": "5d8b7287",
   "metadata": {},
   "outputs": [],
   "source": [
    "txt = \"We are the so-called \\\"Vikings\\\" from the north.\""
   ]
  },
  {
   "cell_type": "markdown",
   "id": "ed3e0442",
   "metadata": {},
   "source": [
    "\\'   single Quote,\n",
    "\\\\   Backslash,\n",
    "\\n   New Line,\n",
    "\\r   Carriage return,\n",
    "\\t   Tab,\n",
    "\\b   Backspace,\n",
    "\\f   Form Feed,\n",
    "\\ooo  Octal value,\n",
    "\\xhh  Hex value."
   ]
  },
  {
   "cell_type": "markdown",
   "id": "6a1af046",
   "metadata": {},
   "source": [
    "# Boolean Values"
   ]
  },
  {
   "cell_type": "code",
   "execution_count": 64,
   "id": "4e49ca05",
   "metadata": {},
   "outputs": [
    {
     "name": "stdout",
     "output_type": "stream",
     "text": [
      "True\n",
      "False\n",
      "False\n"
     ]
    }
   ],
   "source": [
    "print(10 > 9)\n",
    "print(10 == 9)\n",
    "print(10 < 9)"
   ]
  },
  {
   "cell_type": "code",
   "execution_count": 65,
   "id": "7cde2c40",
   "metadata": {},
   "outputs": [
    {
     "name": "stdout",
     "output_type": "stream",
     "text": [
      "b is not greater than a\n"
     ]
    }
   ],
   "source": [
    "a = 200\n",
    "b = 33\n",
    "\n",
    "if b > a:\n",
    "  print(\"b is greater than a\")\n",
    "else:\n",
    "  print(\"b is not greater than a\")"
   ]
  },
  {
   "cell_type": "code",
   "execution_count": 66,
   "id": "d0743c43",
   "metadata": {},
   "outputs": [
    {
     "name": "stdout",
     "output_type": "stream",
     "text": [
      "b is greater than a\n"
     ]
    }
   ],
   "source": [
    "a = 20\n",
    "b = 30\n",
    "\n",
    "if b > a:\n",
    "    print(\"b is greater than a\")\n",
    "else:\n",
    "    print(\"b is not great than a\")"
   ]
  },
  {
   "cell_type": "code",
   "execution_count": 67,
   "id": "7190d53a",
   "metadata": {},
   "outputs": [
    {
     "name": "stdout",
     "output_type": "stream",
     "text": [
      "True\n",
      "True\n"
     ]
    }
   ],
   "source": [
    "# Value and Variables\n",
    "\n",
    "print(bool(\"Hello\"))\n",
    "print(bool(15))"
   ]
  },
  {
   "cell_type": "code",
   "execution_count": 68,
   "id": "26cb044f",
   "metadata": {},
   "outputs": [
    {
     "name": "stdout",
     "output_type": "stream",
     "text": [
      "True\n",
      "True\n"
     ]
    }
   ],
   "source": [
    "x = \"Hello\"\n",
    "y = 15\n",
    "\n",
    "print(bool(x))\n",
    "print(bool(y))"
   ]
  },
  {
   "cell_type": "code",
   "execution_count": 69,
   "id": "e7a97829",
   "metadata": {},
   "outputs": [
    {
     "data": {
      "text/plain": [
       "True"
      ]
     },
     "execution_count": 69,
     "metadata": {},
     "output_type": "execute_result"
    }
   ],
   "source": [
    "bool(\"abc\")\n",
    "bool(123)\n",
    "bool([\"apple\", \"cherry\", \"banana\"])"
   ]
  },
  {
   "cell_type": "code",
   "execution_count": 70,
   "id": "69fb041c",
   "metadata": {},
   "outputs": [
    {
     "data": {
      "text/plain": [
       "False"
      ]
     },
     "execution_count": 70,
     "metadata": {},
     "output_type": "execute_result"
    }
   ],
   "source": [
    "bool(False)\n",
    "bool(None)\n",
    "bool(0)\n",
    "bool(\"\")\n",
    "bool(())\n",
    "bool([])\n",
    "bool({})"
   ]
  },
  {
   "cell_type": "code",
   "execution_count": 71,
   "id": "74409af8",
   "metadata": {},
   "outputs": [
    {
     "name": "stdout",
     "output_type": "stream",
     "text": [
      "False\n"
     ]
    }
   ],
   "source": [
    "class myclass():\n",
    "  def __len__(self):\n",
    "    return 0\n",
    "\n",
    "myobj = myclass()\n",
    "print(bool(myobj))"
   ]
  },
  {
   "cell_type": "code",
   "execution_count": 72,
   "id": "940094bc",
   "metadata": {},
   "outputs": [
    {
     "name": "stdout",
     "output_type": "stream",
     "text": [
      "YES!\n"
     ]
    }
   ],
   "source": [
    "def myFunction() :\n",
    "  return True\n",
    "\n",
    "if myFunction():\n",
    "  print(\"YES!\")\n",
    "else:\n",
    "  print(\"NO!\")"
   ]
  },
  {
   "cell_type": "code",
   "execution_count": 73,
   "id": "de829ca8",
   "metadata": {},
   "outputs": [
    {
     "name": "stdout",
     "output_type": "stream",
     "text": [
      "True\n"
     ]
    }
   ],
   "source": [
    "x = 200\n",
    "\n",
    "print(isinstance(x, int))"
   ]
  },
  {
   "cell_type": "code",
   "execution_count": 74,
   "id": "6a8ee906",
   "metadata": {},
   "outputs": [
    {
     "name": "stdout",
     "output_type": "stream",
     "text": [
      "['apple', 'banana', 'cherry', 'apple', 'cherry']\n"
     ]
    }
   ],
   "source": [
    "thislist = [\"apple\", \"banana\", \"cherry\", \"apple\", \"cherry\"]\n",
    "print(thislist)"
   ]
  },
  {
   "cell_type": "code",
   "execution_count": 75,
   "id": "55ed8498",
   "metadata": {},
   "outputs": [
    {
     "name": "stdout",
     "output_type": "stream",
     "text": [
      "3\n"
     ]
    }
   ],
   "source": [
    "thislist = [\"apple\", \"banana\", \"cherry\"]\n",
    "print(len(thislist))"
   ]
  },
  {
   "cell_type": "code",
   "execution_count": 76,
   "id": "337d3f33",
   "metadata": {},
   "outputs": [
    {
     "name": "stdout",
     "output_type": "stream",
     "text": [
      "['apple', 'banana', 'cherry'] [1, 5, 7, 9, 3] [True, False, False]\n"
     ]
    }
   ],
   "source": [
    "list1 = [\"apple\", \"banana\", \"cherry\"]\n",
    "list2 = [1, 5, 7, 9, 3]\n",
    "list3 = [True, False, False]\n",
    "\n",
    "print(list1, list2, list3)"
   ]
  },
  {
   "cell_type": "code",
   "execution_count": 77,
   "id": "61d372b4",
   "metadata": {},
   "outputs": [
    {
     "name": "stdout",
     "output_type": "stream",
     "text": [
      "['abc', 34, True, 40, 'male']\n"
     ]
    }
   ],
   "source": [
    "list1 = [\"abc\", 34, True, 40, \"male\"]\n",
    "print(list1)"
   ]
  },
  {
   "cell_type": "code",
   "execution_count": 78,
   "id": "75a3bc77",
   "metadata": {},
   "outputs": [
    {
     "name": "stdout",
     "output_type": "stream",
     "text": [
      "<class 'list'>\n"
     ]
    }
   ],
   "source": [
    "mylist = [\"apple\", \"banana\", \"cherry\"]\n",
    "print(type(mylist))"
   ]
  },
  {
   "cell_type": "code",
   "execution_count": 79,
   "id": "4d57805b",
   "metadata": {},
   "outputs": [
    {
     "name": "stdout",
     "output_type": "stream",
     "text": [
      "['apple', 'banana', 'cherry']\n"
     ]
    }
   ],
   "source": [
    "thislist = list((\"apple\", \"banana\", \"cherry\")) # note the double round-brackets\n",
    "print(thislist)"
   ]
  },
  {
   "cell_type": "code",
   "execution_count": 80,
   "id": "ced300ee",
   "metadata": {},
   "outputs": [
    {
     "name": "stdout",
     "output_type": "stream",
     "text": [
      "banana\n"
     ]
    }
   ],
   "source": [
    "thislist = [\"apple\", \"banana\", \"cherry\"]\n",
    "print(thislist[1])"
   ]
  },
  {
   "cell_type": "code",
   "execution_count": 81,
   "id": "d77270ca",
   "metadata": {},
   "outputs": [
    {
     "name": "stdout",
     "output_type": "stream",
     "text": [
      "['cherry', 'orange', 'kiwi']\n"
     ]
    }
   ],
   "source": [
    "thislist = [\"apple\", \"banana\", \"cherry\", \"orange\", \"kiwi\", \"melon\", \"mango\"]\n",
    "print(thislist[2:5])"
   ]
  },
  {
   "cell_type": "code",
   "execution_count": 82,
   "id": "f1a56167",
   "metadata": {},
   "outputs": [
    {
     "name": "stdout",
     "output_type": "stream",
     "text": [
      "['apple', 'banana', 'watermelon', 'cherry']\n"
     ]
    }
   ],
   "source": [
    "thislist = [\"apple\", \"banana\", \"cherry\"]\n",
    "thislist.insert(2, \"watermelon\")\n",
    "print(thislist)"
   ]
  },
  {
   "cell_type": "code",
   "execution_count": 83,
   "id": "344a17dd",
   "metadata": {},
   "outputs": [
    {
     "name": "stdout",
     "output_type": "stream",
     "text": [
      "['apple', 'banana', 'cherry', 'orange']\n"
     ]
    }
   ],
   "source": [
    "thislist = [\"apple\", \"banana\", \"cherry\"]\n",
    "thislist.append(\"orange\")\n",
    "print(thislist)"
   ]
  },
  {
   "cell_type": "code",
   "execution_count": 84,
   "id": "a24a5cac",
   "metadata": {},
   "outputs": [
    {
     "name": "stdout",
     "output_type": "stream",
     "text": [
      "['apple', 'orange', 'banana', 'cherry']\n"
     ]
    }
   ],
   "source": [
    "thislist = [\"apple\", \"banana\", \"cherry\"]\n",
    "thislist.insert(1, \"orange\")\n",
    "print(thislist)"
   ]
  },
  {
   "cell_type": "code",
   "execution_count": 85,
   "id": "4209719e",
   "metadata": {},
   "outputs": [
    {
     "name": "stdout",
     "output_type": "stream",
     "text": [
      "['apple', 'banana', 'cherry', 'mango', 'pineapple', 'papaya']\n"
     ]
    }
   ],
   "source": [
    "thislist = [\"apple\", \"banana\", \"cherry\"]\n",
    "tropical = [\"mango\", \"pineapple\", \"papaya\"]\n",
    "thislist.extend(tropical)\n",
    "print(thislist)"
   ]
  },
  {
   "cell_type": "code",
   "execution_count": 86,
   "id": "53612fac",
   "metadata": {},
   "outputs": [
    {
     "name": "stdout",
     "output_type": "stream",
     "text": [
      "['apple', 'banana', 'cherry', 'kiwi', 'orange']\n"
     ]
    }
   ],
   "source": [
    "thislist = [\"apple\", \"banana\", \"cherry\"]\n",
    "thistuple = (\"kiwi\", \"orange\")\n",
    "thislist.extend(thistuple)\n",
    "print(thislist)"
   ]
  },
  {
   "cell_type": "code",
   "execution_count": 87,
   "id": "4c673303",
   "metadata": {},
   "outputs": [
    {
     "name": "stdout",
     "output_type": "stream",
     "text": [
      "['apple', 'cherry']\n"
     ]
    }
   ],
   "source": [
    "thislist = [\"apple\", \"banana\", \"cherry\"]\n",
    "thislist.remove(\"banana\")\n",
    "print(thislist)"
   ]
  },
  {
   "cell_type": "code",
   "execution_count": 88,
   "id": "6e8db197",
   "metadata": {},
   "outputs": [
    {
     "name": "stdout",
     "output_type": "stream",
     "text": [
      "['apple', 'cherry']\n"
     ]
    }
   ],
   "source": [
    "thislist = [\"apple\", \"banana\", \"cherry\"]\n",
    "thislist.pop(1)\n",
    "print(thislist)  #The pop() method removes the specified index."
   ]
  },
  {
   "cell_type": "code",
   "execution_count": 89,
   "id": "8f3b781d",
   "metadata": {},
   "outputs": [
    {
     "name": "stdout",
     "output_type": "stream",
     "text": [
      "['apple', 'banana']\n"
     ]
    }
   ],
   "source": [
    "thislist = [\"apple\", \"banana\", \"cherry\"]\n",
    "thislist.pop()\n",
    "print(thislist)  #If you do not specify the index, pop() method removes the last item."
   ]
  },
  {
   "cell_type": "code",
   "execution_count": 90,
   "id": "495813c5",
   "metadata": {},
   "outputs": [
    {
     "name": "stdout",
     "output_type": "stream",
     "text": [
      "['banana', 'cherry']\n"
     ]
    }
   ],
   "source": [
    "thislist = [\"apple\", \"banana\", \"cherry\"]\n",
    "del thislist[0]\n",
    "print(thislist)"
   ]
  },
  {
   "cell_type": "code",
   "execution_count": 91,
   "id": "0ec7297b",
   "metadata": {},
   "outputs": [],
   "source": [
    "thislist = [\"apple\", \"banana\", \"cherry\"]\n",
    "del thislist"
   ]
  },
  {
   "cell_type": "code",
   "execution_count": 92,
   "id": "b20dd1c1",
   "metadata": {},
   "outputs": [
    {
     "name": "stdout",
     "output_type": "stream",
     "text": [
      "apple\n",
      "banana\n",
      "cherry\n"
     ]
    }
   ],
   "source": [
    "thislist = [\"apple\", \"banana\", \"cherry\"]\n",
    "for x in thislist:\n",
    "  print(x)"
   ]
  },
  {
   "cell_type": "code",
   "execution_count": 93,
   "id": "55ae4912",
   "metadata": {},
   "outputs": [
    {
     "name": "stdout",
     "output_type": "stream",
     "text": [
      "1\n",
      "2\n",
      "3\n"
     ]
    }
   ],
   "source": [
    "a = [\"1\", \"2\", \"3\"]\n",
    "for c in a:\n",
    "    print(c)"
   ]
  },
  {
   "cell_type": "code",
   "execution_count": 94,
   "id": "073c5559",
   "metadata": {},
   "outputs": [
    {
     "name": "stdout",
     "output_type": "stream",
     "text": [
      "apple\n",
      "banana\n",
      "cherry\n"
     ]
    }
   ],
   "source": [
    "thislist = [\"apple\", \"banana\", \"cherry\"]\n",
    "for i in range(len(thislist)):\n",
    "  print(thislist[i])"
   ]
  },
  {
   "cell_type": "code",
   "execution_count": 95,
   "id": "1637b59a",
   "metadata": {},
   "outputs": [
    {
     "name": "stdout",
     "output_type": "stream",
     "text": [
      "['apple', 'banana', 'mango']\n"
     ]
    }
   ],
   "source": [
    "fruits = [\"apple\", \"banana\", \"cherry\", \"kiwi\", \"mango\"]\n",
    "newlist = []\n",
    "\n",
    "for x in fruits:\n",
    "  if \"a\" in x:\n",
    "    newlist.append(x)\n",
    "\n",
    "print(newlist)"
   ]
  },
  {
   "cell_type": "code",
   "execution_count": 96,
   "id": "d2bbb59c",
   "metadata": {},
   "outputs": [
    {
     "name": "stdout",
     "output_type": "stream",
     "text": [
      "['apple', 'banana', 'mango']\n"
     ]
    }
   ],
   "source": [
    "fruits = [\"apple\", \"banana\", \"cherry\", \"kiwi\", \"mango\"]\n",
    "\n",
    "newlist = [x for x in fruits if \"a\" in x]\n",
    "\n",
    "print(newlist)"
   ]
  },
  {
   "cell_type": "code",
   "execution_count": 97,
   "id": "a08cefd0",
   "metadata": {},
   "outputs": [
    {
     "name": "stdout",
     "output_type": "stream",
     "text": [
      "['banana', 'kiwi', 'mango', 'orange', 'pineapple']\n"
     ]
    }
   ],
   "source": [
    "thislist = [\"orange\", \"mango\", \"kiwi\", \"pineapple\", \"banana\"]\n",
    "thislist.sort()\n",
    "print(thislist)   #sort() method that will sort the list alphanumerically"
   ]
  },
  {
   "cell_type": "code",
   "execution_count": 98,
   "id": "48dc184e",
   "metadata": {},
   "outputs": [
    {
     "name": "stdout",
     "output_type": "stream",
     "text": [
      "[23, 50, 65, 82, 100]\n"
     ]
    }
   ],
   "source": [
    "thislist = [100, 50, 65, 82, 23]\n",
    "thislist.sort()\n",
    "print(thislist)"
   ]
  },
  {
   "cell_type": "code",
   "execution_count": 99,
   "id": "37d30d0a",
   "metadata": {},
   "outputs": [
    {
     "name": "stdout",
     "output_type": "stream",
     "text": [
      "['pineapple', 'orange', 'mango', 'kiwi', 'banana']\n"
     ]
    }
   ],
   "source": [
    "thislist = [\"orange\", \"mango\", \"kiwi\", \"pineapple\", \"banana\"]\n",
    "thislist.sort(reverse = True)\n",
    "print(thislist)"
   ]
  },
  {
   "cell_type": "code",
   "execution_count": 100,
   "id": "3b7ee3c5",
   "metadata": {},
   "outputs": [
    {
     "name": "stdout",
     "output_type": "stream",
     "text": [
      "[50, 65, 23, 82, 100]\n"
     ]
    }
   ],
   "source": [
    "def myfunc(n):\n",
    "  return abs(n - 50)\n",
    "\n",
    "thislist = [100, 50, 65, 82, 23]\n",
    "thislist.sort(key = myfunc)\n",
    "print(thislist)   #Sort the list based on how close the number is to 50"
   ]
  },
  {
   "cell_type": "code",
   "execution_count": 101,
   "id": "47aa20f7",
   "metadata": {},
   "outputs": [
    {
     "name": "stdout",
     "output_type": "stream",
     "text": [
      "['banana', 'cherry', 'Kiwi', 'Orange']\n"
     ]
    }
   ],
   "source": [
    "thislist = [\"banana\", \"Orange\", \"Kiwi\", \"cherry\"]\n",
    "thislist.sort(key = str.lower)\n",
    "print(thislist)"
   ]
  },
  {
   "cell_type": "code",
   "execution_count": 102,
   "id": "8ea618d3",
   "metadata": {},
   "outputs": [
    {
     "name": "stdout",
     "output_type": "stream",
     "text": [
      "['apple', 'banana', 'cherry']\n"
     ]
    }
   ],
   "source": [
    "thislist = [\"apple\", \"banana\", \"cherry\"]\n",
    "mylist = thislist.copy()\n",
    "print(mylist)"
   ]
  },
  {
   "cell_type": "code",
   "execution_count": 103,
   "id": "fd8abe80",
   "metadata": {},
   "outputs": [
    {
     "name": "stdout",
     "output_type": "stream",
     "text": [
      "['a', 'b', 'c', 1, 2, 3]\n"
     ]
    }
   ],
   "source": [
    "list1 = [\"a\", \"b\", \"c\"]\n",
    "list2 = [1, 2, 3]\n",
    "\n",
    "list3 = list1 + list2\n",
    "print(list3)"
   ]
  },
  {
   "cell_type": "code",
   "execution_count": 104,
   "id": "5c2318e1",
   "metadata": {},
   "outputs": [
    {
     "name": "stdout",
     "output_type": "stream",
     "text": [
      "['a', 'b', 'c', 1, 2, 3]\n"
     ]
    }
   ],
   "source": [
    "list1 = [\"a\", \"b\" , \"c\"]\n",
    "list2 = [1, 2, 3]\n",
    "\n",
    "for x in list2:\n",
    "  list1.append(x)\n",
    "\n",
    "print(list1)"
   ]
  },
  {
   "cell_type": "code",
   "execution_count": 105,
   "id": "05b722ad",
   "metadata": {},
   "outputs": [
    {
     "name": "stdout",
     "output_type": "stream",
     "text": [
      "('apple', 'banana', 'cherry', 'apple', 'cherry')\n"
     ]
    }
   ],
   "source": [
    "thistuple = (\"apple\", \"banana\", \"cherry\", \"apple\", \"cherry\")\n",
    "print(thistuple)"
   ]
  },
  {
   "cell_type": "code",
   "execution_count": 106,
   "id": "f8509f71",
   "metadata": {},
   "outputs": [
    {
     "name": "stdout",
     "output_type": "stream",
     "text": [
      "<class 'tuple'>\n",
      "<class 'str'>\n"
     ]
    }
   ],
   "source": [
    "a = (\"apple\",)\n",
    "print(type(a))\n",
    "\n",
    "#NOT a tuple\n",
    "a = (\"apple\")\n",
    "print(type(a))"
   ]
  },
  {
   "cell_type": "code",
   "execution_count": 107,
   "id": "2ba4ca3e",
   "metadata": {},
   "outputs": [
    {
     "name": "stdout",
     "output_type": "stream",
     "text": [
      "333200.0 5.655j\n"
     ]
    }
   ],
   "source": [
    "a=3.332e5\n",
    "b=5.655j\n",
    "print(a,b)"
   ]
  },
  {
   "cell_type": "code",
   "execution_count": 108,
   "id": "c333be26",
   "metadata": {},
   "outputs": [
    {
     "ename": "SyntaxError",
     "evalue": "invalid syntax (2611032159.py, line 12)",
     "output_type": "error",
     "traceback": [
      "\u001b[1;36m  Input \u001b[1;32mIn [108]\u001b[1;36m\u001b[0m\n\u001b[1;33m    def addition(a+b):\u001b[0m\n\u001b[1;37m                  ^\u001b[0m\n\u001b[1;31mSyntaxError\u001b[0m\u001b[1;31m:\u001b[0m invalid syntax\n"
     ]
    }
   ],
   "source": [
    "i = 0\n",
    "while(i == 0):\n",
    "    print(\"please enter \\n 1 for addition \\n 2 for substraction \\n 3 for multiplication \\n 4 for division\")\n",
    "    a = int(input(\"\"))\n",
    "    i=1\n",
    "    if (a<1 or a>4):\n",
    "        print(\"please enter valid input\")\n",
    "        i=0\n",
    "a = int(input(\"Enter the first number: \"))\n",
    "b = int(input(\"Enter the second number: \"))\n",
    "\n",
    "def addition(a+b):\n",
    "    a = a+b\n",
    "    print(\"answer is : ,a)\n",
    "def substraction(a-b):\n",
    "    a = a-b\n",
    "    print(\"answer is : ,a)\n",
    "def multiplication(a*b):\n",
    "    a = a*b\n",
    "    print(\"answer is : ,a)\n",
    "def division(a/b):\n",
    "    a = a/b\n",
    "    print(\"answer is : ,a)"
   ]
  },
  {
   "cell_type": "code",
   "execution_count": null,
   "id": "4cad1b9f",
   "metadata": {},
   "outputs": [],
   "source": [
    "#Creat function for each operation\n",
    "#This function add two number\n",
    "\n",
    "def add(x,y):\n",
    "    return x+y\n",
    "\n",
    "#This function substraction two number\n",
    "\n",
    "def subtract(x,y):\n",
    "    return x-y\n",
    "\n",
    "#This function multiply two number\n",
    "\n",
    "def multiply(x,y):\n",
    "    return x*y\n",
    "\n",
    "#This function division two number\n",
    "\n",
    "def divide(x,y):\n",
    "    return x/y\n",
    "\n",
    "print(\"Select operation\")\n",
    "print('1, Addition')\n",
    "print('2, Subtract')\n",
    "print('3, Multiply')\n",
    "print('4, divide')\n",
    "\n",
    "num = input(\"Enter num (1/2/3/4): \")\n",
    "\n",
    "num1 = int(input(\"Enter the first number: \"))\n",
    "num2 = int(input(\"Enter the second number: \"))\n",
    "\n",
    "if num == '1':\n",
    "    print(num1, '+', num2,'=', add(num1,num2))\n",
    "elif num == '2':\n",
    "    print(num1, '-', num2,'=', subtract(num1,num2))\n",
    "elif num == '3':\n",
    "    print(num1, '*', num2,'=', multiply(num1,num2))\n",
    "elif num == '4':\n",
    "    print(num1, '/', num2,'=', divide(num1,num2))\n",
    "else:\n",
    "    print(\"Invalid Input\")"
   ]
  },
  {
   "cell_type": "code",
   "execution_count": null,
   "id": "82f0c9d2",
   "metadata": {},
   "outputs": [],
   "source": [
    "def add(c,b):\n",
    "    d=c+b\n",
    "    return d\n",
    "def sub(c,b):\n",
    "    d=c-b\n",
    "    return d\n",
    "def mul(c,b):\n",
    "    d=c*b\n",
    "    return d\n",
    "def div(c,b):\n",
    "    d=c/b\n",
    "    return d\n",
    "def square(c):\n",
    "    d=c*c\n",
    "    return d\n",
    "\n",
    "again=0\n",
    "while(again==0):\n",
    " i=0\n",
    " invalid=0\n",
    " while(i == 0):\n",
    "    print(\"please enter \\n 1 for addition \\n 2 for substraction \\n 3 for multiplication \\n 4 for division \\n 5 for square\")\n",
    "    a = int(input(\"\"))\n",
    "    i=1\n",
    "    if (a<1 or a>4):\n",
    "       print(\"please enter valid input\")\n",
    "       i=0\n",
    " c = int(input(\"Enter the first number: \"))\n",
    " b = int(input(\"Enter the second number: \"))\n",
    "\n",
    " if(a==1):\n",
    "     d=add(c,b)\n",
    " elif(a==2):\n",
    "     d=sub(c,b)\n",
    " elif(a==3):\n",
    "     d=mul(c,b)\n",
    " elif(a==4 and b!=0):\n",
    "     d=div(c,b)\n",
    " elif(a==5):\n",
    "     d=square(c)\n",
    " else:\n",
    "     print(\"invalid\")\n",
    "     invalid=1\n",
    "    \n",
    " if (invalid==0):\n",
    "     print(\"Answer is : \", d)\n",
    "    \n",
    "again=int(input(\"please enter 0 to prosses again\"))"
   ]
  },
  {
   "cell_type": "code",
   "execution_count": null,
   "id": "45dc1ec9",
   "metadata": {},
   "outputs": [],
   "source": []
  },
  {
   "cell_type": "code",
   "execution_count": null,
   "id": "efe6b761",
   "metadata": {},
   "outputs": [],
   "source": []
  }
 ],
 "metadata": {
  "kernelspec": {
   "display_name": "Python 3 (ipykernel)",
   "language": "python",
   "name": "python3"
  },
  "language_info": {
   "codemirror_mode": {
    "name": "ipython",
    "version": 3
   },
   "file_extension": ".py",
   "mimetype": "text/x-python",
   "name": "python",
   "nbconvert_exporter": "python",
   "pygments_lexer": "ipython3",
   "version": "3.9.12"
  }
 },
 "nbformat": 4,
 "nbformat_minor": 5
}
