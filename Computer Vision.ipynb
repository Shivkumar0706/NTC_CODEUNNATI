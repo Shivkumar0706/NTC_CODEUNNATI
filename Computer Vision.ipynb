{
 "cells": [
  {
   "cell_type": "markdown",
   "id": "46873222",
   "metadata": {},
   "source": [
    "# Computer Vision"
   ]
  },
  {
   "cell_type": "code",
   "execution_count": 1,
   "id": "9598c865",
   "metadata": {},
   "outputs": [],
   "source": [
    "import cv2\n",
    "img = cv2.imread('k2.jpg')   #Read Image\n",
    "\n",
    "# Setting parameter values\n",
    "t_lower = 100  #Lower Threeshold\n",
    "t_upper = 150  #Upper Threeshold\n",
    "\n",
    "#Appling the canny Edge filter\n",
    "edge = cv2.Canny(img, t_lower, t_upper)\n",
    "cv2.imshow('original', img)\n",
    "cv2.imshow('edge', edge)\n",
    "cv2.waitKey(0)\n",
    "cv2.destroyAllWindows()"
   ]
  },
  {
   "cell_type": "code",
   "execution_count": 3,
   "id": "a4e6b3d4",
   "metadata": {},
   "outputs": [],
   "source": [
    "import cv2\n",
    "#Load the cascade\n",
    "np_cascade = cv2.CascadeClassifier('np.xml')\n",
    "\n",
    "#Read the interger\n",
    "img = cv2.imread('1.jpg')\n",
    "#Convert color image into greyscale\n",
    "grey = cv2.cvtColor(img, cv2.COLOR_BGR2GRAY)\n",
    "\n",
    "#Detect plate\n",
    "np = np_cascade.detectMultiScale(grey, 1.04, 4)\n",
    "\n",
    "for (x, y, w, h) in np:\n",
    "    cv2.rectangle(img, (x,y),(x+w, y+h), (20, 100,100),2)\n",
    "cv2.imshow('Detected Plate', img)\n",
    "cv2.waitKey(0)\n",
    "cv2.destroyAllWindows()"
   ]
  },
  {
   "cell_type": "code",
   "execution_count": 4,
   "id": "85be3bde",
   "metadata": {},
   "outputs": [],
   "source": [
    "import cv2\n",
    "\n",
    "#Load the cascade\n",
    "face_cascade = cv2.CascadeClassifier('haarcascade_frontalface_default.xml')\n",
    "\n",
    "#To capture video file as input\n",
    "cap = cv2.VideoCapture(0)\n",
    "\n",
    "#To use a video file as input\n",
    "while True:\n",
    "    #Read from the frame\n",
    "    _, img = cap.read()\n",
    "    #Convert to grayscale\n",
    "    gray = cv2.cvtColor(img, cv2.COLOR_BGR2GRAY)\n",
    "    \n",
    "    #Detect the faces\n",
    "    faces = face_cascade.detectMultiScale(gray,1.1,4)\n",
    "    #Draw the ractangle around each face\n",
    "    for (x,y,w,h) in faces:\n",
    "        cv2.rectangle(img,(x,y),(x+w,y+h),(255,0,0),2)\n",
    "        #Display\n",
    "    cv2.imshow('img',img)\n",
    "    #To stop if escape key is pressed\n",
    "        \n",
    "    k = cv2.waitKey(300) & 0xff\n",
    "    if k==27:\n",
    "        break\n",
    "cv2.destroyAllWindows()\n",
    "#Release the videocapture object\n",
    "cap.release()"
   ]
  },
  {
   "cell_type": "code",
   "execution_count": null,
   "id": "4b6b9066",
   "metadata": {},
   "outputs": [],
   "source": []
  }
 ],
 "metadata": {
  "kernelspec": {
   "display_name": "Python 3 (ipykernel)",
   "language": "python",
   "name": "python3"
  },
  "language_info": {
   "codemirror_mode": {
    "name": "ipython",
    "version": 3
   },
   "file_extension": ".py",
   "mimetype": "text/x-python",
   "name": "python",
   "nbconvert_exporter": "python",
   "pygments_lexer": "ipython3",
   "version": "3.9.12"
  }
 },
 "nbformat": 4,
 "nbformat_minor": 5
}
