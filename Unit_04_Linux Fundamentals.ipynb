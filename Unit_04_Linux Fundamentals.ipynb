{
 "cells": [
  {
   "cell_type": "markdown",
   "id": "e2b77580",
   "metadata": {},
   "source": [
    "# 1. Linux Commands"
   ]
  },
  {
   "cell_type": "markdown",
   "id": "eeb797aa",
   "metadata": {},
   "source": [
    "# ls \n",
    "\n",
    "ls => All documents shows on the home page \n",
    "      like Desktop, Documents, Downloads, Music..."
   ]
  },
  {
   "cell_type": "markdown",
   "id": "0b6d4cdd",
   "metadata": {},
   "source": [
    "# ls Desktop/\n",
    "\n",
    "1. ls Desktop/ => To show all documents on the desktop or Desktop folder\n",
    "2. ls Downloads/  => To show all documents in the Download folder\n",
    "3. ls Documents/  => To show all documents in the Documents folder"
   ]
  },
  {
   "cell_type": "markdown",
   "id": "5e683ee5",
   "metadata": {},
   "source": [
    "# ls /\n",
    "\n",
    "ls /  => To know all root directries in the computer"
   ]
  },
  {
   "cell_type": "markdown",
   "id": "5632abde",
   "metadata": {},
   "source": [
    "# pwd\n",
    "\n",
    "pwd  => which directries you are on \n",
    "\n",
    "NOTE: Generally pwd shows our home directries"
   ]
  },
  {
   "cell_type": "markdown",
   "id": "e78674a9",
   "metadata": {},
   "source": [
    "# ls\n",
    "# ls ~\n",
    "\n",
    "if you know to list out the content of home directries\n",
    "\n",
    "NOTE = (ls) and (ls ~) both has same function"
   ]
  },
  {
   "cell_type": "markdown",
   "id": "9f82efd3",
   "metadata": {},
   "source": [
    "# ls + path\n",
    "# ls /home/shivkumar/\n",
    "\n",
    "ls /home/shivkumar/ also works like (ls) and (ls ~)"
   ]
  },
  {
   "cell_type": "markdown",
   "id": "9b0685dd",
   "metadata": {},
   "source": [
    "# clear \n",
    "\n",
    "clear => To remove or erase everything "
   ]
  },
  {
   "cell_type": "markdown",
   "id": "9adf71de",
   "metadata": {},
   "source": [
    "# ls ..\n",
    "\n",
    "ls .. => if you want to print out one stap back directry structure"
   ]
  },
  {
   "cell_type": "markdown",
   "id": "1e6fd19b",
   "metadata": {},
   "source": [
    "# ls ../..\n",
    "\n",
    "ls ../.. => print out two folders back\n",
    "\n",
    "\n",
    "NOTE: If you write (ls ..) you will be at a home directries, but for (ls ../..) two steps back, you will be at a root directries"
   ]
  },
  {
   "cell_type": "markdown",
   "id": "1d464ce7",
   "metadata": {},
   "source": [
    "# ls -l\n",
    "\n",
    "ls -l  => you want to list out all the files and directries in long format"
   ]
  },
  {
   "cell_type": "markdown",
   "id": "0aca7bb0",
   "metadata": {},
   "source": [
    "# ls -a\n",
    "\n",
    "ls -a  => To show the hidden files"
   ]
  },
  {
   "cell_type": "markdown",
   "id": "ccc7b66b",
   "metadata": {},
   "source": [
    "# ls -al\n",
    "\n",
    "ls -al  => To show the all hidden files with long formats"
   ]
  },
  {
   "cell_type": "markdown",
   "id": "3b86defa",
   "metadata": {},
   "source": [
    "ls -al > file name \n",
    "\n",
    "To show all hidden files with long formats of particuler file"
   ]
  },
  {
   "cell_type": "markdown",
   "id": "087db3c5",
   "metadata": {},
   "source": [
    "# ls -lS  or  ls -ls\n",
    "\n",
    "ls -ls  => to show all files in long formats and S it will sort your directory by their size "
   ]
  },
  {
   "cell_type": "markdown",
   "id": "b063a83a",
   "metadata": {},
   "source": [
    "# ls -lS > shiv.txt\n",
    "\n",
    "NOTE: shiv.txt is the file name only, you can write according to your own\n",
    "\n",
    "ls -lS > shiv.txt  => use for crate and save the file on the home page"
   ]
  },
  {
   "cell_type": "markdown",
   "id": "747f129a",
   "metadata": {},
   "source": [
    "# man ls\n",
    "\n",
    "man ls  =>  shows all user commands "
   ]
  },
  {
   "cell_type": "code",
   "execution_count": null,
   "id": "e08f9c4e",
   "metadata": {},
   "outputs": [],
   "source": []
  },
  {
   "cell_type": "markdown",
   "id": "6744f37e",
   "metadata": {},
   "source": [
    "# cd Commands"
   ]
  },
  {
   "cell_type": "markdown",
   "id": "aaa70f3f",
   "metadata": {},
   "source": [
    "# cd/\n",
    "\n",
    "cd /  => To change your home directory into the root directory"
   ]
  },
  {
   "cell_type": "code",
   "execution_count": 1,
   "id": "27a55f50",
   "metadata": {},
   "outputs": [],
   "source": [
    "# (/ is shows the root directory)\n",
    "# (~ is shows the home directory)"
   ]
  },
  {
   "cell_type": "markdown",
   "id": "7fee58fd",
   "metadata": {},
   "source": [
    "# cat commands"
   ]
  },
  {
   "cell_type": "markdown",
   "id": "6593670f",
   "metadata": {},
   "source": [
    "#cat command is echoing command;\n",
    "\n",
    "#whatever you will write, the exact thing is rewriting\n",
    "\n",
    "To close cat command press Ctrl + D"
   ]
  },
  {
   "cell_type": "markdown",
   "id": "d57ed9de",
   "metadata": {},
   "source": [
    "### To show the contant of the perticular file \n",
    "\n",
    "cat + file name\n",
    "\n",
    "For example.. File name is ntc.txt\n",
    "\n",
    "cat ntc.txt"
   ]
  },
  {
   "cell_type": "markdown",
   "id": "a7a68ec9",
   "metadata": {},
   "source": [
    "### To show the two files contant\n",
    "\n",
    "cat + file name + file name\n",
    "\n",
    "cat ntc.txt out.txt\n"
   ]
  },
  {
   "cell_type": "markdown",
   "id": "6fb5382e",
   "metadata": {},
   "source": [
    "### To know the line number of the file contant\n",
    "\n",
    "cat -b ntc.txt\n",
    "\n",
    "It will not show you a blank number\n"
   ]
  },
  {
   "cell_type": "markdown",
   "id": "5e707cde",
   "metadata": {},
   "source": [
    "### To know the line number of the file contant\n",
    "\n",
    "cat -n ntc.txt\n",
    "\n",
    "It will also show you a blank number"
   ]
  },
  {
   "cell_type": "markdown",
   "id": "1e4c2c0e",
   "metadata": {},
   "source": [
    "### Keep the single space bwt the lines \n",
    "\n",
    "cat -s ntc.txt"
   ]
  },
  {
   "cell_type": "markdown",
   "id": "0bbcfebd",
   "metadata": {},
   "source": [
    "# E command\n",
    "\n",
    "cat -E ntc.txt \n",
    "\n",
    "It will show you $ symbol in the end of the line"
   ]
  },
  {
   "cell_type": "markdown",
   "id": "035ac7cc",
   "metadata": {},
   "source": [
    "# Cat > file name\n",
    "\n",
    "cat > test.txt  => to creat new file and you can write anything in this file\n",
    "\n",
    "and again you will write cat > test.txt and write in this file, it will replace to earlier text "
   ]
  },
  {
   "cell_type": "markdown",
   "id": "e2373319",
   "metadata": {},
   "source": [
    "# cat >> file name\n",
    "\n",
    "cat >> test.txt  => To append text\n",
    "\n",
    "new text is added into the old file "
   ]
  },
  {
   "cell_type": "markdown",
   "id": "49e0af65",
   "metadata": {},
   "source": [
    "# To transfer data from two another files \n",
    "\n",
    "cat file name1 file name2 > new file name\n",
    "\n",
    "for ex. \n",
    "cat list1.txt list2.txt > out.txt"
   ]
  },
  {
   "cell_type": "markdown",
   "id": "53168e7b",
   "metadata": {},
   "source": [
    "# mkdir command\n",
    "To creat a new folder/directory in a particular folder(Desktop/Documents)"
   ]
  },
  {
   "cell_type": "markdown",
   "id": "8155a833",
   "metadata": {},
   "source": [
    "mkdir image (main directory)\n",
    "\n",
    "mkdir pics (sub directory)\n",
    "\n",
    "with mkdir command you can creat a new directory but can not directory with sub directory\n",
    "\n",
    "for that you will have to use this command (mkdir -p shiv/patel)\n",
    "\n",
    "mkdir -p shiv/patel (-p is represent the parents, which is small flag)\n",
    "\n",
    "you can also write.. mkdir --parents shiv/patel"
   ]
  },
  {
   "cell_type": "markdown",
   "id": "56c572a9",
   "metadata": {},
   "source": [
    "### To creat a multi subfiles \n",
    "\n",
    "mkdir -p shiv/{file1,file2,file3...}\n",
    "\n",
    "while write the command space sholud be avoid between two file names"
   ]
  },
  {
   "cell_type": "markdown",
   "id": "0144f02b",
   "metadata": {},
   "source": [
    "# rmdir command \n",
    "\n",
    "To remove the directory or directory structure"
   ]
  },
  {
   "cell_type": "markdown",
   "id": "406a62fb",
   "metadata": {},
   "source": [
    "To show all directory structure enter (ls -R)\n",
    "\n",
    "and to remove that directory enter (rmdir + file names)"
   ]
  },
  {
   "cell_type": "code",
   "execution_count": null,
   "id": "8322aa25",
   "metadata": {},
   "outputs": [],
   "source": []
  }
 ],
 "metadata": {
  "kernelspec": {
   "display_name": "Python 3 (ipykernel)",
   "language": "python",
   "name": "python3"
  },
  "language_info": {
   "codemirror_mode": {
    "name": "ipython",
    "version": 3
   },
   "file_extension": ".py",
   "mimetype": "text/x-python",
   "name": "python",
   "nbconvert_exporter": "python",
   "pygments_lexer": "ipython3",
   "version": "3.9.12"
  }
 },
 "nbformat": 4,
 "nbformat_minor": 5
}
