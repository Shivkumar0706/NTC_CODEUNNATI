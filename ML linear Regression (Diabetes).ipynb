{
 "cells": [
  {
   "cell_type": "markdown",
   "id": "f992d1a8",
   "metadata": {},
   "source": [
    "# Linear Regression Practical Implementation"
   ]
  },
  {
   "cell_type": "code",
   "execution_count": 3,
   "id": "f9152c7f",
   "metadata": {},
   "outputs": [],
   "source": [
    "import matplotlib.pyplot as plt\n",
    "import numpy as np\n",
    "from sklearn import datasets, linear_model\n",
    "from sklearn.metrics import mean_absolute_error,r2_score,mean_squared_error"
   ]
  },
  {
   "cell_type": "code",
   "execution_count": null,
   "id": "52f6e0fb",
   "metadata": {},
   "outputs": [],
   "source": []
  },
  {
   "cell_type": "markdown",
   "id": "3fd2fbdf",
   "metadata": {},
   "source": [
    "# Importing essential liberaries"
   ]
  },
  {
   "cell_type": "markdown",
   "id": "c493b737",
   "metadata": {},
   "source": [
    "# Load The Dataset"
   ]
  },
  {
   "cell_type": "code",
   "execution_count": 4,
   "id": "dc5d4168",
   "metadata": {},
   "outputs": [],
   "source": [
    "diabetes_X, diabetes_y = datasets.load_diabetes(return_X_y=True)"
   ]
  },
  {
   "cell_type": "markdown",
   "id": "8735c92c",
   "metadata": {},
   "source": [
    "# Use only one feature"
   ]
  },
  {
   "cell_type": "code",
   "execution_count": 5,
   "id": "ef9cc052",
   "metadata": {},
   "outputs": [],
   "source": [
    "diabetes_X = diabetes_X[:, np.newaxis, 2]"
   ]
  },
  {
   "cell_type": "markdown",
   "id": "6ca86d5d",
   "metadata": {},
   "source": [
    "# Split the data into training/testing sets"
   ]
  },
  {
   "cell_type": "code",
   "execution_count": 6,
   "id": "404be09d",
   "metadata": {},
   "outputs": [],
   "source": [
    "diabetes_X_train = diabetes_X[:-20]\n",
    "diabetes_X_test = diabetes_X[-20:]"
   ]
  },
  {
   "cell_type": "markdown",
   "id": "08fd76e9",
   "metadata": {},
   "source": [
    "# Split the targets into training/testing sets"
   ]
  },
  {
   "cell_type": "code",
   "execution_count": 7,
   "id": "94983a56",
   "metadata": {},
   "outputs": [],
   "source": [
    "diabetes_y_train = diabetes_y[:-20]\n",
    "diabetes_y_test = diabetes_y[-20:]"
   ]
  },
  {
   "cell_type": "markdown",
   "id": "7c1b2093",
   "metadata": {},
   "source": [
    "# Create linear regrassion object"
   ]
  },
  {
   "cell_type": "code",
   "execution_count": 8,
   "id": "c26c482a",
   "metadata": {},
   "outputs": [],
   "source": [
    "regr = linear_model.LinearRegression()"
   ]
  },
  {
   "cell_type": "markdown",
   "id": "c4245ef9",
   "metadata": {},
   "source": [
    "# Train the model using the training sets"
   ]
  },
  {
   "cell_type": "code",
   "execution_count": 9,
   "id": "a0aaecd1",
   "metadata": {},
   "outputs": [
    {
     "data": {
      "text/plain": [
       "LinearRegression()"
      ]
     },
     "execution_count": 9,
     "metadata": {},
     "output_type": "execute_result"
    }
   ],
   "source": [
    "regr.fit(diabetes_X_train, diabetes_y_train)"
   ]
  },
  {
   "cell_type": "markdown",
   "id": "c652d28b",
   "metadata": {},
   "source": [
    "# Make prediction using the testing set"
   ]
  },
  {
   "cell_type": "code",
   "execution_count": 10,
   "id": "45b5f702",
   "metadata": {},
   "outputs": [],
   "source": [
    "diabetes_y_pred = regr.predict(diabetes_X_test)"
   ]
  },
  {
   "cell_type": "markdown",
   "id": "1dde0c1b",
   "metadata": {},
   "source": [
    "# The coefficients"
   ]
  },
  {
   "cell_type": "code",
   "execution_count": 11,
   "id": "b27c1858",
   "metadata": {},
   "outputs": [
    {
     "name": "stdout",
     "output_type": "stream",
     "text": [
      "Coefficients: \n",
      " [938.23786125]\n",
      "Mean squared error: 2548.07\n",
      "Mean absolute error: 41.227091\n",
      "Coefficient of determination: 0.47\n"
     ]
    }
   ],
   "source": [
    "print('Coefficients: \\n', regr.coef_)\n",
    "# The mean squared error\n",
    "print('Mean squared error: %.2f'\n",
    "     % mean_squared_error(diabetes_y_test, diabetes_y_pred))\n",
    "#the mean absolute error\n",
    "print('Mean absolute error: %2f'\n",
    "     % mean_absolute_error(diabetes_y_test, diabetes_y_pred))\n",
    "#The coefficient of determination: 1 is perfect prediction\n",
    "print('Coefficient of determination: %.2f'\n",
    "     % r2_score(diabetes_y_test, diabetes_y_pred))"
   ]
  },
  {
   "cell_type": "markdown",
   "id": "412d7d74",
   "metadata": {},
   "source": [
    "# Plot outplots"
   ]
  },
  {
   "cell_type": "code",
   "execution_count": 24,
   "id": "6ab7cb6b",
   "metadata": {},
   "outputs": [
    {
     "data": {
      "image/png": "[encoded data removed]",
      "text/plain": [
       "<Figure size 432x288 with 1 Axes>"
      ]
     },
     "metadata": {
      "needs_background": "light"
     },
     "output_type": "display_data"
    }
   ],
   "source": [
    "plt.scatter(diabetes_X_test, diabetes_y_test, color='black')   # Plotting the dotes(scatter)\n",
    "plt.plot(diabetes_X_test, diabetes_y_pred, color='blue', linewidth=2)   # Plotting the line \n",
    "\n",
    "# plt.xticks(())\n",
    "# plt.yticks(())\n",
    "\n",
    "plt.show()"
   ]
  },
  {
   "cell_type": "code",
   "execution_count": null,
   "id": "4e25d003",
   "metadata": {},
   "outputs": [],
   "source": []
  }
 ],
 "metadata": {
  "kernelspec": {
   "display_name": "Python 3 (ipykernel)",
   "language": "python",
   "name": "python3"
  },
  "language_info": {
   "codemirror_mode": {
    "name": "ipython",
    "version": 3
   },
   "file_extension": ".py",
   "mimetype": "text/x-python",
   "name": "python",
   "nbconvert_exporter": "python",
   "pygments_lexer": "ipython3",
   "version": "3.9.12"
  }
 },
 "nbformat": 4,
 "nbformat_minor": 5
}
