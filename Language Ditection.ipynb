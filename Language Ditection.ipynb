{
 "cells": [
  {
   "cell_type": "code",
   "execution_count": 2,
   "id": "a6cec6c2",
   "metadata": {},
   "outputs": [
    {
     "name": "stdout",
     "output_type": "stream",
     "text": [
      "                                                 Text    language\n",
      "0   klement gottwaldi surnukeha palsameeriti ning ...    Estonian\n",
      "1   sebes joseph pereira thomas  på eng the jesuit...     Swedish\n",
      "2   ถนนเจริญกรุง อักษรโรมัน thanon charoen krung เ...        Thai\n",
      "3   விசாகப்பட்டினம் தமிழ்ச்சங்கத்தை இந்துப் பத்திர...       Tamil\n",
      "4   de spons behoort tot het geslacht haliclona en...       Dutch\n",
      "5   エノが行きがかりでバスに乗ってしまい、気分が悪くなった際に助けるが、今すぐバスを降りたいと運...    Japanese\n",
      "6   tsutinalar i̇ngilizce tsuutina kanadada albert...     Turkish\n",
      "7   müller mox figura centralis circulorum doctoru...       Latin\n",
      "8   برقی بار electric charge تمام زیرجوہری ذرات کی...        Urdu\n",
      "9   シャーリー・フィールドは、サン・ベルナルド・アベニュー沿い市民センターとrtマーティン高校に...    Japanese\n",
      "10  kemunculan pertamanya adalah ketika mencium ka...  Indonesian\n",
      "11  barocco pt escândalo de ª página é um filme fr...   Portugese\n",
      "12  association de recherche et de sauvegarde de l...      French\n",
      "13  胡赛尼本人和小说的主人公阿米尔一样，都是出生在阿富汗首都喀布尔，少年时代便离开了这个国家。胡...     Chinese\n",
      "14  한국에서 성씨가 사용되기 시작한 정확한 시기는 알 수 없으나 한자漢字 등 중국 문물...      Korean\n",
      "15  การฟาดฟันของบรรดาสาวงามในกองประกวด miss beauty...        Thai\n",
      "16  dorota rabczewska artistinimega doda sündinud ...    Estonian\n",
      "17  diante destes gerenciamentos podendo ser feito...   Portugese\n",
      "18  besemer s van der geest v murray j bijleveld c...   Portugese\n",
      "19  महाराष्ट्र  मई  को भारत का राज्य बनाया गया था।...       Hindi\n",
      "20  ஆங்கில எழுத்துக்களை மட்டும் அல்லாமல் பன்மொழி எ...       Tamil\n",
      "21  en navidad de  poco después de que interpretó ...     Spanish\n",
      "22  la chirurgie comprenant principalement lablati...      French\n",
      "23  dès les années  les communes voisines darnouvi...      French\n",
      "24  merilai a maria-kristiina lotman toim  methis ...    Estonian\n",
      "25  효모는 세포 수준의 생물학에서 모델 생물의 첫 번째 본보기로 간주해도 좋을 것이다 ...      Korean\n",
      "26  au er avril  les services asama sont actuellem...      French\n",
      "27  لویي په کالونیو کې د ظلم کولو خلاف وو او له خل...      Pushto\n",
      "28  de prinses was als erfgename van polen een goe...       Dutch\n",
      "29  آهن ترکیباتی را ایجاد می‌کند که عمدتاً در حالت...     Persian\n",
      "30  lalimentation industrielle convient parfaiteme...      French\n",
      "31  de-a lungul vieții watson a fost interesat de ...    Romanian\n",
      "32  занимает пятое место в диптихе автокефальных п...     Russian\n",
      "33  藤女の女性教師。歳。数学担当。風紀指導を担当しており、リコにとっては天敵。藤女とその伝統に強...    Japanese\n",
      "34  walter kaudern dalam bukunya menyatakan wawo l...  Indonesian\n",
      "35  imprimat psalterium quzhayae librum primum imp...       Latin\n",
      "36  media [sc via] sive mese graece ἡ μέση [sc ὁδό...       Latin\n",
      "37  in  johnson was awarded an american institute ...     English\n",
      "38  attirant dans ses clubs les meilleurs joueurs ...      French\n",
      "39  poço de jacó está localizado a  metros de tell...   Portugese\n",
      "40  bussy-saint-georges has built its identity on ...     English\n",
      "41  زلاتان ابراھیموویچ zlatan ibrahimović سویڈش تل...        Urdu\n",
      "42  lock helen  \"a mans story is his gris-gris\" is...       Latin\n",
      "43  bintang ini memiliki nama tradisional sulafat ...  Indonesian\n",
      "44  dalam bahasa inggris istilah easter paskah men...  Indonesian\n",
      "45  教会旋法はまず終止音（finalis）によってつに分類される。そしてそれぞれが音域（ambi...    Japanese\n",
      "46  قبل عام بالضبط وبتاريخ  أعلن البغدادي خطة هدم ...      Arabic\n",
      "47  ـــ په  رجب  هـ ق كال دوانت وايگل ولسوالي دجمچ...      Pushto\n",
      "48  ia menikahi giacomina wafat  februari  putri u...  Indonesian\n",
      "49  theokritos herdediktning har tjänat som förebi...     Swedish\n"
     ]
    }
   ],
   "source": [
    "import pandas as pd\n",
    "import numpy as np\n",
    "from sklearn.feature_extraction.text import CountVectorizer\n",
    "from sklearn.model_selection import train_test_split\n",
    "from sklearn.naive_bayes import MultinomialNB\n",
    "data = pd.read_csv(\"https://raw.githubusercontent.com/amankharwal/Website-data/master/dataset.csv\")\n",
    "print(data.head(50))"
   ]
  },
  {
   "cell_type": "code",
   "execution_count": 3,
   "id": "5e8be4f0",
   "metadata": {},
   "outputs": [
    {
     "data": {
      "text/plain": [
       "Text        0\n",
       "language    0\n",
       "dtype: int64"
      ]
     },
     "execution_count": 3,
     "metadata": {},
     "output_type": "execute_result"
    }
   ],
   "source": [
    "data.isnull().sum()"
   ]
  },
  {
   "cell_type": "code",
   "execution_count": 4,
   "id": "d04d1c65",
   "metadata": {},
   "outputs": [
    {
     "data": {
      "text/plain": [
       "Estonian      1000\n",
       "Swedish       1000\n",
       "English       1000\n",
       "Russian       1000\n",
       "Romanian      1000\n",
       "Persian       1000\n",
       "Pushto        1000\n",
       "Spanish       1000\n",
       "Hindi         1000\n",
       "Korean        1000\n",
       "Chinese       1000\n",
       "French        1000\n",
       "Portugese     1000\n",
       "Indonesian    1000\n",
       "Urdu          1000\n",
       "Latin         1000\n",
       "Turkish       1000\n",
       "Japanese      1000\n",
       "Dutch         1000\n",
       "Tamil         1000\n",
       "Thai          1000\n",
       "Arabic        1000\n",
       "Name: language, dtype: int64"
      ]
     },
     "execution_count": 4,
     "metadata": {},
     "output_type": "execute_result"
    }
   ],
   "source": [
    "data[\"language\"].value_counts()"
   ]
  },
  {
   "cell_type": "code",
   "execution_count": 5,
   "id": "0cd8fe5f",
   "metadata": {},
   "outputs": [],
   "source": [
    "x = np.array(data[\"Text\"])\n",
    "y = np.array(data[\"language\"])\n",
    "\n",
    "cv = CountVectorizer()\n",
    "X = cv.fit_transform(x)\n",
    "X_train, X_test, y_train, y_test = train_test_split(X, y, \n",
    "                                                    test_size=0.33, \n",
    "                                                    random_state=42)"
   ]
  },
  {
   "cell_type": "code",
   "execution_count": 6,
   "id": "d9b11d83",
   "metadata": {},
   "outputs": [
    {
     "data": {
      "text/plain": [
       "0.953168044077135"
      ]
     },
     "execution_count": 6,
     "metadata": {},
     "output_type": "execute_result"
    }
   ],
   "source": [
    "model = MultinomialNB()\n",
    "model.fit(X_train,y_train)\n",
    "model.score(X_test,y_test)"
   ]
  },
  {
   "cell_type": "code",
   "execution_count": 13,
   "id": "521904a6",
   "metadata": {},
   "outputs": [
    {
     "name": "stdout",
     "output_type": "stream",
     "text": [
      "Enter a Text: لائیوپولیس اور رینجرز کے دستے ایک بار پھر زمان پارک پہنچ گئے، کارکنوں کے شدید پتھراؤ کے جواب میں پولیس کی شیلنگ\n",
      "['Urdu']\n"
     ]
    }
   ],
   "source": [
    "user = input(\"Enter a Text: \")\n",
    "data = cv.transform([user]).toarray()\n",
    "output = model.predict(data)\n",
    "print(output)"
   ]
  },
  {
   "cell_type": "code",
   "execution_count": null,
   "id": "27c03dbd",
   "metadata": {},
   "outputs": [],
   "source": []
  }
 ],
 "metadata": {
  "kernelspec": {
   "display_name": "Python 3 (ipykernel)",
   "language": "python",
   "name": "python3"
  },
  "language_info": {
   "codemirror_mode": {
    "name": "ipython",
    "version": 3
   },
   "file_extension": ".py",
   "mimetype": "text/x-python",
   "name": "python",
   "nbconvert_exporter": "python",
   "pygments_lexer": "ipython3",
   "version": "3.9.12"
  }
 },
 "nbformat": 4,
 "nbformat_minor": 5
}
