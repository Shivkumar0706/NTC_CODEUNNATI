{
 "cells": [
  {
   "cell_type": "markdown",
   "id": "ef7995ce",
   "metadata": {},
   "source": [
    "# addition"
   ]
  },
  {
   "cell_type": "code",
   "execution_count": 4,
   "id": "0cb7acbd",
   "metadata": {},
   "outputs": [],
   "source": [
    "var1 = 25\n",
    "var2 = 22"
   ]
  },
  {
   "cell_type": "code",
   "execution_count": 3,
   "id": "db90627d",
   "metadata": {},
   "outputs": [
    {
     "data": {
      "text/plain": [
       "47"
      ]
     },
     "execution_count": 3,
     "metadata": {},
     "output_type": "execute_result"
    }
   ],
   "source": [
    "var1 + var2"
   ]
  },
  {
   "cell_type": "code",
   "execution_count": 6,
   "id": "9040c133",
   "metadata": {},
   "outputs": [
    {
     "data": {
      "text/plain": [
       "21"
      ]
     },
     "execution_count": 6,
     "metadata": {},
     "output_type": "execute_result"
    }
   ],
   "source": [
    "var1 = 10\n",
    "var2 = 11\n",
    "\n",
    "var3 = var1 + var2\n",
    "var3"
   ]
  },
  {
   "cell_type": "code",
   "execution_count": 7,
   "id": "ac04037f",
   "metadata": {},
   "outputs": [
    {
     "data": {
      "text/plain": [
       "-1"
      ]
     },
     "execution_count": 7,
     "metadata": {},
     "output_type": "execute_result"
    }
   ],
   "source": [
    "var4 = 12\n",
    "var5 = 13\n",
    "\n",
    "var6 = var4 - var5\n",
    "var6"
   ]
  },
  {
   "cell_type": "code",
   "execution_count": 8,
   "id": "e5a89878",
   "metadata": {},
   "outputs": [
    {
     "data": {
      "text/plain": [
       "210"
      ]
     },
     "execution_count": 8,
     "metadata": {},
     "output_type": "execute_result"
    }
   ],
   "source": [
    "#multiplication \n",
    "\n",
    "var7 = 14\n",
    "var8 = 15\n",
    "\n",
    "var9 = var7 * var8\n",
    "var9"
   ]
  },
  {
   "cell_type": "code",
   "execution_count": 9,
   "id": "f9386efa",
   "metadata": {},
   "outputs": [
    {
     "data": {
      "text/plain": [
       "8.0"
      ]
     },
     "execution_count": 9,
     "metadata": {},
     "output_type": "execute_result"
    }
   ],
   "source": [
    "#division\n",
    "\n",
    "var10 = 16\n",
    "var11 = 2\n",
    "\n",
    "var12 = var10 / var11\n",
    "var12"
   ]
  },
  {
   "cell_type": "code",
   "execution_count": 10,
   "id": "e1eef4fa",
   "metadata": {},
   "outputs": [
    {
     "data": {
      "text/plain": [
       "7"
      ]
     },
     "execution_count": 10,
     "metadata": {},
     "output_type": "execute_result"
    }
   ],
   "source": [
    "#division \n",
    "\n",
    "var13 = 14\n",
    "var14 = 2\n",
    "\n",
    "var15 = var13 // var14\n",
    "var15"
   ]
  },
  {
   "cell_type": "code",
   "execution_count": 11,
   "id": "e9a1013d",
   "metadata": {},
   "outputs": [
    {
     "name": "stdout",
     "output_type": "stream",
     "text": [
      "my name is shiv\n",
      "100 1000 shiv\n"
     ]
    }
   ],
   "source": [
    "count = 100\n",
    "km = 1000\n",
    "name = \"shiv\"\n",
    "\n",
    "print(\"my name is shiv\")\n",
    "print(count,km,name)"
   ]
  },
  {
   "cell_type": "code",
   "execution_count": 14,
   "id": "409f81ab",
   "metadata": {},
   "outputs": [
    {
     "name": "stdout",
     "output_type": "stream",
     "text": [
      "My name is shiv\n",
      "100,1000,shiv\n",
      "4,5,patel\n"
     ]
    }
   ],
   "source": [
    "#saperate\n",
    "\n",
    "count = 100\n",
    "km = 1000\n",
    "name = \"shiv\"\n",
    "a,b,c = 4,5,\"patel\"\n",
    "\n",
    "print(\"My name is shiv\")\n",
    "print(count,km,name, sep = ',')\n",
    "print(a,b,c, sep = ',')"
   ]
  },
  {
   "cell_type": "code",
   "execution_count": 15,
   "id": "35b12749",
   "metadata": {},
   "outputs": [
    {
     "data": {
      "text/plain": [
       "3"
      ]
     },
     "execution_count": 15,
     "metadata": {},
     "output_type": "execute_result"
    }
   ],
   "source": [
    "a = 1\n",
    "b = 2\n",
    "\n",
    "a + b "
   ]
  },
  {
   "cell_type": "code",
   "execution_count": 16,
   "id": "ca1bc450",
   "metadata": {},
   "outputs": [
    {
     "name": "stdout",
     "output_type": "stream",
     "text": [
      "1 1 1\n"
     ]
    }
   ],
   "source": [
    "a=b=c=1\n",
    "\n",
    "a\n",
    "b\n",
    "c\n",
    "\n",
    "print(a,b,c)"
   ]
  },
  {
   "cell_type": "code",
   "execution_count": 17,
   "id": "b72215b0",
   "metadata": {},
   "outputs": [
    {
     "data": {
      "text/plain": [
       "1"
      ]
     },
     "execution_count": 17,
     "metadata": {},
     "output_type": "execute_result"
    }
   ],
   "source": [
    "a=b=c=1\n",
    "\n",
    "a\n",
    "b\n",
    "c\n",
    "\n",
    "#print(a,b,c)"
   ]
  },
  {
   "cell_type": "code",
   "execution_count": 18,
   "id": "c9449748",
   "metadata": {},
   "outputs": [
    {
     "data": {
      "text/plain": [
       "15"
      ]
     },
     "execution_count": 18,
     "metadata": {},
     "output_type": "execute_result"
    }
   ],
   "source": [
    "x,y,z = 13,14,15\n",
    "\n",
    "z"
   ]
  },
  {
   "cell_type": "code",
   "execution_count": 19,
   "id": "e1553382",
   "metadata": {},
   "outputs": [],
   "source": [
    "del z"
   ]
  },
  {
   "cell_type": "code",
   "execution_count": 20,
   "id": "0ac734c7",
   "metadata": {},
   "outputs": [
    {
     "ename": "NameError",
     "evalue": "name 'z' is not defined",
     "output_type": "error",
     "traceback": [
      "\u001b[1;31m---------------------------------------------------------------------------\u001b[0m",
      "\u001b[1;31mNameError\u001b[0m                                 Traceback (most recent call last)",
      "Input \u001b[1;32mIn [20]\u001b[0m, in \u001b[0;36m<cell line: 1>\u001b[1;34m()\u001b[0m\n\u001b[1;32m----> 1\u001b[0m \u001b[43mz\u001b[49m\n",
      "\u001b[1;31mNameError\u001b[0m: name 'z' is not defined"
     ]
    }
   ],
   "source": [
    "z"
   ]
  },
  {
   "cell_type": "markdown",
   "id": "733fae24",
   "metadata": {},
   "source": [
    "# Data Types\n",
    "\n",
    "numerical data types\n",
    "int\n",
    "float\n",
    "complex"
   ]
  },
  {
   "cell_type": "code",
   "execution_count": 22,
   "id": "53443af8",
   "metadata": {},
   "outputs": [
    {
     "name": "stdout",
     "output_type": "stream",
     "text": [
      "<class 'int'>\n",
      "<class 'float'>\n",
      "<class 'complex'>\n",
      "<class 'str'>\n",
      "<class 'bool'>\n"
     ]
    }
   ],
   "source": [
    "a = 67\n",
    "b = 99.9999\n",
    "c = 3.14j\n",
    "d = \"Navratri\"\n",
    "e = True\n",
    "\n",
    "\n",
    "print(type(a))\n",
    "print(type(b))\n",
    "print(type(c))\n",
    "print(type(d))\n",
    "print(type(e))"
   ]
  },
  {
   "cell_type": "markdown",
   "id": "3355b9a1",
   "metadata": {},
   "source": [
    "# How to take input from user"
   ]
  },
  {
   "cell_type": "code",
   "execution_count": 23,
   "id": "565ee9aa",
   "metadata": {},
   "outputs": [
    {
     "name": "stdout",
     "output_type": "stream",
     "text": [
      "enter the value of x: 47\n",
      "enter the value of y: 67\n"
     ]
    },
    {
     "data": {
      "text/plain": [
       "3149"
      ]
     },
     "execution_count": 23,
     "metadata": {},
     "output_type": "execute_result"
    }
   ],
   "source": [
    "#how to take input from user\n",
    "#ask the user to enter the value of x and store it in variable\n",
    "x = int(input(\"enter the value of x: \"))\n",
    "\n",
    "#ask the user to enter the value of x and store it in variable\n",
    "y = int(input(\"enter the value of y: \"))\n",
    "\n",
    "#perform any mathematical operation on user input\n",
    "\n",
    "z = x*y\n",
    "\n",
    "#print the answer \n",
    "\n",
    "z"
   ]
  },
  {
   "cell_type": "markdown",
   "id": "8fbe248c",
   "metadata": {},
   "source": [
    "#  Python String\n",
    "\n",
    "## combination of two strings"
   ]
  },
  {
   "cell_type": "code",
   "execution_count": 25,
   "id": "8282dad7",
   "metadata": {},
   "outputs": [
    {
     "data": {
      "text/plain": [
       "'I like python programing'"
      ]
     },
     "execution_count": 25,
     "metadata": {},
     "output_type": "execute_result"
    }
   ],
   "source": [
    "str1 = \"I like python programing\"\n",
    "str1"
   ]
  },
  {
   "cell_type": "code",
   "execution_count": 27,
   "id": "2c40ad6f",
   "metadata": {},
   "outputs": [
    {
     "data": {
      "text/plain": [
       "' number one'"
      ]
     },
     "execution_count": 27,
     "metadata": {},
     "output_type": "execute_result"
    }
   ],
   "source": [
    "str2 = \" number one\"\n",
    "str2"
   ]
  },
  {
   "cell_type": "code",
   "execution_count": 28,
   "id": "1768ce08",
   "metadata": {},
   "outputs": [
    {
     "data": {
      "text/plain": [
       "'I like python programing number one'"
      ]
     },
     "execution_count": 28,
     "metadata": {},
     "output_type": "execute_result"
    }
   ],
   "source": [
    "str3 = str1 + str2\n",
    "str3"
   ]
  },
  {
   "cell_type": "markdown",
   "id": "6474a788",
   "metadata": {},
   "source": [
    "# String Indexing"
   ]
  },
  {
   "cell_type": "code",
   "execution_count": 29,
   "id": "1cd6ea1b",
   "metadata": {},
   "outputs": [
    {
     "name": "stdout",
     "output_type": "stream",
     "text": [
      "university\n",
      "10\n"
     ]
    }
   ],
   "source": [
    "#string indexing and slicing\n",
    "\n",
    "name = \"university\"\n",
    "print(name)\n",
    "print(len(name))"
   ]
  },
  {
   "cell_type": "code",
   "execution_count": 34,
   "id": "cc22a6a8",
   "metadata": {},
   "outputs": [
    {
     "data": {
      "text/plain": [
       "'u'"
      ]
     },
     "execution_count": 34,
     "metadata": {},
     "output_type": "execute_result"
    }
   ],
   "source": [
    "name[0]"
   ]
  },
  {
   "cell_type": "code",
   "execution_count": 35,
   "id": "0f23eb6c",
   "metadata": {},
   "outputs": [
    {
     "data": {
      "text/plain": [
       "'r'"
      ]
     },
     "execution_count": 35,
     "metadata": {},
     "output_type": "execute_result"
    }
   ],
   "source": [
    "name[5]"
   ]
  },
  {
   "cell_type": "code",
   "execution_count": 36,
   "id": "c953a0dd",
   "metadata": {},
   "outputs": [
    {
     "data": {
      "text/plain": [
       "'u'"
      ]
     },
     "execution_count": 36,
     "metadata": {},
     "output_type": "execute_result"
    }
   ],
   "source": [
    "name[-10]"
   ]
  },
  {
   "cell_type": "code",
   "execution_count": 37,
   "id": "3a8bbc0e",
   "metadata": {},
   "outputs": [
    {
     "name": "stdout",
     "output_type": "stream",
     "text": [
      "This is shivkumar Patel\n",
      "23\n"
     ]
    }
   ],
   "source": [
    "name = \"This is shivkumar Patel\"\n",
    "print(name)\n",
    "print(len(name))"
   ]
  },
  {
   "cell_type": "code",
   "execution_count": 38,
   "id": "ec558c74",
   "metadata": {},
   "outputs": [
    {
     "data": {
      "text/plain": [
       "'i'"
      ]
     },
     "execution_count": 38,
     "metadata": {},
     "output_type": "execute_result"
    }
   ],
   "source": [
    "name[5]"
   ]
  },
  {
   "cell_type": "code",
   "execution_count": 39,
   "id": "ba1b2b06",
   "metadata": {},
   "outputs": [
    {
     "data": {
      "text/plain": [
       "' '"
      ]
     },
     "execution_count": 39,
     "metadata": {},
     "output_type": "execute_result"
    }
   ],
   "source": [
    "name[4]"
   ]
  },
  {
   "cell_type": "code",
   "execution_count": 40,
   "id": "8eb40d49",
   "metadata": {},
   "outputs": [
    {
     "data": {
      "text/plain": [
       "'i'"
      ]
     },
     "execution_count": 40,
     "metadata": {},
     "output_type": "execute_result"
    }
   ],
   "source": [
    "name[10]"
   ]
  },
  {
   "cell_type": "code",
   "execution_count": 42,
   "id": "dad6f805",
   "metadata": {},
   "outputs": [
    {
     "data": {
      "text/plain": [
       "'l'"
      ]
     },
     "execution_count": 42,
     "metadata": {},
     "output_type": "execute_result"
    }
   ],
   "source": [
    "name[22]"
   ]
  },
  {
   "cell_type": "code",
   "execution_count": 43,
   "id": "947c8aec",
   "metadata": {},
   "outputs": [
    {
     "data": {
      "text/plain": [
       "'l'"
      ]
     },
     "execution_count": 43,
     "metadata": {},
     "output_type": "execute_result"
    }
   ],
   "source": [
    "name[-1]"
   ]
  },
  {
   "cell_type": "code",
   "execution_count": 44,
   "id": "07fff797",
   "metadata": {},
   "outputs": [
    {
     "data": {
      "text/plain": [
       "'u'"
      ]
     },
     "execution_count": 44,
     "metadata": {},
     "output_type": "execute_result"
    }
   ],
   "source": [
    "name[-10]"
   ]
  },
  {
   "cell_type": "code",
   "execution_count": 45,
   "id": "16b400df",
   "metadata": {},
   "outputs": [
    {
     "data": {
      "text/plain": [
       "'v'"
      ]
     },
     "execution_count": 45,
     "metadata": {},
     "output_type": "execute_result"
    }
   ],
   "source": [
    "name[-12]"
   ]
  },
  {
   "cell_type": "code",
   "execution_count": 46,
   "id": "2cb8bdcd",
   "metadata": {},
   "outputs": [
    {
     "data": {
      "text/plain": [
       "' '"
      ]
     },
     "execution_count": 46,
     "metadata": {},
     "output_type": "execute_result"
    }
   ],
   "source": [
    "name[-6]"
   ]
  },
  {
   "cell_type": "code",
   "execution_count": null,
   "id": "6ec519c9",
   "metadata": {},
   "outputs": [],
   "source": []
  }
 ],
 "metadata": {
  "kernelspec": {
   "display_name": "Python 3 (ipykernel)",
   "language": "python",
   "name": "python3"
  },
  "language_info": {
   "codemirror_mode": {
    "name": "ipython",
    "version": 3
   },
   "file_extension": ".py",
   "mimetype": "text/x-python",
   "name": "python",
   "nbconvert_exporter": "python",
   "pygments_lexer": "ipython3",
   "version": "3.9.12"
  }
 },
 "nbformat": 4,
 "nbformat_minor": 5
}
