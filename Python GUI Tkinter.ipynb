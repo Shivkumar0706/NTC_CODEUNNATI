{
 "cells": [
  {
   "cell_type": "code",
   "execution_count": 2,
   "id": "e7fd00b5",
   "metadata": {},
   "outputs": [],
   "source": [
    "import tkinter as tk\n",
    "from tkinter import ttk\n",
    "import pickle\n",
    "import numpy as np\n",
    "import seaborn as sns\n",
    "from sklearn.utils import shuffle\n",
    "from sklearn.linear_model import LogisticRegression"
   ]
  },
  {
   "cell_type": "code",
   "execution_count": 3,
   "id": "26ff6b77",
   "metadata": {},
   "outputs": [],
   "source": [
    "window=tk.Tk()\n",
    "tk.mainloop()"
   ]
  },
  {
   "cell_type": "code",
   "execution_count": 4,
   "id": "accd5d92",
   "metadata": {},
   "outputs": [],
   "source": [
    "window=tk.Tk()\n",
    "label1=tk.Label(window,text=\"Hello\")\n",
    "label1.pack()\n",
    "tk.mainloop()"
   ]
  },
  {
   "cell_type": "code",
   "execution_count": 5,
   "id": "f884f851",
   "metadata": {},
   "outputs": [
    {
     "name": "stdout",
     "output_type": "stream",
     "text": [
      "\n"
     ]
    }
   ],
   "source": [
    "window=tk.Tk()\n",
    "x1=tk.StringVar()\n",
    "tk.Entry(window,textvariable=x1).pack()\n",
    "print(x1.get())"
   ]
  },
  {
   "cell_type": "code",
   "execution_count": 6,
   "id": "88d1a9c1",
   "metadata": {},
   "outputs": [
    {
     "name": "stdout",
     "output_type": "stream",
     "text": [
      "\n"
     ]
    }
   ],
   "source": [
    "print(x1.get())"
   ]
  },
  {
   "cell_type": "code",
   "execution_count": 8,
   "id": "281b0f0f",
   "metadata": {},
   "outputs": [
    {
     "name": "stdout",
     "output_type": "stream",
     "text": [
      "clicked\n",
      "clicked\n",
      "clicked\n"
     ]
    }
   ],
   "source": [
    "window=tk.Tk()\n",
    "tk.Button(window,text=\"click\",command= lambda : print(\"clicked\")).pack()\n",
    "tk.mainloop()"
   ]
  },
  {
   "cell_type": "markdown",
   "id": "fa34b249",
   "metadata": {},
   "source": [
    "### without using len function, reverese an array or list in python by just using indexing power and for loop"
   ]
  },
  {
   "cell_type": "code",
   "execution_count": 9,
   "id": "909bbd40",
   "metadata": {},
   "outputs": [
    {
     "name": "stdout",
     "output_type": "stream",
     "text": [
      "[5, 4, 3, 2, 1]\n"
     ]
    }
   ],
   "source": [
    "list1 = [1,2,3,4,5]\n",
    "reversed_list = list()\n",
    "\n",
    "for item in list1:\n",
    "    reversed_list = [item] + reversed_list\n",
    "    \n",
    "print(reversed_list)"
   ]
  },
  {
   "cell_type": "code",
   "execution_count": 11,
   "id": "1d501ba6",
   "metadata": {},
   "outputs": [
    {
     "name": "stdout",
     "output_type": "stream",
     "text": [
      "enter the height of the triangle : 8\n",
      "              % \n",
      "            % % \n",
      "          % % % \n",
      "        % % % % \n",
      "      % % % % % \n",
      "    % % % % % % \n",
      "  % % % % % % % \n",
      "% % % % % % % % \n"
     ]
    }
   ],
   "source": [
    "height = int(input(\"enter the height of the triangle : \"))\n",
    "\n",
    "for i in range(1, height + 1):\n",
    "    for j in range(1, height + 1):\n",
    "        if (j <= height - i):\n",
    "            print(' ', end = ' ')\n",
    "        else:\n",
    "            print('%', end = ' ')\n",
    "    print()"
   ]
  },
  {
   "cell_type": "code",
   "execution_count": 12,
   "id": "50f01a21",
   "metadata": {},
   "outputs": [
    {
     "name": "stdout",
     "output_type": "stream",
     "text": [
      "1 \n",
      "1 2 \n",
      "1 2 3 \n",
      "1 2 3 4 \n",
      "1 2 3 4 5 \n"
     ]
    }
   ],
   "source": [
    "rows = 5\n",
    "for i in range(1, rows + 1):\n",
    "    for j in range(1, i + 1):\n",
    "        print(j, end=' ')\n",
    "    print('')"
   ]
  },
  {
   "cell_type": "code",
   "execution_count": 13,
   "id": "03421e31",
   "metadata": {},
   "outputs": [
    {
     "name": "stdout",
     "output_type": "stream",
     "text": [
      "* * * * * \r\n",
      "* * * * \r\n",
      "* * * \r\n",
      "* * \r\n",
      "* \r\n"
     ]
    }
   ],
   "source": [
    "rows = 5\n",
    "b = '*'\n",
    "# reverse for loop from 5 to 0\n",
    "for i in range(5, 0, -1):\n",
    "    #b += 1\n",
    "\n",
    "    for j in range(1, i + 1):\n",
    "        print(b, end=' ')\n",
    "    print('\\r')"
   ]
  },
  {
   "cell_type": "code",
   "execution_count": null,
   "id": "d16f25d3",
   "metadata": {},
   "outputs": [],
   "source": []
  }
 ],
 "metadata": {
  "kernelspec": {
   "display_name": "Python 3 (ipykernel)",
   "language": "python",
   "name": "python3"
  },
  "language_info": {
   "codemirror_mode": {
    "name": "ipython",
    "version": 3
   },
   "file_extension": ".py",
   "mimetype": "text/x-python",
   "name": "python",
   "nbconvert_exporter": "python",
   "pygments_lexer": "ipython3",
   "version": "3.9.12"
  }
 },
 "nbformat": 4,
 "nbformat_minor": 5
}
