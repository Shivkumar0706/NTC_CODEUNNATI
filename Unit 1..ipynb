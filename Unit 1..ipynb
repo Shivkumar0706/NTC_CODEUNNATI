{
 "cells": [
  {
   "cell_type": "code",
   "execution_count": 1,
   "id": "cfbd2e16",
   "metadata": {},
   "outputs": [],
   "source": [
    "z = \"My name is Shivkumar Patel\""
   ]
  },
  {
   "cell_type": "code",
   "execution_count": 2,
   "id": "6cef2e7f",
   "metadata": {},
   "outputs": [
    {
     "data": {
      "text/plain": [
       "'My name is Shivkumar Patel'"
      ]
     },
     "execution_count": 2,
     "metadata": {},
     "output_type": "execute_result"
    }
   ],
   "source": [
    "z"
   ]
  },
  {
   "cell_type": "code",
   "execution_count": 3,
   "id": "d435aabb",
   "metadata": {},
   "outputs": [
    {
     "data": {
      "text/plain": [
       "'y nam'"
      ]
     },
     "execution_count": 3,
     "metadata": {},
     "output_type": "execute_result"
    }
   ],
   "source": [
    "z[1:6]"
   ]
  },
  {
   "cell_type": "code",
   "execution_count": 4,
   "id": "38700f35",
   "metadata": {},
   "outputs": [
    {
     "data": {
      "text/plain": [
       "''"
      ]
     },
     "execution_count": 4,
     "metadata": {},
     "output_type": "execute_result"
    }
   ],
   "source": [
    "z[-1:-3]"
   ]
  },
  {
   "cell_type": "code",
   "execution_count": 5,
   "id": "d7280e36",
   "metadata": {},
   "outputs": [
    {
     "data": {
      "text/plain": [
       "'te'"
      ]
     },
     "execution_count": 5,
     "metadata": {},
     "output_type": "execute_result"
    }
   ],
   "source": [
    "z[-3:-1]"
   ]
  },
  {
   "cell_type": "code",
   "execution_count": 6,
   "id": "b57b799e",
   "metadata": {},
   "outputs": [
    {
     "data": {
      "text/plain": [
       "''"
      ]
     },
     "execution_count": 6,
     "metadata": {},
     "output_type": "execute_result"
    }
   ],
   "source": [
    "z[-3:-1+1]"
   ]
  },
  {
   "cell_type": "code",
   "execution_count": 14,
   "id": "e2557751",
   "metadata": {},
   "outputs": [
    {
     "name": "stdout",
     "output_type": "stream",
     "text": [
      "\n",
      "print string in positional order: \n",
      "nipulbhai, shiv, patel\n"
     ]
    }
   ],
   "source": [
    "#positional formating \n",
    "\n",
    "string1 = \"{1}, {0}, {2}\".format('shiv', 'nipulbhai', 'patel')\n",
    "print(\"\\nprint string in positional order: \")\n",
    "print(string1)"
   ]
  },
  {
   "cell_type": "markdown",
   "id": "d495748a",
   "metadata": {},
   "source": [
    "# Python List"
   ]
  },
  {
   "cell_type": "markdown",
   "id": "c085581c",
   "metadata": {},
   "source": [
    "list is mutable data type in Python"
   ]
  },
  {
   "cell_type": "code",
   "execution_count": 15,
   "id": "a5e6373f",
   "metadata": {},
   "outputs": [],
   "source": [
    "my_list = [1,2,3,4,5]"
   ]
  },
  {
   "cell_type": "code",
   "execution_count": 16,
   "id": "3d06d4c5",
   "metadata": {},
   "outputs": [
    {
     "data": {
      "text/plain": [
       "[1, 2, 3, 4, 5]"
      ]
     },
     "execution_count": 16,
     "metadata": {},
     "output_type": "execute_result"
    }
   ],
   "source": [
    "my_list"
   ]
  },
  {
   "cell_type": "code",
   "execution_count": 17,
   "id": "8f7a9cbe",
   "metadata": {},
   "outputs": [
    {
     "data": {
      "text/plain": [
       "list"
      ]
     },
     "execution_count": 17,
     "metadata": {},
     "output_type": "execute_result"
    }
   ],
   "source": [
    "type(my_list)"
   ]
  },
  {
   "cell_type": "code",
   "execution_count": 18,
   "id": "d320f40c",
   "metadata": {},
   "outputs": [
    {
     "data": {
      "text/plain": [
       "int"
      ]
     },
     "execution_count": 18,
     "metadata": {},
     "output_type": "execute_result"
    }
   ],
   "source": [
    "type(my_list[0])"
   ]
  },
  {
   "cell_type": "code",
   "execution_count": 19,
   "id": "dac81c8f",
   "metadata": {},
   "outputs": [],
   "source": [
    "x = [1,2,5.1,3.5, \"hello\"]"
   ]
  },
  {
   "cell_type": "code",
   "execution_count": 20,
   "id": "b83ad330",
   "metadata": {},
   "outputs": [
    {
     "data": {
      "text/plain": [
       "[1, 2, 5.1, 3.5, 'hello']"
      ]
     },
     "execution_count": 20,
     "metadata": {},
     "output_type": "execute_result"
    }
   ],
   "source": [
    "x"
   ]
  },
  {
   "cell_type": "code",
   "execution_count": 21,
   "id": "ac7ffbdf",
   "metadata": {},
   "outputs": [
    {
     "data": {
      "text/plain": [
       "1"
      ]
     },
     "execution_count": 21,
     "metadata": {},
     "output_type": "execute_result"
    }
   ],
   "source": [
    "x[0]"
   ]
  },
  {
   "cell_type": "code",
   "execution_count": 22,
   "id": "82120ec6",
   "metadata": {},
   "outputs": [
    {
     "data": {
      "text/plain": [
       "5.1"
      ]
     },
     "execution_count": 22,
     "metadata": {},
     "output_type": "execute_result"
    }
   ],
   "source": [
    "x[2]"
   ]
  },
  {
   "cell_type": "code",
   "execution_count": 23,
   "id": "59e4a006",
   "metadata": {},
   "outputs": [
    {
     "data": {
      "text/plain": [
       "'hello'"
      ]
     },
     "execution_count": 23,
     "metadata": {},
     "output_type": "execute_result"
    }
   ],
   "source": [
    "x[-1]"
   ]
  },
  {
   "cell_type": "code",
   "execution_count": 24,
   "id": "397c4857",
   "metadata": {},
   "outputs": [
    {
     "data": {
      "text/plain": [
       "[2, 5.1]"
      ]
     },
     "execution_count": 24,
     "metadata": {},
     "output_type": "execute_result"
    }
   ],
   "source": [
    "#indexing\n",
    "\n",
    "x[1:3]"
   ]
  },
  {
   "cell_type": "code",
   "execution_count": 25,
   "id": "2ca7a67e",
   "metadata": {},
   "outputs": [],
   "source": [
    "x[4] = \"hy\""
   ]
  },
  {
   "cell_type": "code",
   "execution_count": 26,
   "id": "402110db",
   "metadata": {},
   "outputs": [
    {
     "data": {
      "text/plain": [
       "'hy'"
      ]
     },
     "execution_count": 26,
     "metadata": {},
     "output_type": "execute_result"
    }
   ],
   "source": [
    "x[4]"
   ]
  },
  {
   "cell_type": "code",
   "execution_count": 28,
   "id": "b662c725",
   "metadata": {},
   "outputs": [
    {
     "name": "stdout",
     "output_type": "stream",
     "text": [
      "enter first value10\n",
      "enter second value15\n"
     ]
    }
   ],
   "source": [
    "# input\n",
    "\n",
    "x = input(\"enter first value\")\n",
    "y = input(\"enter second value\")"
   ]
  },
  {
   "cell_type": "code",
   "execution_count": 29,
   "id": "870b1a84",
   "metadata": {},
   "outputs": [
    {
     "data": {
      "text/plain": [
       "'1015'"
      ]
     },
     "execution_count": 29,
     "metadata": {},
     "output_type": "execute_result"
    }
   ],
   "source": [
    "x + y "
   ]
  },
  {
   "cell_type": "code",
   "execution_count": 30,
   "id": "87f58e09",
   "metadata": {},
   "outputs": [
    {
     "data": {
      "text/plain": [
       "'10'"
      ]
     },
     "execution_count": 30,
     "metadata": {},
     "output_type": "execute_result"
    }
   ],
   "source": [
    "x"
   ]
  },
  {
   "cell_type": "code",
   "execution_count": 31,
   "id": "3c0333d6",
   "metadata": {},
   "outputs": [
    {
     "data": {
      "text/plain": [
       "'15'"
      ]
     },
     "execution_count": 31,
     "metadata": {},
     "output_type": "execute_result"
    }
   ],
   "source": [
    "y"
   ]
  },
  {
   "cell_type": "code",
   "execution_count": 32,
   "id": "39dacfe3",
   "metadata": {},
   "outputs": [],
   "source": [
    "#convert into int\n",
    "\n",
    "x = int(x)"
   ]
  },
  {
   "cell_type": "code",
   "execution_count": 33,
   "id": "b764ed23",
   "metadata": {},
   "outputs": [],
   "source": [
    "y = int(y)"
   ]
  },
  {
   "cell_type": "code",
   "execution_count": 34,
   "id": "d1ce94d8",
   "metadata": {},
   "outputs": [
    {
     "data": {
      "text/plain": [
       "25"
      ]
     },
     "execution_count": 34,
     "metadata": {},
     "output_type": "execute_result"
    }
   ],
   "source": [
    "x+y"
   ]
  },
  {
   "cell_type": "markdown",
   "id": "92c5a75d",
   "metadata": {},
   "source": [
    "# Python Tuples\n",
    "## tuples are immutable data types"
   ]
  },
  {
   "cell_type": "code",
   "execution_count": 35,
   "id": "84ef78a0",
   "metadata": {},
   "outputs": [],
   "source": [
    "a=(1,2,3,4,5)\n",
    "b=(6,7,8,9,10)"
   ]
  },
  {
   "cell_type": "code",
   "execution_count": 36,
   "id": "6b67914c",
   "metadata": {},
   "outputs": [
    {
     "data": {
      "text/plain": [
       "tuple"
      ]
     },
     "execution_count": 36,
     "metadata": {},
     "output_type": "execute_result"
    }
   ],
   "source": [
    "type(a)"
   ]
  },
  {
   "cell_type": "code",
   "execution_count": 37,
   "id": "74c5c3e4",
   "metadata": {},
   "outputs": [
    {
     "data": {
      "text/plain": [
       "(1, 2, 3, 4, 5, 6, 7, 8, 9, 10)"
      ]
     },
     "execution_count": 37,
     "metadata": {},
     "output_type": "execute_result"
    }
   ],
   "source": [
    "a+b"
   ]
  },
  {
   "cell_type": "code",
   "execution_count": 38,
   "id": "7a7fbc8e",
   "metadata": {},
   "outputs": [
    {
     "data": {
      "text/plain": [
       "(1, 2, 3, 4, 5, 1, 2, 3, 4, 5)"
      ]
     },
     "execution_count": 38,
     "metadata": {},
     "output_type": "execute_result"
    }
   ],
   "source": [
    "a*2"
   ]
  },
  {
   "cell_type": "code",
   "execution_count": 39,
   "id": "8b875416",
   "metadata": {},
   "outputs": [
    {
     "data": {
      "text/plain": [
       "(1, 2, 3, 4, 5, 1, 2, 3, 4, 5, 1, 2, 3, 4, 5)"
      ]
     },
     "execution_count": 39,
     "metadata": {},
     "output_type": "execute_result"
    }
   ],
   "source": [
    "a*3"
   ]
  },
  {
   "cell_type": "code",
   "execution_count": 40,
   "id": "1020de74",
   "metadata": {},
   "outputs": [
    {
     "ename": "TypeError",
     "evalue": "'tuple' object is not callable",
     "output_type": "error",
     "traceback": [
      "\u001b[1;31m---------------------------------------------------------------------------\u001b[0m",
      "\u001b[1;31mTypeError\u001b[0m                                 Traceback (most recent call last)",
      "Input \u001b[1;32mIn [40]\u001b[0m, in \u001b[0;36m<cell line: 1>\u001b[1;34m()\u001b[0m\n\u001b[1;32m----> 1\u001b[0m \u001b[43ma\u001b[49m\u001b[43m(\u001b[49m\u001b[38;5;241;43m0\u001b[39;49m\u001b[43m)\u001b[49m\n",
      "\u001b[1;31mTypeError\u001b[0m: 'tuple' object is not callable"
     ]
    }
   ],
   "source": [
    "a(0)"
   ]
  },
  {
   "cell_type": "code",
   "execution_count": 41,
   "id": "85c84206",
   "metadata": {},
   "outputs": [
    {
     "data": {
      "text/plain": [
       "1"
      ]
     },
     "execution_count": 41,
     "metadata": {},
     "output_type": "execute_result"
    }
   ],
   "source": [
    "a[0]"
   ]
  },
  {
   "cell_type": "code",
   "execution_count": 42,
   "id": "1ba30146",
   "metadata": {},
   "outputs": [
    {
     "ename": "TypeError",
     "evalue": "'tuple' object does not support item assignment",
     "output_type": "error",
     "traceback": [
      "\u001b[1;31m---------------------------------------------------------------------------\u001b[0m",
      "\u001b[1;31mTypeError\u001b[0m                                 Traceback (most recent call last)",
      "Input \u001b[1;32mIn [42]\u001b[0m, in \u001b[0;36m<cell line: 1>\u001b[1;34m()\u001b[0m\n\u001b[1;32m----> 1\u001b[0m a[\u001b[38;5;241m0\u001b[39m]\u001b[38;5;241m=\u001b[39m\u001b[38;5;241m10\u001b[39m\n",
      "\u001b[1;31mTypeError\u001b[0m: 'tuple' object does not support item assignment"
     ]
    }
   ],
   "source": [
    "a[0]=10"
   ]
  },
  {
   "cell_type": "markdown",
   "id": "9f65d787",
   "metadata": {},
   "source": [
    "# Python Dictionary"
   ]
  },
  {
   "cell_type": "markdown",
   "id": "54901605",
   "metadata": {},
   "source": [
    "## dictionary does not allow the index"
   ]
  },
  {
   "cell_type": "markdown",
   "id": "f261cc7d",
   "metadata": {},
   "source": [
    "## dictionaries are anclosed by curly braces ({  })"
   ]
  },
  {
   "cell_type": "code",
   "execution_count": 47,
   "id": "5084ac83",
   "metadata": {},
   "outputs": [],
   "source": [
    "empl={}"
   ]
  },
  {
   "cell_type": "code",
   "execution_count": 48,
   "id": "972376a4",
   "metadata": {},
   "outputs": [
    {
     "data": {
      "text/plain": [
       "dict"
      ]
     },
     "execution_count": 48,
     "metadata": {},
     "output_type": "execute_result"
    }
   ],
   "source": [
    "type(empl)"
   ]
  },
  {
   "cell_type": "code",
   "execution_count": 49,
   "id": "03687a24",
   "metadata": {},
   "outputs": [],
   "source": [
    "empl[\"name\"] = \"Shiv\"\n",
    "empl[\"age\"] = 23\n",
    "empl[\"gender\"] = \"M\""
   ]
  },
  {
   "cell_type": "code",
   "execution_count": 50,
   "id": "8f7aa479",
   "metadata": {},
   "outputs": [
    {
     "data": {
      "text/plain": [
       "{'name': 'Shiv', 'age': 23, 'gender': 'M'}"
      ]
     },
     "execution_count": 50,
     "metadata": {},
     "output_type": "execute_result"
    }
   ],
   "source": [
    "empl"
   ]
  },
  {
   "cell_type": "code",
   "execution_count": 51,
   "id": "85692961",
   "metadata": {},
   "outputs": [
    {
     "data": {
      "text/plain": [
       "'Shiv'"
      ]
     },
     "execution_count": 51,
     "metadata": {},
     "output_type": "execute_result"
    }
   ],
   "source": [
    "empl[\"name\"]"
   ]
  },
  {
   "cell_type": "code",
   "execution_count": 52,
   "id": "e9b281e8",
   "metadata": {},
   "outputs": [
    {
     "data": {
      "text/plain": [
       "23"
      ]
     },
     "execution_count": 52,
     "metadata": {},
     "output_type": "execute_result"
    }
   ],
   "source": [
    "empl[\"age\"]"
   ]
  },
  {
   "cell_type": "code",
   "execution_count": 53,
   "id": "a35be584",
   "metadata": {},
   "outputs": [
    {
     "ename": "KeyError",
     "evalue": "0",
     "output_type": "error",
     "traceback": [
      "\u001b[1;31m---------------------------------------------------------------------------\u001b[0m",
      "\u001b[1;31mKeyError\u001b[0m                                  Traceback (most recent call last)",
      "Input \u001b[1;32mIn [53]\u001b[0m, in \u001b[0;36m<cell line: 1>\u001b[1;34m()\u001b[0m\n\u001b[1;32m----> 1\u001b[0m \u001b[43mempl\u001b[49m\u001b[43m[\u001b[49m\u001b[38;5;241;43m0\u001b[39;49m\u001b[43m]\u001b[49m\n",
      "\u001b[1;31mKeyError\u001b[0m: 0"
     ]
    }
   ],
   "source": [
    "empl[0]"
   ]
  },
  {
   "cell_type": "markdown",
   "id": "fd8d0c68",
   "metadata": {},
   "source": [
    "# Python Loops\n",
    "## While Loops\n",
    "### In loops, we have to use : at the end of the sentance"
   ]
  },
  {
   "cell_type": "code",
   "execution_count": 6,
   "id": "e354f168",
   "metadata": {},
   "outputs": [
    {
     "name": "stdout",
     "output_type": "stream",
     "text": [
      "the count is: 0\n",
      "Good bye\n",
      "the count is: 1\n",
      "Good bye\n",
      "the count is: 2\n",
      "Good bye\n",
      "the count is: 3\n",
      "Good bye\n",
      "the count is: 4\n",
      "Good bye\n",
      "the count is: 5\n",
      "Good bye\n",
      "the count is: 6\n",
      "Good bye\n",
      "the count is: 7\n",
      "Good bye\n",
      "the count is: 8\n",
      "Good bye\n"
     ]
    }
   ],
   "source": [
    "# Python program to illustrate\n",
    "# While loop\n",
    "count = 0\n",
    "while (count < 9):\n",
    "    print(\"the count is:\", count)\n",
    "    count = count + 1\n",
    "    print(\"Good bye\")"
   ]
  },
  {
   "cell_type": "code",
   "execution_count": 2,
   "id": "4f3e28cb",
   "metadata": {},
   "outputs": [
    {
     "name": "stdout",
     "output_type": "stream",
     "text": [
      "the count is: 0\n",
      "Good bye\n",
      "the count is: 2\n",
      "Good bye\n",
      "the count is: 4\n",
      "Good bye\n",
      "the count is: 6\n",
      "Good bye\n",
      "the count is: 8\n",
      "Good bye\n"
     ]
    }
   ],
   "source": [
    "count = 0\n",
    "while (count < 9):\n",
    "    print(\"the count is:\", count)\n",
    "    count = count + 2\n",
    "    print(\"Good bye\")"
   ]
  },
  {
   "cell_type": "code",
   "execution_count": 4,
   "id": "af9d54e5",
   "metadata": {},
   "outputs": [
    {
     "name": "stdout",
     "output_type": "stream",
     "text": [
      "the count is: 0\n",
      "the count is: 1\n",
      "the count is: 2\n",
      "the count is: 3\n",
      "the count is: 4\n",
      "the count is: 5\n",
      "the count is: 6\n",
      "the count is: 7\n",
      "the count is: 8\n",
      "Good bye!\n"
     ]
    }
   ],
   "source": [
    "count = 0\n",
    "while (count < 9):\n",
    "    print(\"the count is:\", count)\n",
    "    count = count + 1\n",
    "print(\"Good bye!\")"
   ]
  },
  {
   "cell_type": "code",
   "execution_count": 5,
   "id": "57998d09",
   "metadata": {},
   "outputs": [
    {
     "name": "stdout",
     "output_type": "stream",
     "text": [
      "the count is: 0\n",
      "the count is: 1\n",
      "the count is: 2\n",
      "Hello Shiv\n"
     ]
    }
   ],
   "source": [
    "count = 0\n",
    "while (count < 3):\n",
    "    print(\"the count is:\", count)\n",
    "    count = count + 1\n",
    "print(\"Hello Shiv\")"
   ]
  },
  {
   "cell_type": "code",
   "execution_count": 7,
   "id": "abef357c",
   "metadata": {},
   "outputs": [
    {
     "name": "stdout",
     "output_type": "stream",
     "text": [
      "the count is: 0\n",
      "the count is: 5\n",
      "the count is: 10\n",
      "Hello Shivu_\n"
     ]
    }
   ],
   "source": [
    "count = 0\n",
    "while (count < 15):\n",
    "    print(\"the count is:\", count)\n",
    "    count = count + 5\n",
    "print(\"Hello Shivu_\")"
   ]
  },
  {
   "cell_type": "code",
   "execution_count": 10,
   "id": "f1fe4126",
   "metadata": {},
   "outputs": [
    {
     "name": "stdout",
     "output_type": "stream",
     "text": [
      "Hyy_\n",
      "Hyy_\n",
      "Hyy_\n"
     ]
    }
   ],
   "source": [
    "count = 0\n",
    "while (count < 5):\n",
    "    count = count + 2\n",
    "    print(\"Hyy_\")"
   ]
  },
  {
   "cell_type": "code",
   "execution_count": 12,
   "id": "a5e9c7c8",
   "metadata": {},
   "outputs": [
    {
     "name": "stdout",
     "output_type": "stream",
     "text": [
      "Hyy_\n"
     ]
    }
   ],
   "source": [
    "count = 0\n",
    "while (count < 5):\n",
    "    count = count + 1\n",
    "print(\"Hyy_\")"
   ]
  },
  {
   "cell_type": "markdown",
   "id": "4859289d",
   "metadata": {},
   "source": [
    "# While..Else Loops"
   ]
  },
  {
   "cell_type": "code",
   "execution_count": 6,
   "id": "fbadd010",
   "metadata": {},
   "outputs": [
    {
     "name": "stdout",
     "output_type": "stream",
     "text": [
      "0  is less than 5\n",
      "1  is less than 5\n",
      "2  is less than 5\n",
      "3  is less than 5\n",
      "4  is less than 5\n",
      "5  is not less than 5\n"
     ]
    }
   ],
   "source": [
    "count = 0\n",
    "while (count < 5):\n",
    "    print(count, \" is less than 5\")\n",
    "    count = count + 1\n",
    "else:\n",
    "    print(count, \" is not less than 5\")"
   ]
  },
  {
   "cell_type": "code",
   "execution_count": 7,
   "id": "c94b49e0",
   "metadata": {},
   "outputs": [
    {
     "name": "stdout",
     "output_type": "stream",
     "text": [
      "0 is equal to 5\n",
      "1 is equal to 5\n",
      "2 is equal to 5\n",
      "3 is equal to 5\n",
      "4 is equal to 5\n",
      "5 is equal to 5\n"
     ]
    }
   ],
   "source": [
    "count = 0\n",
    "while (count < 5):\n",
    "    print(count, \"is equal to 5\")\n",
    "    count = count + 1\n",
    "else:\n",
    "    print(count, \"is equal to 5\")"
   ]
  },
  {
   "cell_type": "code",
   "execution_count": 9,
   "id": "fd2a2737",
   "metadata": {},
   "outputs": [
    {
     "name": "stdout",
     "output_type": "stream",
     "text": [
      "2 is less than 10\n",
      "3 is less than 10\n",
      "4 is less than 10\n",
      "5 is less than 10\n",
      "6 is less than 10\n",
      "7 is less than 10\n",
      "8 is less than 10\n",
      "9 is less than 10\n",
      "10 is equal to 10\n"
     ]
    }
   ],
   "source": [
    "count = 2\n",
    "while (count < 10):\n",
    "    print(count, \"is less than 10\")\n",
    "    count = count + 1\n",
    "else:\n",
    "    print(count, \"is equal to 10\")"
   ]
  },
  {
   "cell_type": "markdown",
   "id": "800f05e7",
   "metadata": {},
   "source": [
    "# For Loops"
   ]
  },
  {
   "cell_type": "code",
   "execution_count": 10,
   "id": "37999aa8",
   "metadata": {},
   "outputs": [
    {
     "name": "stdout",
     "output_type": "stream",
     "text": [
      "current letter : P\n",
      "current letter : y\n",
      "current letter : t\n",
      "current letter : h\n",
      "current letter : o\n",
      "current letter : n\n",
      "current fruit : banana\n",
      "current fruit : apple\n",
      "current fruit : mango\n",
      "Good Bye\n"
     ]
    }
   ],
   "source": [
    "for letter in 'Python':   # First Example\n",
    "    print('current letter :',  letter)\n",
    "    \n",
    "fruits = ['banana', 'apple', 'mango']\n",
    "for fruit in fruits:      # second example\n",
    "    print('current fruit :', fruit)\n",
    "    \n",
    "print(\"Good Bye\")"
   ]
  },
  {
   "cell_type": "code",
   "execution_count": 16,
   "id": "8e848c1b",
   "metadata": {},
   "outputs": [
    {
     "name": "stdout",
     "output_type": "stream",
     "text": [
      "current letter : P\n",
      "current letter : y\n",
      "current letter : t\n",
      "current letter : h\n",
      "current letter : o\n",
      "current letter : n\n",
      "Good Bye\n"
     ]
    }
   ],
   "source": [
    "for letter in 'Python':\n",
    "    print('current letter :',  letter)\n",
    "    \n",
    "\n",
    "print(\"Good Bye\")"
   ]
  },
  {
   "cell_type": "code",
   "execution_count": 15,
   "id": "ae61ddee",
   "metadata": {},
   "outputs": [
    {
     "name": "stdout",
     "output_type": "stream",
     "text": [
      "current letter : f\n",
      "current letter : r\n",
      "current letter : u\n",
      "current letter : i\n",
      "current letter : t\n",
      "current letter : s\n"
     ]
    }
   ],
   "source": [
    "for fruit in 'fruits':\n",
    "    print('current letter :',  fruit)"
   ]
  },
  {
   "cell_type": "code",
   "execution_count": 19,
   "id": "17b821b2",
   "metadata": {},
   "outputs": [
    {
     "name": "stdout",
     "output_type": "stream",
     "text": [
      "0\n",
      "1\n",
      "2\n",
      "3\n",
      "4\n",
      "5\n",
      "6\n",
      "7\n",
      "8\n",
      "9\n"
     ]
    }
   ],
   "source": [
    "for Shiv in range(10):\n",
    "    print(Shiv)"
   ]
  },
  {
   "cell_type": "code",
   "execution_count": 23,
   "id": "46364a27",
   "metadata": {},
   "outputs": [
    {
     "name": "stdout",
     "output_type": "stream",
     "text": [
      "10 equals 2 * 5\n",
      "12 equals 2 * 6\n",
      "14 equals 2 * 7\n",
      "16 equals 2 * 8\n",
      "18 equals 2 * 9\n"
     ]
    }
   ],
   "source": [
    "for num in range(10,20):\n",
    "    for i in range(2,num):\n",
    "        if num%i == 0:\n",
    "            j=num/i\n",
    "            print('%d equals %d * %d' % (num,i,j))\n",
    "        break\n",
    "    else:\n",
    "        print(num, 'is a prime number')\n",
    "        break"
   ]
  },
  {
   "cell_type": "code",
   "execution_count": 24,
   "id": "d2ed9026",
   "metadata": {},
   "outputs": [
    {
     "name": "stdout",
     "output_type": "stream",
     "text": [
      "10 equals 1 * 10\n",
      "11 equals 1 * 11\n",
      "12 equals 1 * 12\n",
      "13 equals 1 * 13\n",
      "14 equals 1 * 14\n",
      "15 equals 1 * 15\n",
      "16 equals 1 * 16\n",
      "17 equals 1 * 17\n",
      "18 equals 1 * 18\n",
      "19 equals 1 * 19\n"
     ]
    }
   ],
   "source": [
    "for num in range(10,20):\n",
    "    for i in range(1,num):\n",
    "        if num%i == 0:\n",
    "            j=num/i\n",
    "            print('%d equals %d * %d' % (num,i,j))\n",
    "        break\n",
    "    else:\n",
    "        print(num, 'is a prime number')\n",
    "        break"
   ]
  },
  {
   "cell_type": "code",
   "execution_count": 25,
   "id": "98647e6c",
   "metadata": {},
   "outputs": [
    {
     "name": "stdout",
     "output_type": "stream",
     "text": [
      "10 equals 2 * 5\n",
      "12 equals 2 * 6\n",
      "14 equals 2 * 7\n",
      "16 equals 2 * 8\n",
      "18 equals 2 * 9\n"
     ]
    }
   ],
   "source": [
    "for num in range(10,20):\n",
    "    for i in range(2,num):\n",
    "        if num%i == 0:\n",
    "            j=num/i\n",
    "            print('%d equals %d * %d' % (num,i,j))\n",
    "        break"
   ]
  },
  {
   "cell_type": "code",
   "execution_count": 31,
   "id": "1d454ebb",
   "metadata": {},
   "outputs": [
    {
     "name": "stdout",
     "output_type": "stream",
     "text": [
      "10 equals 2 * 5\n",
      "11 is a prime number\n",
      "12 equals 2 * 6\n",
      "13 is a prime number\n",
      "14 equals 2 * 7\n",
      "15 is a prime number\n",
      "16 equals 2 * 8\n",
      "17 is a prime number\n",
      "18 equals 2 * 9\n",
      "19 is a prime number\n"
     ]
    }
   ],
   "source": [
    "for num in range(10,20):\n",
    "    for i in range(2,num):\n",
    "        if num%i == 0:\n",
    "            j=num/i\n",
    "            print('%d equals %d * %d' % (num,i,j))\n",
    "            break\n",
    "        else:\n",
    "            print(num, 'is a prime number')\n",
    "        break"
   ]
  },
  {
   "cell_type": "code",
   "execution_count": 32,
   "id": "b5ee4dbd",
   "metadata": {},
   "outputs": [
    {
     "data": {
      "text/plain": [
       "3.141592653589793"
      ]
     },
     "execution_count": 32,
     "metadata": {},
     "output_type": "execute_result"
    }
   ],
   "source": [
    "from math import pi\n",
    "pi"
   ]
  },
  {
   "cell_type": "code",
   "execution_count": 34,
   "id": "e351a5f2",
   "metadata": {},
   "outputs": [
    {
     "data": {
      "text/plain": [
       "12.566370614359172"
      ]
     },
     "execution_count": 34,
     "metadata": {},
     "output_type": "execute_result"
    }
   ],
   "source": [
    "area = pi * 2**2\n",
    "area"
   ]
  },
  {
   "cell_type": "code",
   "execution_count": 36,
   "id": "0f5365b9",
   "metadata": {},
   "outputs": [
    {
     "data": {
      "text/plain": [
       "314.1592653589793"
      ]
     },
     "execution_count": 36,
     "metadata": {},
     "output_type": "execute_result"
    }
   ],
   "source": [
    "# find the area of circle\n",
    "\n",
    "radious = 10\n",
    "Area = pi*radious*radious\n",
    "Area"
   ]
  },
  {
   "cell_type": "markdown",
   "id": "57acfc94",
   "metadata": {},
   "source": [
    "# Conditional Statement"
   ]
  },
  {
   "cell_type": "code",
   "execution_count": 37,
   "id": "adb01063",
   "metadata": {},
   "outputs": [
    {
     "name": "stdout",
     "output_type": "stream",
     "text": [
      "5 is positive number\n",
      "statement is true\n"
     ]
    }
   ],
   "source": [
    "# If statement\n",
    "\n",
    "num = 5\n",
    "if num>0:\n",
    "    print(num, 'is positive number')\n",
    "print('statement is true')"
   ]
  },
  {
   "cell_type": "code",
   "execution_count": 38,
   "id": "5cb3b95d",
   "metadata": {},
   "outputs": [
    {
     "name": "stdout",
     "output_type": "stream",
     "text": [
      "-5 is negative number\n"
     ]
    }
   ],
   "source": [
    "num = -5\n",
    "if num>0:\n",
    "    print(num, 'is positive number')\n",
    "else:\n",
    "    print(num,'is negative number')"
   ]
  },
  {
   "cell_type": "code",
   "execution_count": 39,
   "id": "a14124fc",
   "metadata": {},
   "outputs": [
    {
     "name": "stdout",
     "output_type": "stream",
     "text": [
      "1 is positive number\n"
     ]
    }
   ],
   "source": [
    "num = 1\n",
    "if num>0:\n",
    "    print(num, 'is positive number')\n",
    "else:\n",
    "    print(num,'is negative number')"
   ]
  },
  {
   "cell_type": "code",
   "execution_count": 54,
   "id": "5b039b4d",
   "metadata": {},
   "outputs": [
    {
     "name": "stdout",
     "output_type": "stream",
     "text": [
      "1 is positive number\n"
     ]
    }
   ],
   "source": [
    "# Nested Loops\n",
    "\n",
    "num = 1\n",
    "if num>=0:\n",
    "    if num == 0:\n",
    "        print(num,' is zero')\n",
    "    else:\n",
    "        print(num,'is positive number')\n",
    "else:\n",
    "    print(num,'is negative number')"
   ]
  },
  {
   "cell_type": "code",
   "execution_count": 51,
   "id": "30c37317",
   "metadata": {},
   "outputs": [
    {
     "name": "stdout",
     "output_type": "stream",
     "text": [
      "-1 is negative number\n"
     ]
    }
   ],
   "source": [
    "num = -1\n",
    "if num>=0:\n",
    "    if num == 0:\n",
    "        print(num,'is zero')\n",
    "    else:\n",
    "        print(num,'is positive number')\n",
    "else:\n",
    "    print(num,'is negative number')"
   ]
  },
  {
   "cell_type": "code",
   "execution_count": 53,
   "id": "93796579",
   "metadata": {},
   "outputs": [
    {
     "name": "stdout",
     "output_type": "stream",
     "text": [
      "0 is zero\n"
     ]
    }
   ],
   "source": [
    "num = 0\n",
    "if num>=0:\n",
    "    if num == 0:\n",
    "        print(num,'is zero')\n",
    "    else:\n",
    "        print(num,'is positive number')\n",
    "else:\n",
    "    print(num,'is negative number')"
   ]
  },
  {
   "cell_type": "markdown",
   "id": "1db332e6",
   "metadata": {},
   "source": [
    "# Calculater"
   ]
  },
  {
   "cell_type": "code",
   "execution_count": 66,
   "id": "48b23d16",
   "metadata": {},
   "outputs": [
    {
     "name": "stdout",
     "output_type": "stream",
     "text": [
      "Select operation\n",
      "1, Addition\n",
      "2, Subtract\n",
      "3, Multiply\n",
      "4, Divide\n",
      "Enter choice (1/2/3/4): 4\n",
      "Enter the first number: 4\n",
      "Enter the second number: 2\n",
      "4 / 2 = 2.0\n"
     ]
    }
   ],
   "source": [
    "#Creat function for each operation\n",
    "#This function add two number\n",
    "\n",
    "def add(x,y):\n",
    "    return x+y\n",
    "\n",
    "#This function substraction two number\n",
    "\n",
    "def subtract(x,y):\n",
    "    return x-y\n",
    "\n",
    "#This function multiply two number\n",
    "\n",
    "def multiply(x,y):\n",
    "    return x*y\n",
    "\n",
    "#This function division two number\n",
    "\n",
    "def divide(x,y):\n",
    "    return x/y\n",
    "\n",
    "print(\"Select operation\")\n",
    "print('1, Addition')\n",
    "print('2, Subtract')\n",
    "print('3, Multiply')\n",
    "print('4, divide')\n",
    "\n",
    "choice = input(\"Enter choice (1/2/3/4): \")\n",
    "\n",
    "num1 = int(input(\"Enter the first number: \"))\n",
    "num2 = int(input(\"Enter the second number: \"))\n",
    "\n",
    "if choice == '1':\n",
    "    print(num1, '+', num2,'=', add(num1,num2))\n",
    "elif choice == '2':\n",
    "    print(num1, '-', num2,'=', subtract(num1,num2))\n",
    "elif choice == '3':\n",
    "    print(num1, '*', num2,'=', multiply(num1,num2))\n",
    "elif choice == '4':\n",
    "    print(num1, '/', num2,'=', divide(num1,num2))\n",
    "else:\n",
    "    print(\"Invalid Input\")"
   ]
  },
  {
   "cell_type": "code",
   "execution_count": null,
   "id": "176227f2",
   "metadata": {},
   "outputs": [],
   "source": [
    "print(\"Select operation\")\n",
    "print('1, Addition')\n",
    "print('2, Subtract')\n",
    "print('3, Multiply')\n",
    "print('4, divide')\n",
    "\n",
    "choice = input(\"Enter choice (1/2/3/4): \")\n",
    "\n",
    "num1 = float(input(\"Enter the first number: \"))\n",
    "num2 = float(input(\"Enter the second number: \"))\n",
    "\n",
    "if choice == '1':\n",
    "    print(num1, '+', num2,'=', add(num1,num2))\n",
    "elif choice == '2':\n",
    "    print(num1, '-', num2,'=', subtract(num1,num2))\n",
    "elif choice == '3':\n",
    "    print(num1, '*', num2,'=', multiply(num1,num2))\n",
    "elif choice == '4':\n",
    "    print(num1, '/', num2,'=', divide(num1,num2))\n",
    "else:\n",
    "    print(\"Invalid Input\")"
   ]
  },
  {
   "cell_type": "code",
   "execution_count": null,
   "id": "55ba22f2",
   "metadata": {},
   "outputs": [],
   "source": [
    "print(\"Select operation\")\n",
    "print('1, Addition')\n",
    "print('2, Subtract')\n",
    "print('3, Multiply')\n",
    "print('4, divide')\n",
    "\n",
    "choice = input(\"Enter choice (1/2/3/4): \")\n",
    "\n",
    "num1 = int(input(\"Enter the first number: \"))\n",
    "num2 = int(input(\"Enter the second number: \"))\n",
    "\n",
    "if choice == '1':\n",
    "    print(num1, '+', num2,'=', add(num1,num2))\n",
    "elif choice == '2':\n",
    "    print(num1, '-', num2,'=', subtract(num1,num2))\n",
    "elif choice == '3':\n",
    "    print(num1, '*', num2,'=', multiply(num1,num2))\n",
    "elif choice == '4':\n",
    "    print(num1, '/', num2,'=', divide(num1,num2))\n",
    "else:\n",
    "    print(\"Invalid Input\")"
   ]
  },
  {
   "cell_type": "code",
   "execution_count": null,
   "id": "f1c14975",
   "metadata": {},
   "outputs": [],
   "source": []
  }
 ],
 "metadata": {
  "kernelspec": {
   "display_name": "Python 3 (ipykernel)",
   "language": "python",
   "name": "python3"
  },
  "language_info": {
   "codemirror_mode": {
    "name": "ipython",
    "version": 3
   },
   "file_extension": ".py",
   "mimetype": "text/x-python",
   "name": "python",
   "nbconvert_exporter": "python",
   "pygments_lexer": "ipython3",
   "version": "3.9.12"
  }
 },
 "nbformat": 4,
 "nbformat_minor": 5
}
